{
  "nbformat": 4,
  "nbformat_minor": 0,
  "metadata": {
    "colab": {
      "name": "Curso_de_Estatística_Parte_4.ipynb",
      "provenance": [],
      "collapsed_sections": []
    },
    "kernelspec": {
      "display_name": "Python 3",
      "language": "python",
      "name": "python3"
    },
    "language_info": {
      "codemirror_mode": {
        "name": "ipython",
        "version": 3
      },
      "file_extension": ".py",
      "mimetype": "text/x-python",
      "name": "python",
      "nbconvert_exporter": "python",
      "pygments_lexer": "ipython3",
      "version": "3.6.5"
    }
  },
  "cells": [
    {
      "cell_type": "markdown",
      "metadata": {
        "id": "WvMflodMjQKe"
      },
      "source": [
        "# <font color=green size=10>CURSO DE ESTATÍSTICA - PARTE 4</font>\n",
        "***"
      ]
    },
    {
      "cell_type": "markdown",
      "metadata": {
        "id": "cVgsZ_E3jQKg"
      },
      "source": [
        "# <font color=green>1 CONHECENDO OS DADOS</font>\n",
        "***"
      ]
    },
    {
      "cell_type": "markdown",
      "metadata": {
        "id": "TDjqYYNojQKh"
      },
      "source": [
        "## <font color=green>1.1 Dataset do projeto</font>\n",
        "***"
      ]
    },
    {
      "cell_type": "markdown",
      "metadata": {
        "id": "iN1gIbaKjQKh"
      },
      "source": [
        "### Pesquisa Nacional por Amostra de Domicílios - 2015\n",
        "\n",
        "A <b>Pesquisa Nacional por Amostra de Domicílios - PNAD</b> investiga anualmente, de forma permanente, características gerais da população, de educação, trabalho, rendimento e habitação e outras, com periodicidade variável, de acordo com as necessidades de informação para o país, como as características sobre migração, fecundidade, nupcialidade, saúde, segurança alimentar, entre outros temas. O levantamento dessas estatísticas constitui, ao longo dos 49 anos de realização da pesquisa, um importante instrumento para formulação, validação e avaliação de políticas orientadas para o desenvolvimento socioeconômico e a melhoria das condições de vida no Brasil."
      ]
    },
    {
      "cell_type": "markdown",
      "metadata": {
        "id": "U6V7br1RjQKi"
      },
      "source": [
        "### Fonte dos Dados\n",
        "\n",
        "https://ww2.ibge.gov.br/home/estatistica/populacao/trabalhoerendimento/pnad2015/microdados.shtm"
      ]
    },
    {
      "cell_type": "markdown",
      "metadata": {
        "id": "r0Fe_qnzjQKj"
      },
      "source": [
        "### Variáveis utilizadas\n",
        "\n",
        "> ### Renda\n",
        "> ***\n",
        "\n",
        "Rendimento mensal do trabalho principal para pessoas de 10 anos ou mais de idade.\n",
        "\n",
        "> ### Idade\n",
        "> ***\n",
        "\n",
        "Idade do morador na data de referência em anos.\n",
        "\n",
        "> ### Altura (elaboração própria)\n",
        "> ***\n",
        "\n",
        "Altura do morador em metros.\n",
        "\n",
        "> ### UF\n",
        "> ***\n",
        "\n",
        "|Código|Descrição|\n",
        "|---|---|\n",
        "|11|Rondônia|\n",
        "|12|Acre|\n",
        "|13|Amazonas|\n",
        "|14|Roraima|\n",
        "|15|Pará|\n",
        "|16|Amapá|\n",
        "|17|Tocantins|\n",
        "|21|Maranhão|\n",
        "|22|Piauí|\n",
        "|23|Ceará|\n",
        "|24|Rio Grande do Norte|\n",
        "|25|Paraíba|\n",
        "|26|Pernambuco|\n",
        "|27|Alagoas|\n",
        "|28|Sergipe|\n",
        "|29|Bahia|\n",
        "|31|Minas Gerais|\n",
        "|32|Espírito Santo|\n",
        "|33|Rio de Janeiro|\n",
        "|35|São Paulo|\n",
        "|41|Paraná|\n",
        "|42|Santa Catarina|\n",
        "|43|Rio Grande do Sul|\n",
        "|50|Mato Grosso do Sul|\n",
        "|51|Mato Grosso|\n",
        "|52|Goiás|\n",
        "|53|Distrito Federal|\n",
        "\n",
        "> ### Sexo\t\n",
        "> ***\n",
        "\n",
        "|Código|Descrição|\n",
        "|---|---|\n",
        "|0|Masculino|\n",
        "|1|Feminino|\n",
        "\n",
        "> ### Anos de Estudo\n",
        "> ***\n",
        "\n",
        "|Código|Descrição|\n",
        "|---|---|\n",
        "|1|Sem instrução e menos de 1 ano|\n",
        "|2|1 ano|\n",
        "|3|2 anos|\n",
        "|4|3 anos|\n",
        "|5|4 anos|\n",
        "|6|5 anos|\n",
        "|7|6 anos|\n",
        "|8|7 anos|\n",
        "|9|8 anos|\n",
        "|10|9 anos|\n",
        "|11|10 anos|\n",
        "|12|11 anos|\n",
        "|13|12 anos|\n",
        "|14|13 anos|\n",
        "|15|14 anos|\n",
        "|16|15 anos ou mais|\n",
        "|17|Não determinados| \n",
        "||Não aplicável|\n",
        "\n",
        "> ### Cor\n",
        "> ***\n",
        "\n",
        "|Código|Descrição|\n",
        "|---|---|\n",
        "|0|Indígena|\n",
        "|2|Branca|\n",
        "|4|Preta|\n",
        "|6|Amarela|\n",
        "|8|Parda|\n",
        "|9|Sem declaração|"
      ]
    },
    {
      "cell_type": "markdown",
      "metadata": {
        "id": "OK1IQH5cX7Gb"
      },
      "source": [
        "#### <font color='red'>Observação</font>\n",
        "***\n",
        "> Os seguintes tratamentos foram realizados nos dados originais:\n",
        "> 1. Foram eliminados os registros onde a <b>Renda</b> era inválida (999 999 999 999);\n",
        "> 2. Foram eliminados os registros onde a <b>Renda</b> era missing;\n",
        "> 3. Foram considerados somente os registros das <b>Pessoas de Referência</b> de cada domicílio (responsável pelo domicílio)."
      ]
    },
    {
      "cell_type": "markdown",
      "metadata": {
        "id": "_mFnZ15pcmu1"
      },
      "source": [
        "### Solução do problema com dependência do statsmodels"
      ]
    },
    {
      "cell_type": "code",
      "metadata": {
        "id": "m5QYUoH4cnp1"
      },
      "source": [
        "# Retire o comentário da linha de código abaixo caso precise fazer a correção\n",
        "\n",
        "# !pip install scipy==1.2 --upgrade"
      ],
      "execution_count": 112,
      "outputs": []
    },
    {
      "cell_type": "markdown",
      "metadata": {
        "id": "MAO1aY6GcajB"
      },
      "source": [
        "### Importando bibliotecas\n",
        "\n",
        "https://pandas.pydata.org/\n",
        "\n",
        "https://www.numpy.org/\n",
        "\n",
        "https://seaborn.pydata.org/"
      ]
    },
    {
      "cell_type": "code",
      "metadata": {
        "id": "8QgOpE-wjQKl"
      },
      "source": [
        "import pandas as pd\n",
        "import numpy as np\n",
        "import seaborn as sns"
      ],
      "execution_count": 113,
      "outputs": []
    },
    {
      "cell_type": "markdown",
      "metadata": {
        "id": "8Rw70V6ojQKk"
      },
      "source": [
        "### Lendo o dataset do projeto"
      ]
    },
    {
      "cell_type": "code",
      "metadata": {
        "id": "ufRZ7TLwjQKo"
      },
      "source": [
        "dados = pd.read_csv('dados.csv')"
      ],
      "execution_count": 114,
      "outputs": []
    },
    {
      "cell_type": "code",
      "metadata": {
        "colab": {
          "base_uri": "https://localhost:8080/",
          "height": 204
        },
        "id": "GsC_WhLFjQKq",
        "scrolled": true,
        "outputId": "ff9782aa-547f-42da-aa03-1117df6e108c"
      },
      "source": [
        "dados.head()"
      ],
      "execution_count": 115,
      "outputs": [
        {
          "output_type": "execute_result",
          "data": {
            "text/html": [
              "<div>\n",
              "<style scoped>\n",
              "    .dataframe tbody tr th:only-of-type {\n",
              "        vertical-align: middle;\n",
              "    }\n",
              "\n",
              "    .dataframe tbody tr th {\n",
              "        vertical-align: top;\n",
              "    }\n",
              "\n",
              "    .dataframe thead th {\n",
              "        text-align: right;\n",
              "    }\n",
              "</style>\n",
              "<table border=\"1\" class=\"dataframe\">\n",
              "  <thead>\n",
              "    <tr style=\"text-align: right;\">\n",
              "      <th></th>\n",
              "      <th>UF</th>\n",
              "      <th>Sexo</th>\n",
              "      <th>Idade</th>\n",
              "      <th>Cor</th>\n",
              "      <th>Anos de Estudo</th>\n",
              "      <th>Renda</th>\n",
              "      <th>Altura</th>\n",
              "    </tr>\n",
              "  </thead>\n",
              "  <tbody>\n",
              "    <tr>\n",
              "      <th>0</th>\n",
              "      <td>11</td>\n",
              "      <td>0</td>\n",
              "      <td>23</td>\n",
              "      <td>8</td>\n",
              "      <td>12</td>\n",
              "      <td>800</td>\n",
              "      <td>1.603808</td>\n",
              "    </tr>\n",
              "    <tr>\n",
              "      <th>1</th>\n",
              "      <td>11</td>\n",
              "      <td>1</td>\n",
              "      <td>23</td>\n",
              "      <td>2</td>\n",
              "      <td>12</td>\n",
              "      <td>1150</td>\n",
              "      <td>1.739790</td>\n",
              "    </tr>\n",
              "    <tr>\n",
              "      <th>2</th>\n",
              "      <td>11</td>\n",
              "      <td>1</td>\n",
              "      <td>35</td>\n",
              "      <td>8</td>\n",
              "      <td>15</td>\n",
              "      <td>880</td>\n",
              "      <td>1.760444</td>\n",
              "    </tr>\n",
              "    <tr>\n",
              "      <th>3</th>\n",
              "      <td>11</td>\n",
              "      <td>0</td>\n",
              "      <td>46</td>\n",
              "      <td>2</td>\n",
              "      <td>6</td>\n",
              "      <td>3500</td>\n",
              "      <td>1.783158</td>\n",
              "    </tr>\n",
              "    <tr>\n",
              "      <th>4</th>\n",
              "      <td>11</td>\n",
              "      <td>1</td>\n",
              "      <td>47</td>\n",
              "      <td>8</td>\n",
              "      <td>9</td>\n",
              "      <td>150</td>\n",
              "      <td>1.690631</td>\n",
              "    </tr>\n",
              "  </tbody>\n",
              "</table>\n",
              "</div>"
            ],
            "text/plain": [
              "   UF  Sexo  Idade  Cor  Anos de Estudo  Renda    Altura\n",
              "0  11     0     23    8              12    800  1.603808\n",
              "1  11     1     23    2              12   1150  1.739790\n",
              "2  11     1     35    8              15    880  1.760444\n",
              "3  11     0     46    2               6   3500  1.783158\n",
              "4  11     1     47    8               9    150  1.690631"
            ]
          },
          "metadata": {
            "tags": []
          },
          "execution_count": 115
        }
      ]
    },
    {
      "cell_type": "markdown",
      "metadata": {
        "id": "I8SZvx_GcajO"
      },
      "source": [
        "---"
      ]
    },
    {
      "cell_type": "markdown",
      "metadata": {
        "id": "dPTT675fcajP"
      },
      "source": [
        "# <font color=green>2 RODANDO UMA REGRESSÃO LINEAR</font>\n",
        "***"
      ]
    },
    {
      "cell_type": "markdown",
      "metadata": {
        "id": "yRxm2BrFcajQ"
      },
      "source": [
        "## Dataset de exemplo\n",
        "> ### $Y$ = Gasto das famílias\n",
        "> ### $X$ = Renda das Famílias"
      ]
    },
    {
      "cell_type": "code",
      "metadata": {
        "id": "TvENegfwcajQ"
      },
      "source": [
        "dataset = {\n",
        "    'Y': [3011, 1305, 1879, 2654, 2849, 1068, 2892, 2543, 3074, 849, 2184, 2943, 1357, 2755, 2163, 3099, 1600, 353, 1778, 740, 2129, 3302, 2412, 2683, 2515, 2395, 2292, 1000, 600, 1864, 3027, 1978, 2791, 1982, 900, 1964, 1247, 3067, 700, 1500, 3110, 2644, 1378, 2601, 501, 1292, 2125, 1431, 2260, 1770],\n",
        "    'X': [9714, 3728, 6062, 8845, 8378, 3338, 8507, 7947, 9915, 1632, 6825, 8918, 4100, 9184, 6180, 9997, 4500, 1069, 5925, 2466, 6083, 9712, 7780, 8383, 7185, 7483, 7640, 2100, 2000, 6012, 8902, 5345, 8210, 5662, 2700, 6546, 2900, 9894, 1500, 5000, 8885, 8813, 3446, 7881, 1164, 3401, 6641, 3329, 6648, 4800]\n",
        "}"
      ],
      "execution_count": 116,
      "outputs": []
    },
    {
      "cell_type": "code",
      "metadata": {
        "colab": {
          "base_uri": "https://localhost:8080/",
          "height": 204
        },
        "id": "HfeWvtFWcajT",
        "outputId": "46a2a749-ffc4-491e-87df-e3d11f53ca90"
      },
      "source": [
        "dataset = pd.DataFrame(dataset)\n",
        "dataset.head()"
      ],
      "execution_count": 117,
      "outputs": [
        {
          "output_type": "execute_result",
          "data": {
            "text/html": [
              "<div>\n",
              "<style scoped>\n",
              "    .dataframe tbody tr th:only-of-type {\n",
              "        vertical-align: middle;\n",
              "    }\n",
              "\n",
              "    .dataframe tbody tr th {\n",
              "        vertical-align: top;\n",
              "    }\n",
              "\n",
              "    .dataframe thead th {\n",
              "        text-align: right;\n",
              "    }\n",
              "</style>\n",
              "<table border=\"1\" class=\"dataframe\">\n",
              "  <thead>\n",
              "    <tr style=\"text-align: right;\">\n",
              "      <th></th>\n",
              "      <th>Y</th>\n",
              "      <th>X</th>\n",
              "    </tr>\n",
              "  </thead>\n",
              "  <tbody>\n",
              "    <tr>\n",
              "      <th>0</th>\n",
              "      <td>3011</td>\n",
              "      <td>9714</td>\n",
              "    </tr>\n",
              "    <tr>\n",
              "      <th>1</th>\n",
              "      <td>1305</td>\n",
              "      <td>3728</td>\n",
              "    </tr>\n",
              "    <tr>\n",
              "      <th>2</th>\n",
              "      <td>1879</td>\n",
              "      <td>6062</td>\n",
              "    </tr>\n",
              "    <tr>\n",
              "      <th>3</th>\n",
              "      <td>2654</td>\n",
              "      <td>8845</td>\n",
              "    </tr>\n",
              "    <tr>\n",
              "      <th>4</th>\n",
              "      <td>2849</td>\n",
              "      <td>8378</td>\n",
              "    </tr>\n",
              "  </tbody>\n",
              "</table>\n",
              "</div>"
            ],
            "text/plain": [
              "      Y     X\n",
              "0  3011  9714\n",
              "1  1305  3728\n",
              "2  1879  6062\n",
              "3  2654  8845\n",
              "4  2849  8378"
            ]
          },
          "metadata": {
            "tags": []
          },
          "execution_count": 117
        }
      ]
    },
    {
      "cell_type": "code",
      "metadata": {
        "colab": {
          "base_uri": "https://localhost:8080/"
        },
        "id": "NGPOPV1VcajX",
        "outputId": "dfdbc73c-0979-451e-8e17-99a4e4456266"
      },
      "source": [
        "dataset.shape"
      ],
      "execution_count": 118,
      "outputs": [
        {
          "output_type": "execute_result",
          "data": {
            "text/plain": [
              "(50, 2)"
            ]
          },
          "metadata": {
            "tags": []
          },
          "execution_count": 118
        }
      ]
    },
    {
      "cell_type": "markdown",
      "metadata": {
        "id": "y0Lt1C-Ccaja"
      },
      "source": [
        "### Estatísticas descritivas"
      ]
    },
    {
      "cell_type": "code",
      "metadata": {
        "colab": {
          "base_uri": "https://localhost:8080/",
          "height": 297
        },
        "id": "POZusgEccajb",
        "outputId": "270e6add-fd76-4311-98ab-23aa407954c3"
      },
      "source": [
        "dataset.describe()"
      ],
      "execution_count": 119,
      "outputs": [
        {
          "output_type": "execute_result",
          "data": {
            "text/html": [
              "<div>\n",
              "<style scoped>\n",
              "    .dataframe tbody tr th:only-of-type {\n",
              "        vertical-align: middle;\n",
              "    }\n",
              "\n",
              "    .dataframe tbody tr th {\n",
              "        vertical-align: top;\n",
              "    }\n",
              "\n",
              "    .dataframe thead th {\n",
              "        text-align: right;\n",
              "    }\n",
              "</style>\n",
              "<table border=\"1\" class=\"dataframe\">\n",
              "  <thead>\n",
              "    <tr style=\"text-align: right;\">\n",
              "      <th></th>\n",
              "      <th>Y</th>\n",
              "      <th>X</th>\n",
              "    </tr>\n",
              "  </thead>\n",
              "  <tbody>\n",
              "    <tr>\n",
              "      <th>count</th>\n",
              "      <td>50.000000</td>\n",
              "      <td>50.000000</td>\n",
              "    </tr>\n",
              "    <tr>\n",
              "      <th>mean</th>\n",
              "      <td>2011.120000</td>\n",
              "      <td>6065.500000</td>\n",
              "    </tr>\n",
              "    <tr>\n",
              "      <th>std</th>\n",
              "      <td>817.214648</td>\n",
              "      <td>2707.187812</td>\n",
              "    </tr>\n",
              "    <tr>\n",
              "      <th>min</th>\n",
              "      <td>353.000000</td>\n",
              "      <td>1069.000000</td>\n",
              "    </tr>\n",
              "    <tr>\n",
              "      <th>25%</th>\n",
              "      <td>1362.250000</td>\n",
              "      <td>3516.500000</td>\n",
              "    </tr>\n",
              "    <tr>\n",
              "      <th>50%</th>\n",
              "      <td>2127.000000</td>\n",
              "      <td>6363.000000</td>\n",
              "    </tr>\n",
              "    <tr>\n",
              "      <th>75%</th>\n",
              "      <td>2675.750000</td>\n",
              "      <td>8381.750000</td>\n",
              "    </tr>\n",
              "    <tr>\n",
              "      <th>max</th>\n",
              "      <td>3302.000000</td>\n",
              "      <td>9997.000000</td>\n",
              "    </tr>\n",
              "  </tbody>\n",
              "</table>\n",
              "</div>"
            ],
            "text/plain": [
              "                 Y            X\n",
              "count    50.000000    50.000000\n",
              "mean   2011.120000  6065.500000\n",
              "std     817.214648  2707.187812\n",
              "min     353.000000  1069.000000\n",
              "25%    1362.250000  3516.500000\n",
              "50%    2127.000000  6363.000000\n",
              "75%    2675.750000  8381.750000\n",
              "max    3302.000000  9997.000000"
            ]
          },
          "metadata": {
            "tags": []
          },
          "execution_count": 119
        }
      ]
    },
    {
      "cell_type": "markdown",
      "metadata": {
        "id": "tVozByhrcajd"
      },
      "source": [
        "### Análise gráfica\n",
        "\n",
        "https://seaborn.pydata.org/generated/seaborn.boxplot.html"
      ]
    },
    {
      "cell_type": "code",
      "metadata": {
        "colab": {
          "base_uri": "https://localhost:8080/",
          "height": 431
        },
        "id": "xPtAowUacajf",
        "outputId": "f2ec8c3a-4b66-4bc0-fa33-64b16c660173"
      },
      "source": [
        "ax = sns.boxplot(data=dataset, orient='h', width=0.5)\n",
        "ax.figure.set_size_inches(12, 6)\n",
        "ax.set_title('Box plot', fontsize=20)\n",
        "ax.set_xlabel('Reais (R$)', fontsize=16)\n",
        "ax"
      ],
      "execution_count": 120,
      "outputs": [
        {
          "output_type": "execute_result",
          "data": {
            "text/plain": [
              "<matplotlib.axes._subplots.AxesSubplot at 0x7f8289f34828>"
            ]
          },
          "metadata": {
            "tags": []
          },
          "execution_count": 120
        },
        {
          "output_type": "display_data",
          "data": {
            "image/png": "[encoded data removed]",
            "text/plain": [
              "<Figure size 864x432 with 1 Axes>"
            ]
          },
          "metadata": {
            "tags": [],
            "needs_background": "light"
          }
        }
      ]
    },
    {
      "cell_type": "markdown",
      "metadata": {
        "id": "Fg0MIFfgcaji"
      },
      "source": [
        "https://seaborn.pydata.org/generated/seaborn.lmplot.html"
      ]
    },
    {
      "cell_type": "code",
      "metadata": {
        "colab": {
          "base_uri": "https://localhost:8080/",
          "height": 490
        },
        "id": "s2ZFx_INcajj",
        "outputId": "1a4a47b3-90fd-4d83-c0aa-b4fb5cee7175"
      },
      "source": [
        "ax = sns.lmplot(x=\"X\", y=\"Y\", data=dataset)\n",
        "ax.fig.set_size_inches(12, 6)\n",
        "ax.fig.suptitle('Reta de Regressão - Gasto X Renda', fontsize=16, y=1.02)\n",
        "ax.set_xlabels(\"Renda das Famílias\", fontsize=14)\n",
        "ax.set_ylabels(\"Gasto das Famílias\", fontsize=14)\n",
        "ax"
      ],
      "execution_count": 121,
      "outputs": [
        {
          "output_type": "execute_result",
          "data": {
            "text/plain": [
              "<seaborn.axisgrid.FacetGrid at 0x7f8289d63c88>"
            ]
          },
          "metadata": {
            "tags": []
          },
          "execution_count": 121
        },
        {
          "output_type": "display_data",
          "data": {
            "image/png": "[encoded data removed]",
            "text/plain": [
              "<Figure size 864x432 with 1 Axes>"
            ]
          },
          "metadata": {
            "tags": [],
            "needs_background": "light"
          }
        }
      ]
    },
    {
      "cell_type": "markdown",
      "metadata": {
        "id": "c2OpdF85cajl"
      },
      "source": [
        "### Análise da correlação\n",
        "\n",
        "https://pandas.pydata.org/pandas-docs/stable/reference/api/pandas.DataFrame.corr.html"
      ]
    },
    {
      "cell_type": "code",
      "metadata": {
        "colab": {
          "base_uri": "https://localhost:8080/",
          "height": 111
        },
        "id": "eQEiUOdccajm",
        "scrolled": true,
        "outputId": "08c7e5e5-1127-4885-c2c7-693054fc077e"
      },
      "source": [
        "dataset.corr()"
      ],
      "execution_count": 122,
      "outputs": [
        {
          "output_type": "execute_result",
          "data": {
            "text/html": [
              "<div>\n",
              "<style scoped>\n",
              "    .dataframe tbody tr th:only-of-type {\n",
              "        vertical-align: middle;\n",
              "    }\n",
              "\n",
              "    .dataframe tbody tr th {\n",
              "        vertical-align: top;\n",
              "    }\n",
              "\n",
              "    .dataframe thead th {\n",
              "        text-align: right;\n",
              "    }\n",
              "</style>\n",
              "<table border=\"1\" class=\"dataframe\">\n",
              "  <thead>\n",
              "    <tr style=\"text-align: right;\">\n",
              "      <th></th>\n",
              "      <th>Y</th>\n",
              "      <th>X</th>\n",
              "    </tr>\n",
              "  </thead>\n",
              "  <tbody>\n",
              "    <tr>\n",
              "      <th>Y</th>\n",
              "      <td>1.000000</td>\n",
              "      <td>0.984835</td>\n",
              "    </tr>\n",
              "    <tr>\n",
              "      <th>X</th>\n",
              "      <td>0.984835</td>\n",
              "      <td>1.000000</td>\n",
              "    </tr>\n",
              "  </tbody>\n",
              "</table>\n",
              "</div>"
            ],
            "text/plain": [
              "          Y         X\n",
              "Y  1.000000  0.984835\n",
              "X  0.984835  1.000000"
            ]
          },
          "metadata": {
            "tags": []
          },
          "execution_count": 122
        }
      ]
    },
    {
      "cell_type": "markdown",
      "metadata": {
        "id": "cPOlHTg2cajo"
      },
      "source": [
        "### Modelo de regressão linear simples\n",
        "\n",
        "https://www.statsmodels.org/stable/regression.html"
      ]
    },
    {
      "cell_type": "code",
      "metadata": {
        "id": "SidSGHeQcajo"
      },
      "source": [
        "import statsmodels.api as sm"
      ],
      "execution_count": 123,
      "outputs": []
    },
    {
      "cell_type": "code",
      "metadata": {
        "id": "iBQFGkf_cajr"
      },
      "source": [
        "Y = dataset.Y\n",
        "X = sm.add_constant(dataset.X)"
      ],
      "execution_count": 124,
      "outputs": []
    },
    {
      "cell_type": "code",
      "metadata": {
        "colab": {
          "base_uri": "https://localhost:8080/"
        },
        "id": "PdS9cDXqcajt",
        "scrolled": true,
        "outputId": "fa342a6e-8e29-45d9-9fb1-d0c34cbdddce"
      },
      "source": [
        "Y.head()"
      ],
      "execution_count": 125,
      "outputs": [
        {
          "output_type": "execute_result",
          "data": {
            "text/plain": [
              "0    3011\n",
              "1    1305\n",
              "2    1879\n",
              "3    2654\n",
              "4    2849\n",
              "Name: Y, dtype: int64"
            ]
          },
          "metadata": {
            "tags": []
          },
          "execution_count": 125
        }
      ]
    },
    {
      "cell_type": "code",
      "metadata": {
        "colab": {
          "base_uri": "https://localhost:8080/",
          "height": 204
        },
        "id": "lBrVRfVfcajv",
        "scrolled": true,
        "outputId": "35597277-e4a0-475e-97b2-8cfba12e76cb"
      },
      "source": [
        "X.head()"
      ],
      "execution_count": 126,
      "outputs": [
        {
          "output_type": "execute_result",
          "data": {
            "text/html": [
              "<div>\n",
              "<style scoped>\n",
              "    .dataframe tbody tr th:only-of-type {\n",
              "        vertical-align: middle;\n",
              "    }\n",
              "\n",
              "    .dataframe tbody tr th {\n",
              "        vertical-align: top;\n",
              "    }\n",
              "\n",
              "    .dataframe thead th {\n",
              "        text-align: right;\n",
              "    }\n",
              "</style>\n",
              "<table border=\"1\" class=\"dataframe\">\n",
              "  <thead>\n",
              "    <tr style=\"text-align: right;\">\n",
              "      <th></th>\n",
              "      <th>const</th>\n",
              "      <th>X</th>\n",
              "    </tr>\n",
              "  </thead>\n",
              "  <tbody>\n",
              "    <tr>\n",
              "      <th>0</th>\n",
              "      <td>1.0</td>\n",
              "      <td>9714</td>\n",
              "    </tr>\n",
              "    <tr>\n",
              "      <th>1</th>\n",
              "      <td>1.0</td>\n",
              "      <td>3728</td>\n",
              "    </tr>\n",
              "    <tr>\n",
              "      <th>2</th>\n",
              "      <td>1.0</td>\n",
              "      <td>6062</td>\n",
              "    </tr>\n",
              "    <tr>\n",
              "      <th>3</th>\n",
              "      <td>1.0</td>\n",
              "      <td>8845</td>\n",
              "    </tr>\n",
              "    <tr>\n",
              "      <th>4</th>\n",
              "      <td>1.0</td>\n",
              "      <td>8378</td>\n",
              "    </tr>\n",
              "  </tbody>\n",
              "</table>\n",
              "</div>"
            ],
            "text/plain": [
              "   const     X\n",
              "0    1.0  9714\n",
              "1    1.0  3728\n",
              "2    1.0  6062\n",
              "3    1.0  8845\n",
              "4    1.0  8378"
            ]
          },
          "metadata": {
            "tags": []
          },
          "execution_count": 126
        }
      ]
    },
    {
      "cell_type": "markdown",
      "metadata": {
        "id": "Dkg9S5tWcajy"
      },
      "source": [
        "### Estimando o modelo"
      ]
    },
    {
      "cell_type": "code",
      "metadata": {
        "id": "9O0dhVTfcajz"
      },
      "source": [
        "resultado_regressao = sm.OLS(Y, X).fit()"
      ],
      "execution_count": 127,
      "outputs": []
    },
    {
      "cell_type": "code",
      "metadata": {
        "colab": {
          "base_uri": "https://localhost:8080/"
        },
        "id": "8W1oGgNecaj0",
        "outputId": "4a2826ce-979d-4efd-ff92-62f1db58d11d"
      },
      "source": [
        "print(resultado_regressao.summary())"
      ],
      "execution_count": 128,
      "outputs": [
        {
          "output_type": "stream",
          "text": [
            "                            OLS Regression Results                            \n",
            "==============================================================================\n",
            "Dep. Variable:                      Y   R-squared:                       0.970\n",
            "Model:                            OLS   Adj. R-squared:                  0.969\n",
            "Method:                 Least Squares   F-statistic:                     1547.\n",
            "Date:                Mon, 30 Nov 2020   Prob (F-statistic):           3.56e-38\n",
            "Time:                        16:48:34   Log-Likelihood:                -318.16\n",
            "No. Observations:                  50   AIC:                             640.3\n",
            "Df Residuals:                      48   BIC:                             644.1\n",
            "Df Model:                           1                                         \n",
            "Covariance Type:            nonrobust                                         \n",
            "==============================================================================\n",
            "                 coef    std err          t      P>|t|      [0.025      0.975]\n",
            "------------------------------------------------------------------------------\n",
            "const        207.9033     50.127      4.148      0.000     107.117     308.690\n",
            "X              0.2973      0.008     39.328      0.000       0.282       0.312\n",
            "==============================================================================\n",
            "Omnibus:                       22.833   Durbin-Watson:                   2.408\n",
            "Prob(Omnibus):                  0.000   Jarque-Bera (JB):                3.915\n",
            "Skew:                           0.073   Prob(JB):                        0.141\n",
            "Kurtosis:                       1.637   Cond. No.                     1.64e+04\n",
            "==============================================================================\n",
            "\n",
            "Warnings:\n",
            "[1] Standard Errors assume that the covariance matrix of the errors is correctly specified.\n",
            "[2] The condition number is large, 1.64e+04. This might indicate that there are\n",
            "strong multicollinearity or other numerical problems.\n"
          ],
          "name": "stdout"
        }
      ]
    },
    {
      "cell_type": "markdown",
      "metadata": {
        "id": "eP2wm9fBcaj2"
      },
      "source": [
        "### Obtendo as previsões dentro da amostra"
      ]
    },
    {
      "cell_type": "code",
      "metadata": {
        "colab": {
          "base_uri": "https://localhost:8080/",
          "height": 1000
        },
        "id": "cbuzGLB-caj2",
        "scrolled": true,
        "outputId": "ab1c0b22-9455-4713-fe62-664044c4dbe9"
      },
      "source": [
        "dataset['Y_previsto'] = resultado_regressao.predict()\n",
        "dataset"
      ],
      "execution_count": 129,
      "outputs": [
        {
          "output_type": "execute_result",
          "data": {
            "text/html": [
              "<div>\n",
              "<style scoped>\n",
              "    .dataframe tbody tr th:only-of-type {\n",
              "        vertical-align: middle;\n",
              "    }\n",
              "\n",
              "    .dataframe tbody tr th {\n",
              "        vertical-align: top;\n",
              "    }\n",
              "\n",
              "    .dataframe thead th {\n",
              "        text-align: right;\n",
              "    }\n",
              "</style>\n",
              "<table border=\"1\" class=\"dataframe\">\n",
              "  <thead>\n",
              "    <tr style=\"text-align: right;\">\n",
              "      <th></th>\n",
              "      <th>Y</th>\n",
              "      <th>X</th>\n",
              "      <th>Y_previsto</th>\n",
              "    </tr>\n",
              "  </thead>\n",
              "  <tbody>\n",
              "    <tr>\n",
              "      <th>0</th>\n",
              "      <td>3011</td>\n",
              "      <td>9714</td>\n",
              "      <td>3095.785086</td>\n",
              "    </tr>\n",
              "    <tr>\n",
              "      <th>1</th>\n",
              "      <td>1305</td>\n",
              "      <td>3728</td>\n",
              "      <td>1316.203010</td>\n",
              "    </tr>\n",
              "    <tr>\n",
              "      <th>2</th>\n",
              "      <td>1879</td>\n",
              "      <td>6062</td>\n",
              "      <td>2010.079483</td>\n",
              "    </tr>\n",
              "    <tr>\n",
              "      <th>3</th>\n",
              "      <td>2654</td>\n",
              "      <td>8845</td>\n",
              "      <td>2837.439476</td>\n",
              "    </tr>\n",
              "    <tr>\n",
              "      <th>4</th>\n",
              "      <td>2849</td>\n",
              "      <td>8378</td>\n",
              "      <td>2698.604723</td>\n",
              "    </tr>\n",
              "    <tr>\n",
              "      <th>5</th>\n",
              "      <td>1068</td>\n",
              "      <td>3338</td>\n",
              "      <td>1200.259640</td>\n",
              "    </tr>\n",
              "    <tr>\n",
              "      <th>6</th>\n",
              "      <td>2892</td>\n",
              "      <td>8507</td>\n",
              "      <td>2736.955222</td>\n",
              "    </tr>\n",
              "    <tr>\n",
              "      <th>7</th>\n",
              "      <td>2543</td>\n",
              "      <td>7947</td>\n",
              "      <td>2570.472435</td>\n",
              "    </tr>\n",
              "    <tr>\n",
              "      <th>8</th>\n",
              "      <td>3074</td>\n",
              "      <td>9915</td>\n",
              "      <td>3155.540515</td>\n",
              "    </tr>\n",
              "    <tr>\n",
              "      <th>9</th>\n",
              "      <td>849</td>\n",
              "      <td>1632</td>\n",
              "      <td>693.081721</td>\n",
              "    </tr>\n",
              "    <tr>\n",
              "      <th>10</th>\n",
              "      <td>2184</td>\n",
              "      <td>6825</td>\n",
              "      <td>2236.912280</td>\n",
              "    </tr>\n",
              "    <tr>\n",
              "      <th>11</th>\n",
              "      <td>2943</td>\n",
              "      <td>8918</td>\n",
              "      <td>2859.141696</td>\n",
              "    </tr>\n",
              "    <tr>\n",
              "      <th>12</th>\n",
              "      <td>1357</td>\n",
              "      <td>4100</td>\n",
              "      <td>1426.795147</td>\n",
              "    </tr>\n",
              "    <tr>\n",
              "      <th>13</th>\n",
              "      <td>2755</td>\n",
              "      <td>9184</td>\n",
              "      <td>2938.221020</td>\n",
              "    </tr>\n",
              "    <tr>\n",
              "      <th>14</th>\n",
              "      <td>2163</td>\n",
              "      <td>6180</td>\n",
              "      <td>2045.159784</td>\n",
              "    </tr>\n",
              "    <tr>\n",
              "      <th>15</th>\n",
              "      <td>3099</td>\n",
              "      <td>9997</td>\n",
              "      <td>3179.918352</td>\n",
              "    </tr>\n",
              "    <tr>\n",
              "      <th>16</th>\n",
              "      <td>1600</td>\n",
              "      <td>4500</td>\n",
              "      <td>1545.711423</td>\n",
              "    </tr>\n",
              "    <tr>\n",
              "      <th>17</th>\n",
              "      <td>353</td>\n",
              "      <td>1069</td>\n",
              "      <td>525.707062</td>\n",
              "    </tr>\n",
              "    <tr>\n",
              "      <th>18</th>\n",
              "      <td>1778</td>\n",
              "      <td>5925</td>\n",
              "      <td>1969.350658</td>\n",
              "    </tr>\n",
              "    <tr>\n",
              "      <th>19</th>\n",
              "      <td>740</td>\n",
              "      <td>2466</td>\n",
              "      <td>941.022158</td>\n",
              "    </tr>\n",
              "    <tr>\n",
              "      <th>20</th>\n",
              "      <td>2129</td>\n",
              "      <td>6083</td>\n",
              "      <td>2016.322587</td>\n",
              "    </tr>\n",
              "    <tr>\n",
              "      <th>21</th>\n",
              "      <td>3302</td>\n",
              "      <td>9712</td>\n",
              "      <td>3095.190505</td>\n",
              "    </tr>\n",
              "    <tr>\n",
              "      <th>22</th>\n",
              "      <td>2412</td>\n",
              "      <td>7780</td>\n",
              "      <td>2520.824890</td>\n",
              "    </tr>\n",
              "    <tr>\n",
              "      <th>23</th>\n",
              "      <td>2683</td>\n",
              "      <td>8383</td>\n",
              "      <td>2700.091176</td>\n",
              "    </tr>\n",
              "    <tr>\n",
              "      <th>24</th>\n",
              "      <td>2515</td>\n",
              "      <td>7185</td>\n",
              "      <td>2343.936929</td>\n",
              "    </tr>\n",
              "    <tr>\n",
              "      <th>25</th>\n",
              "      <td>2395</td>\n",
              "      <td>7483</td>\n",
              "      <td>2432.529554</td>\n",
              "    </tr>\n",
              "    <tr>\n",
              "      <th>26</th>\n",
              "      <td>2292</td>\n",
              "      <td>7640</td>\n",
              "      <td>2479.204193</td>\n",
              "    </tr>\n",
              "    <tr>\n",
              "      <th>27</th>\n",
              "      <td>1000</td>\n",
              "      <td>2100</td>\n",
              "      <td>832.213765</td>\n",
              "    </tr>\n",
              "    <tr>\n",
              "      <th>28</th>\n",
              "      <td>600</td>\n",
              "      <td>2000</td>\n",
              "      <td>802.484696</td>\n",
              "    </tr>\n",
              "    <tr>\n",
              "      <th>29</th>\n",
              "      <td>1864</td>\n",
              "      <td>6012</td>\n",
              "      <td>1995.214948</td>\n",
              "    </tr>\n",
              "    <tr>\n",
              "      <th>30</th>\n",
              "      <td>3027</td>\n",
              "      <td>8902</td>\n",
              "      <td>2854.385045</td>\n",
              "    </tr>\n",
              "    <tr>\n",
              "      <th>31</th>\n",
              "      <td>1978</td>\n",
              "      <td>5345</td>\n",
              "      <td>1796.922057</td>\n",
              "    </tr>\n",
              "    <tr>\n",
              "      <th>32</th>\n",
              "      <td>2791</td>\n",
              "      <td>8210</td>\n",
              "      <td>2648.659887</td>\n",
              "    </tr>\n",
              "    <tr>\n",
              "      <th>33</th>\n",
              "      <td>1982</td>\n",
              "      <td>5662</td>\n",
              "      <td>1891.163206</td>\n",
              "    </tr>\n",
              "    <tr>\n",
              "      <th>34</th>\n",
              "      <td>900</td>\n",
              "      <td>2700</td>\n",
              "      <td>1010.588179</td>\n",
              "    </tr>\n",
              "    <tr>\n",
              "      <th>35</th>\n",
              "      <td>1964</td>\n",
              "      <td>6546</td>\n",
              "      <td>2153.968177</td>\n",
              "    </tr>\n",
              "    <tr>\n",
              "      <th>36</th>\n",
              "      <td>1247</td>\n",
              "      <td>2900</td>\n",
              "      <td>1070.046318</td>\n",
              "    </tr>\n",
              "    <tr>\n",
              "      <th>37</th>\n",
              "      <td>3067</td>\n",
              "      <td>9894</td>\n",
              "      <td>3149.297410</td>\n",
              "    </tr>\n",
              "    <tr>\n",
              "      <th>38</th>\n",
              "      <td>700</td>\n",
              "      <td>1500</td>\n",
              "      <td>653.839350</td>\n",
              "    </tr>\n",
              "    <tr>\n",
              "      <th>39</th>\n",
              "      <td>1500</td>\n",
              "      <td>5000</td>\n",
              "      <td>1694.356769</td>\n",
              "    </tr>\n",
              "    <tr>\n",
              "      <th>40</th>\n",
              "      <td>3110</td>\n",
              "      <td>8885</td>\n",
              "      <td>2849.331103</td>\n",
              "    </tr>\n",
              "    <tr>\n",
              "      <th>41</th>\n",
              "      <td>2644</td>\n",
              "      <td>8813</td>\n",
              "      <td>2827.926174</td>\n",
              "    </tr>\n",
              "    <tr>\n",
              "      <th>42</th>\n",
              "      <td>1378</td>\n",
              "      <td>3446</td>\n",
              "      <td>1232.367035</td>\n",
              "    </tr>\n",
              "    <tr>\n",
              "      <th>43</th>\n",
              "      <td>2601</td>\n",
              "      <td>7881</td>\n",
              "      <td>2550.851249</td>\n",
              "    </tr>\n",
              "    <tr>\n",
              "      <th>44</th>\n",
              "      <td>501</td>\n",
              "      <td>1164</td>\n",
              "      <td>553.949678</td>\n",
              "    </tr>\n",
              "    <tr>\n",
              "      <th>45</th>\n",
              "      <td>1292</td>\n",
              "      <td>3401</td>\n",
              "      <td>1218.988954</td>\n",
              "    </tr>\n",
              "    <tr>\n",
              "      <th>46</th>\n",
              "      <td>2125</td>\n",
              "      <td>6641</td>\n",
              "      <td>2182.210793</td>\n",
              "    </tr>\n",
              "    <tr>\n",
              "      <th>47</th>\n",
              "      <td>1431</td>\n",
              "      <td>3329</td>\n",
              "      <td>1197.584024</td>\n",
              "    </tr>\n",
              "    <tr>\n",
              "      <th>48</th>\n",
              "      <td>2260</td>\n",
              "      <td>6648</td>\n",
              "      <td>2184.291828</td>\n",
              "    </tr>\n",
              "    <tr>\n",
              "      <th>49</th>\n",
              "      <td>1770</td>\n",
              "      <td>4800</td>\n",
              "      <td>1634.898631</td>\n",
              "    </tr>\n",
              "  </tbody>\n",
              "</table>\n",
              "</div>"
            ],
            "text/plain": [
              "       Y     X   Y_previsto\n",
              "0   3011  9714  3095.785086\n",
              "1   1305  3728  1316.203010\n",
              "2   1879  6062  2010.079483\n",
              "3   2654  8845  2837.439476\n",
              "4   2849  8378  2698.604723\n",
              "5   1068  3338  1200.259640\n",
              "6   2892  8507  2736.955222\n",
              "7   2543  7947  2570.472435\n",
              "8   3074  9915  3155.540515\n",
              "9    849  1632   693.081721\n",
              "10  2184  6825  2236.912280\n",
              "11  2943  8918  2859.141696\n",
              "12  1357  4100  1426.795147\n",
              "13  2755  9184  2938.221020\n",
              "14  2163  6180  2045.159784\n",
              "15  3099  9997  3179.918352\n",
              "16  1600  4500  1545.711423\n",
              "17   353  1069   525.707062\n",
              "18  1778  5925  1969.350658\n",
              "19   740  2466   941.022158\n",
              "20  2129  6083  2016.322587\n",
              "21  3302  9712  3095.190505\n",
              "22  2412  7780  2520.824890\n",
              "23  2683  8383  2700.091176\n",
              "24  2515  7185  2343.936929\n",
              "25  2395  7483  2432.529554\n",
              "26  2292  7640  2479.204193\n",
              "27  1000  2100   832.213765\n",
              "28   600  2000   802.484696\n",
              "29  1864  6012  1995.214948\n",
              "30  3027  8902  2854.385045\n",
              "31  1978  5345  1796.922057\n",
              "32  2791  8210  2648.659887\n",
              "33  1982  5662  1891.163206\n",
              "34   900  2700  1010.588179\n",
              "35  1964  6546  2153.968177\n",
              "36  1247  2900  1070.046318\n",
              "37  3067  9894  3149.297410\n",
              "38   700  1500   653.839350\n",
              "39  1500  5000  1694.356769\n",
              "40  3110  8885  2849.331103\n",
              "41  2644  8813  2827.926174\n",
              "42  1378  3446  1232.367035\n",
              "43  2601  7881  2550.851249\n",
              "44   501  1164   553.949678\n",
              "45  1292  3401  1218.988954\n",
              "46  2125  6641  2182.210793\n",
              "47  1431  3329  1197.584024\n",
              "48  2260  6648  2184.291828\n",
              "49  1770  4800  1634.898631"
            ]
          },
          "metadata": {
            "tags": []
          },
          "execution_count": 129
        }
      ]
    },
    {
      "cell_type": "markdown",
      "metadata": {
        "id": "QTCRxEClcaj-"
      },
      "source": [
        "---"
      ]
    },
    {
      "cell_type": "markdown",
      "metadata": {
        "id": "DU3ADw3fdeS1"
      },
      "source": [
        "# <font color=green>3 CORRELAÇÃO</font>\n",
        "***"
      ]
    },
    {
      "cell_type": "markdown",
      "metadata": {
        "id": "_8zdNQvrcakA"
      },
      "source": [
        "## <font color=green>3.1 Covariância</font>\n",
        "***"
      ]
    },
    {
      "cell_type": "markdown",
      "metadata": {
        "id": "E5xyRLiYcakB"
      },
      "source": [
        "A covariância, ou variância conjunta, é a medida do grau de interdependência (ou inter-relação) numérica entre duas variáveis. É definida da seguinte maneira:"
      ]
    },
    {
      "cell_type": "markdown",
      "metadata": {
        "id": "z66qdhEPcakB"
      },
      "source": [
        "### Covariância populacional\n",
        "\n",
        "# $$\\sigma_{xy} = \\frac 1n\\sum_{i=1}^{n}(X_i-\\mu_x)(Y_i-\\mu_y)$$"
      ]
    },
    {
      "cell_type": "markdown",
      "metadata": {
        "id": "Q5Z7pL4ncakB"
      },
      "source": [
        "### Covariância amostral\n",
        "\n",
        "# $$S_{xy} = \\frac 1{n-1}\\sum_{i=1}^{n}(X_i-\\bar{X})(Y_i-\\bar{Y})$$"
      ]
    },
    {
      "cell_type": "markdown",
      "metadata": {
        "id": "jL1SrReTcakC"
      },
      "source": [
        "### Gerando uma amostra aleatória para facilitar o entendimento"
      ]
    },
    {
      "cell_type": "code",
      "metadata": {
        "id": "ulha75EgcakC"
      },
      "source": [
        "amostra = dados.query('Renda < 5000').sample(n = 20, random_state = 101)"
      ],
      "execution_count": 130,
      "outputs": []
    },
    {
      "cell_type": "markdown",
      "metadata": {
        "id": "ZssTPkXGcakD"
      },
      "source": [
        "### Obtendo a matriz de covariância"
      ]
    },
    {
      "cell_type": "code",
      "metadata": {
        "colab": {
          "base_uri": "https://localhost:8080/",
          "height": 173
        },
        "id": "hU6Ca7k3cakE",
        "outputId": "d7afd687-00fb-40bd-bc95-495bb17ca045"
      },
      "source": [
        "amostra[['Idade', 'Renda', 'Anos de Estudo', 'Altura']].cov()"
      ],
      "execution_count": 131,
      "outputs": [
        {
          "output_type": "execute_result",
          "data": {
            "text/html": [
              "<div>\n",
              "<style scoped>\n",
              "    .dataframe tbody tr th:only-of-type {\n",
              "        vertical-align: middle;\n",
              "    }\n",
              "\n",
              "    .dataframe tbody tr th {\n",
              "        vertical-align: top;\n",
              "    }\n",
              "\n",
              "    .dataframe thead th {\n",
              "        text-align: right;\n",
              "    }\n",
              "</style>\n",
              "<table border=\"1\" class=\"dataframe\">\n",
              "  <thead>\n",
              "    <tr style=\"text-align: right;\">\n",
              "      <th></th>\n",
              "      <th>Idade</th>\n",
              "      <th>Renda</th>\n",
              "      <th>Anos de Estudo</th>\n",
              "      <th>Altura</th>\n",
              "    </tr>\n",
              "  </thead>\n",
              "  <tbody>\n",
              "    <tr>\n",
              "      <th>Idade</th>\n",
              "      <td>134.410526</td>\n",
              "      <td>-4947.968421</td>\n",
              "      <td>-16.410526</td>\n",
              "      <td>0.016506</td>\n",
              "    </tr>\n",
              "    <tr>\n",
              "      <th>Renda</th>\n",
              "      <td>-4947.968421</td>\n",
              "      <td>764668.326316</td>\n",
              "      <td>2209.021053</td>\n",
              "      <td>-7.138236</td>\n",
              "    </tr>\n",
              "    <tr>\n",
              "      <th>Anos de Estudo</th>\n",
              "      <td>-16.410526</td>\n",
              "      <td>2209.021053</td>\n",
              "      <td>16.936842</td>\n",
              "      <td>0.111281</td>\n",
              "    </tr>\n",
              "    <tr>\n",
              "      <th>Altura</th>\n",
              "      <td>0.016506</td>\n",
              "      <td>-7.138236</td>\n",
              "      <td>0.111281</td>\n",
              "      <td>0.003354</td>\n",
              "    </tr>\n",
              "  </tbody>\n",
              "</table>\n",
              "</div>"
            ],
            "text/plain": [
              "                      Idade          Renda  Anos de Estudo    Altura\n",
              "Idade            134.410526   -4947.968421      -16.410526  0.016506\n",
              "Renda          -4947.968421  764668.326316     2209.021053 -7.138236\n",
              "Anos de Estudo   -16.410526    2209.021053       16.936842  0.111281\n",
              "Altura             0.016506      -7.138236        0.111281  0.003354"
            ]
          },
          "metadata": {
            "tags": []
          },
          "execution_count": 131
        }
      ]
    },
    {
      "cell_type": "markdown",
      "metadata": {
        "id": "dodkzGyBcakG"
      },
      "source": [
        "### Identificando as variâncias na diagonal principal da matriz"
      ]
    },
    {
      "cell_type": "code",
      "metadata": {
        "colab": {
          "base_uri": "https://localhost:8080/"
        },
        "id": "iG3mpmBfcakH",
        "outputId": "45971acc-904a-4f99-f261-daf6ccc91ae5"
      },
      "source": [
        "amostra.Idade.var()"
      ],
      "execution_count": 132,
      "outputs": [
        {
          "output_type": "execute_result",
          "data": {
            "text/plain": [
              "134.4105263157895"
            ]
          },
          "metadata": {
            "tags": []
          },
          "execution_count": 132
        }
      ]
    },
    {
      "cell_type": "markdown",
      "metadata": {
        "id": "9I8MVJAscakK"
      },
      "source": [
        "## <font color=green>3.2 Interpretação da Covariância</font>\n",
        "***"
      ]
    },
    {
      "cell_type": "markdown",
      "metadata": {
        "id": "_H2Y3PVZcakK"
      },
      "source": [
        "Valor de $S_{xy}$ positivo indica uma associação linear positiva entre x e y, ou seja, à medida que o valor de x aumenta, o valor de y também aumenta. Neste caso, podemos ver na figura abaixo que os pontos que têm a maior influência sobre $S_{xy}$ devem estar nos quadrantes I e III.\n",
        "\n",
        "Se o valor de $S_{xy}$ for negativo temos um indicativo de associação linear negativa entre x e y, ou seja, à medida que x aumenta, o valor de y diminui. Neste caso, podemos ver na figura abaixo que os pontos que têm a maior influência sobre $S_{xy}$ devem estar nos quadrantes II e IV.\n",
        "\n",
        "Finalmente, se os pontos estiverem uniformemente distribuídos pelos quadrantes, o valor de $S_{xy}$ se aproximará de zero, indicando que não existe nenhuma associação linear entre x e y.\n",
        "\n",
        "<img src=\"https://caelum-online-public.s3.amazonaws.com/1273-estatistica-parte4/01/img026.png\" width=50%>"
      ]
    },
    {
      "cell_type": "markdown",
      "metadata": {
        "id": "frhw7Uc8cakL"
      },
      "source": [
        "### Verificando a existência de uma associação linear negativa"
      ]
    },
    {
      "cell_type": "code",
      "metadata": {
        "colab": {
          "base_uri": "https://localhost:8080/",
          "height": 459
        },
        "id": "Xb__N-ZlcakL",
        "outputId": "f007932b-e942-4299-d63c-adc888a85d56"
      },
      "source": [
        "x = amostra.Renda\n",
        "y = amostra.Idade\n",
        "\n",
        "ax = sns.scatterplot(x, y)\n",
        "ax.figure.set_size_inches(10, 6)\n",
        "ax.hlines(y = y.mean(), xmin = x.min(), xmax = x.max(), colors='black', linestyles='dashed')\n",
        "ax.vlines(x = x.mean(), ymin = y.min(), ymax = y.max(), colors='black', linestyles='dashed')"
      ],
      "execution_count": 133,
      "outputs": [
        {
          "output_type": "stream",
          "text": [
            "/usr/local/lib/python3.6/dist-packages/seaborn/_decorators.py:43: FutureWarning: Pass the following variables as keyword args: x, y. From version 0.12, the only valid positional argument will be `data`, and passing other arguments without an explicit keyword will result in an error or misinterpretation.\n",
            "  FutureWarning\n"
          ],
          "name": "stderr"
        },
        {
          "output_type": "execute_result",
          "data": {
            "text/plain": [
              "<matplotlib.collections.LineCollection at 0x7f8292b141d0>"
            ]
          },
          "metadata": {
            "tags": []
          },
          "execution_count": 133
        },
        {
          "output_type": "display_data",
          "data": {
            "image/png": "[encoded data removed]",
            "text/plain": [
              "<Figure size 720x432 with 1 Axes>"
            ]
          },
          "metadata": {
            "tags": [],
            "needs_background": "light"
          }
        }
      ]
    },
    {
      "cell_type": "markdown",
      "metadata": {
        "id": "es2CobcCcakQ"
      },
      "source": [
        "### Verificando a existência de uma associação linear positiva"
      ]
    },
    {
      "cell_type": "code",
      "metadata": {
        "colab": {
          "base_uri": "https://localhost:8080/",
          "height": 459
        },
        "id": "eLc5JmYCcakQ",
        "outputId": "3b18643d-160d-4e95-9363-a20132c2b3b0"
      },
      "source": [
        "x = amostra.Renda\n",
        "y = amostra['Anos de Estudo']\n",
        "\n",
        "ax = sns.scatterplot(x, y)\n",
        "ax.figure.set_size_inches(10, 6)\n",
        "ax.hlines(y = y.mean(), xmin = x.min(), xmax = x.max(), colors='black', linestyles='dashed')\n",
        "ax.vlines(x = x.mean(), ymin = y.min(), ymax = y.max(), colors='black', linestyles='dashed')"
      ],
      "execution_count": 134,
      "outputs": [
        {
          "output_type": "stream",
          "text": [
            "/usr/local/lib/python3.6/dist-packages/seaborn/_decorators.py:43: FutureWarning: Pass the following variables as keyword args: x, y. From version 0.12, the only valid positional argument will be `data`, and passing other arguments without an explicit keyword will result in an error or misinterpretation.\n",
            "  FutureWarning\n"
          ],
          "name": "stderr"
        },
        {
          "output_type": "execute_result",
          "data": {
            "text/plain": [
              "<matplotlib.collections.LineCollection at 0x7f8292b140b8>"
            ]
          },
          "metadata": {
            "tags": []
          },
          "execution_count": 134
        },
        {
          "output_type": "display_data",
          "data": {
            "image/png": "[encoded data removed]",
            "text/plain": [
              "<Figure size 720x432 with 1 Axes>"
            ]
          },
          "metadata": {
            "tags": [],
            "needs_background": "light"
          }
        }
      ]
    },
    {
      "cell_type": "markdown",
      "metadata": {
        "id": "mYYlKQeHcakS"
      },
      "source": [
        "### Verificando a inexistência de uma associação linear entre as variáveis"
      ]
    },
    {
      "cell_type": "code",
      "metadata": {
        "colab": {
          "base_uri": "https://localhost:8080/",
          "height": 459
        },
        "id": "R0S1AiBlcakS",
        "outputId": "7cbb5f9d-2ba7-45ca-835e-eb4238b8b8c0"
      },
      "source": [
        "x = amostra.Idade\n",
        "y = amostra.Altura\n",
        "\n",
        "ax = sns.scatterplot(x, y)\n",
        "ax.figure.set_size_inches(10, 6)\n",
        "ax.hlines(y = y.mean(), xmin = x.min(), xmax = x.max(), colors='black', linestyles='dashed')\n",
        "ax.vlines(x = x.mean(), ymin = y.min(), ymax = y.max(), colors='black', linestyles='dashed')"
      ],
      "execution_count": 135,
      "outputs": [
        {
          "output_type": "stream",
          "text": [
            "/usr/local/lib/python3.6/dist-packages/seaborn/_decorators.py:43: FutureWarning: Pass the following variables as keyword args: x, y. From version 0.12, the only valid positional argument will be `data`, and passing other arguments without an explicit keyword will result in an error or misinterpretation.\n",
            "  FutureWarning\n"
          ],
          "name": "stderr"
        },
        {
          "output_type": "execute_result",
          "data": {
            "text/plain": [
              "<matplotlib.collections.LineCollection at 0x7f8289cc2748>"
            ]
          },
          "metadata": {
            "tags": []
          },
          "execution_count": 135
        },
        {
          "output_type": "display_data",
          "data": {
            "image/png": "[encoded data removed]",
            "text/plain": [
              "<Figure size 720x432 with 1 Axes>"
            ]
          },
          "metadata": {
            "tags": [],
            "needs_background": "light"
          }
        }
      ]
    },
    {
      "cell_type": "markdown",
      "metadata": {
        "id": "zgSmQYrHcakb"
      },
      "source": [
        "### <font color='red'>Observação Importante:</font>\n",
        "> Pelo que foi apresentado pode parecer que valores elevados, tanto positivos quanto negativos, para a covariância indicam relações lineares fortes entre as variáveis envolvidas. No entanto, um problema quando se usa a covariância como uma medida da intensidade da relação linear é que o valor da covariância depende das unidades de medida para x e y.\n",
        "> \n",
        "> Uma medida da relação entre duas variáveis que não é afetada pelas unidades de medida para x e y é o coeficiente de correlação que veremos no próximo tópico."
      ]
    },
    {
      "cell_type": "markdown",
      "metadata": {
        "id": "oPAxUkyQcakb"
      },
      "source": [
        "## <font color=green>3.3 Coeficiente de correlação de Pearson</font>\n",
        "***"
      ]
    },
    {
      "cell_type": "markdown",
      "metadata": {
        "id": "6TYCLh0Hcakf"
      },
      "source": [
        "É obtido dividindo-se a covariância da população ou amostra pelo produto do desvio padrão populacional ou amostral de x pelo desvio padrão populacional ou amostral de y.\n",
        "\n",
        "O coeficiente de correlação varia de -1 a +1. Valores que se aproximam de -1 ou +1 indicam uma relação linear forte. Quanto mais próxima a correlação estiver de zero, mais fraca será a relação.\n",
        "\n",
        "Um ponto importante é que o coeficiente de correlação é uma medida de associação linear e não necessariamente de causação. Uma correlação alta entre duas variáveis não significa, necessariamente, que variações em uma delas provocará alterações na outra."
      ]
    },
    {
      "cell_type": "markdown",
      "metadata": {
        "id": "OgecrWGdcakf"
      },
      "source": [
        "### Coeficiente de correlação de Pearson - dados populacionais\n",
        "\n",
        "# $$\\rho_{xy} = \\frac{\\sigma_{xy}}{\\sigma_{x}\\sigma_{y}}$$\n",
        "\n",
        "### Coeficiente de correlação de Pearson - dados amostrais\n",
        "\n",
        "# $$r_{xy} = \\frac{s_{xy}}{s_{x}s_{y}}$$\n",
        "\n",
        "Onde\n",
        "\n",
        "$\\sigma_{xy}$ = covariância populacional entre x e y\n",
        "\n",
        "$s_{xy}$ = covariância amostral entre x e y\n",
        "\n",
        "$\\sigma_{x}$ e $\\sigma_{y}$ = desvios padrão populacionais de x e y, respectivamente\n",
        "\n",
        "$s_{x}$ e $s_{y}$ = desvios padrão amostrais de x e y, respectivamente"
      ]
    },
    {
      "cell_type": "markdown",
      "metadata": {
        "id": "jPk2i26acakg"
      },
      "source": [
        "### Obtendo $s_{xy}$"
      ]
    },
    {
      "cell_type": "code",
      "metadata": {
        "colab": {
          "base_uri": "https://localhost:8080/",
          "height": 111
        },
        "id": "lc6MNkgQcakg",
        "outputId": "4c52798b-ffd2-406f-d25e-edd5d59d710c"
      },
      "source": [
        "s_xy = dados[['Altura', 'Renda']].cov()\n",
        "s_xy"
      ],
      "execution_count": 136,
      "outputs": [
        {
          "output_type": "execute_result",
          "data": {
            "text/html": [
              "<div>\n",
              "<style scoped>\n",
              "    .dataframe tbody tr th:only-of-type {\n",
              "        vertical-align: middle;\n",
              "    }\n",
              "\n",
              "    .dataframe tbody tr th {\n",
              "        vertical-align: top;\n",
              "    }\n",
              "\n",
              "    .dataframe thead th {\n",
              "        text-align: right;\n",
              "    }\n",
              "</style>\n",
              "<table border=\"1\" class=\"dataframe\">\n",
              "  <thead>\n",
              "    <tr style=\"text-align: right;\">\n",
              "      <th></th>\n",
              "      <th>Altura</th>\n",
              "      <th>Renda</th>\n",
              "    </tr>\n",
              "  </thead>\n",
              "  <tbody>\n",
              "    <tr>\n",
              "      <th>Altura</th>\n",
              "      <td>0.006355</td>\n",
              "      <td>-1.078964e+00</td>\n",
              "    </tr>\n",
              "    <tr>\n",
              "      <th>Renda</th>\n",
              "      <td>-1.078964</td>\n",
              "      <td>1.104491e+07</td>\n",
              "    </tr>\n",
              "  </tbody>\n",
              "</table>\n",
              "</div>"
            ],
            "text/plain": [
              "          Altura         Renda\n",
              "Altura  0.006355 -1.078964e+00\n",
              "Renda  -1.078964  1.104491e+07"
            ]
          },
          "metadata": {
            "tags": []
          },
          "execution_count": 136
        }
      ]
    },
    {
      "cell_type": "code",
      "metadata": {
        "colab": {
          "base_uri": "https://localhost:8080/"
        },
        "id": "_8KNoxdhcakj",
        "outputId": "92134b9c-3df0-477e-8244-bd3d78e29865"
      },
      "source": [
        "s_xy= s_xy.Altura.loc['Renda']\n",
        "s_xy"
      ],
      "execution_count": 137,
      "outputs": [
        {
          "output_type": "execute_result",
          "data": {
            "text/plain": [
              "-1.0789639314252726"
            ]
          },
          "metadata": {
            "tags": []
          },
          "execution_count": 137
        }
      ]
    },
    {
      "cell_type": "markdown",
      "metadata": {
        "id": "sDybJtCMcakl"
      },
      "source": [
        "### Obtendo $s_x$ e $s_y$"
      ]
    },
    {
      "cell_type": "code",
      "metadata": {
        "id": "LTEEbMIzcakl"
      },
      "source": [
        "s_x = dados.Altura.std()\n",
        "s_y = dados.Renda.std()"
      ],
      "execution_count": 138,
      "outputs": []
    },
    {
      "cell_type": "markdown",
      "metadata": {
        "id": "VVpQ5QcCcakm"
      },
      "source": [
        "### Obtendo o coeficiente de correlação $r_{xy}$"
      ]
    },
    {
      "cell_type": "code",
      "metadata": {
        "colab": {
          "base_uri": "https://localhost:8080/"
        },
        "id": "TuPWxVgccakq",
        "outputId": "3e79521a-ef12-4139-baa5-980577a45f96"
      },
      "source": [
        "r_xy = s_xy / ( s_x * s_y)\n",
        "r_xy"
      ],
      "execution_count": 139,
      "outputs": [
        {
          "output_type": "execute_result",
          "data": {
            "text/plain": [
              "-0.0040726081433995155"
            ]
          },
          "metadata": {
            "tags": []
          },
          "execution_count": 139
        }
      ]
    },
    {
      "cell_type": "markdown",
      "metadata": {
        "id": "miyTUNqpcakr"
      },
      "source": [
        "### Obtendo uma matriz de correlação com o Pandas"
      ]
    },
    {
      "cell_type": "code",
      "metadata": {
        "colab": {
          "base_uri": "https://localhost:8080/",
          "height": 111
        },
        "id": "SjQUE6wVcakt",
        "outputId": "dc101c30-b845-4512-c28e-59de6381ccd4"
      },
      "source": [
        "dados[['Altura', 'Renda']].corr()"
      ],
      "execution_count": 140,
      "outputs": [
        {
          "output_type": "execute_result",
          "data": {
            "text/html": [
              "<div>\n",
              "<style scoped>\n",
              "    .dataframe tbody tr th:only-of-type {\n",
              "        vertical-align: middle;\n",
              "    }\n",
              "\n",
              "    .dataframe tbody tr th {\n",
              "        vertical-align: top;\n",
              "    }\n",
              "\n",
              "    .dataframe thead th {\n",
              "        text-align: right;\n",
              "    }\n",
              "</style>\n",
              "<table border=\"1\" class=\"dataframe\">\n",
              "  <thead>\n",
              "    <tr style=\"text-align: right;\">\n",
              "      <th></th>\n",
              "      <th>Altura</th>\n",
              "      <th>Renda</th>\n",
              "    </tr>\n",
              "  </thead>\n",
              "  <tbody>\n",
              "    <tr>\n",
              "      <th>Altura</th>\n",
              "      <td>1.000000</td>\n",
              "      <td>-0.004073</td>\n",
              "    </tr>\n",
              "    <tr>\n",
              "      <th>Renda</th>\n",
              "      <td>-0.004073</td>\n",
              "      <td>1.000000</td>\n",
              "    </tr>\n",
              "  </tbody>\n",
              "</table>\n",
              "</div>"
            ],
            "text/plain": [
              "          Altura     Renda\n",
              "Altura  1.000000 -0.004073\n",
              "Renda  -0.004073  1.000000"
            ]
          },
          "metadata": {
            "tags": []
          },
          "execution_count": 140
        }
      ]
    },
    {
      "cell_type": "code",
      "metadata": {
        "colab": {
          "base_uri": "https://localhost:8080/",
          "height": 111
        },
        "id": "r-Iasce4cakv",
        "outputId": "8965dc31-dcd9-46b5-88b4-affdfb10fc7e"
      },
      "source": [
        "dataset[['Y', 'X']].corr()"
      ],
      "execution_count": 141,
      "outputs": [
        {
          "output_type": "execute_result",
          "data": {
            "text/html": [
              "<div>\n",
              "<style scoped>\n",
              "    .dataframe tbody tr th:only-of-type {\n",
              "        vertical-align: middle;\n",
              "    }\n",
              "\n",
              "    .dataframe tbody tr th {\n",
              "        vertical-align: top;\n",
              "    }\n",
              "\n",
              "    .dataframe thead th {\n",
              "        text-align: right;\n",
              "    }\n",
              "</style>\n",
              "<table border=\"1\" class=\"dataframe\">\n",
              "  <thead>\n",
              "    <tr style=\"text-align: right;\">\n",
              "      <th></th>\n",
              "      <th>Y</th>\n",
              "      <th>X</th>\n",
              "    </tr>\n",
              "  </thead>\n",
              "  <tbody>\n",
              "    <tr>\n",
              "      <th>Y</th>\n",
              "      <td>1.000000</td>\n",
              "      <td>0.984835</td>\n",
              "    </tr>\n",
              "    <tr>\n",
              "      <th>X</th>\n",
              "      <td>0.984835</td>\n",
              "      <td>1.000000</td>\n",
              "    </tr>\n",
              "  </tbody>\n",
              "</table>\n",
              "</div>"
            ],
            "text/plain": [
              "          Y         X\n",
              "Y  1.000000  0.984835\n",
              "X  0.984835  1.000000"
            ]
          },
          "metadata": {
            "tags": []
          },
          "execution_count": 141
        }
      ]
    },
    {
      "cell_type": "code",
      "metadata": {
        "colab": {
          "base_uri": "https://localhost:8080/",
          "height": 459
        },
        "id": "0Zddu4ajcakx",
        "outputId": "8d1a3638-4af4-4023-9136-085256030f8e"
      },
      "source": [
        "x = amostra.Renda\n",
        "y = amostra.Altura\n",
        "\n",
        "ax = sns.scatterplot(x, y)\n",
        "ax.figure.set_size_inches(10, 6)\n",
        "ax.hlines(y = y.mean(), xmin = x.min(), xmax = x.max(), colors='black', linestyles='dashed')\n",
        "ax.vlines(x = x.mean(), ymin = y.min(), ymax = y.max(), colors='black', linestyles='dashed')"
      ],
      "execution_count": 142,
      "outputs": [
        {
          "output_type": "stream",
          "text": [
            "/usr/local/lib/python3.6/dist-packages/seaborn/_decorators.py:43: FutureWarning: Pass the following variables as keyword args: x, y. From version 0.12, the only valid positional argument will be `data`, and passing other arguments without an explicit keyword will result in an error or misinterpretation.\n",
            "  FutureWarning\n"
          ],
          "name": "stderr"
        },
        {
          "output_type": "execute_result",
          "data": {
            "text/plain": [
              "<matplotlib.collections.LineCollection at 0x7f8289b4fe48>"
            ]
          },
          "metadata": {
            "tags": []
          },
          "execution_count": 142
        },
        {
          "output_type": "display_data",
          "data": {
            "image/png": "[encoded data removed]",
            "text/plain": [
              "<Figure size 720x432 with 1 Axes>"
            ]
          },
          "metadata": {
            "tags": [],
            "needs_background": "light"
          }
        }
      ]
    },
    {
      "cell_type": "code",
      "metadata": {
        "colab": {
          "base_uri": "https://localhost:8080/",
          "height": 459
        },
        "id": "iMNkYpnhcak0",
        "outputId": "a03c6cfa-7782-412d-b931-6d1079786223"
      },
      "source": [
        "x = dataset.Y\n",
        "y = dataset.X\n",
        "\n",
        "ax = sns.scatterplot(x, y)\n",
        "ax.figure.set_size_inches(10, 6)\n",
        "ax.hlines(y = y.mean(), xmin = x.min(), xmax = x.max(), colors='black', linestyles='dashed')\n",
        "ax.vlines(x = x.mean(), ymin = y.min(), ymax = y.max(), colors='black', linestyles='dashed')"
      ],
      "execution_count": 143,
      "outputs": [
        {
          "output_type": "stream",
          "text": [
            "/usr/local/lib/python3.6/dist-packages/seaborn/_decorators.py:43: FutureWarning: Pass the following variables as keyword args: x, y. From version 0.12, the only valid positional argument will be `data`, and passing other arguments without an explicit keyword will result in an error or misinterpretation.\n",
            "  FutureWarning\n"
          ],
          "name": "stderr"
        },
        {
          "output_type": "execute_result",
          "data": {
            "text/plain": [
              "<matplotlib.collections.LineCollection at 0x7f8289b7c518>"
            ]
          },
          "metadata": {
            "tags": []
          },
          "execution_count": 143
        },
        {
          "output_type": "display_data",
          "data": {
            "image/png": "[encoded data removed]",
            "text/plain": [
              "<Figure size 720x432 with 1 Axes>"
            ]
          },
          "metadata": {
            "tags": [],
            "needs_background": "light"
          }
        }
      ]
    },
    {
      "cell_type": "markdown",
      "metadata": {
        "id": "HSF3lXxzcak3"
      },
      "source": [
        "---"
      ]
    },
    {
      "cell_type": "markdown",
      "metadata": {
        "id": "glWc43l2hLnL"
      },
      "source": [
        "# <font color=green>4 REGRESSÃO LINEAR</font>\n",
        "***"
      ]
    },
    {
      "cell_type": "markdown",
      "metadata": {
        "id": "T0nLJKtLcak8"
      },
      "source": [
        "A análise de regressão diz respeito ao estudo da dependência de uma variável (a variável dependente) em relação a uma ou mais variáveis, as variáveis explicativas ou independentes, visando estimar e/ou prever o valor médio da primeira em termos dos valores conhecidos ou fixados das segundas.\n",
        "\n",
        "#### Terminologia\n",
        "\n",
        "> A variável que é prevista é conhecida como variável dependente (*Y*).\n",
        "\n",
        "> A variável utilizada para prever o valor da variável dependente é conhecida como variável independente (*X*).\n",
        "\n",
        "Em nosso treinamento vamos abordar o tipo mais simples de análise de regressão que considera uma variável dependente e apenas uma variável independente onde a relação entre as variáveis se aproxima de uma linha reta."
      ]
    },
    {
      "cell_type": "markdown",
      "metadata": {
        "id": "jIXc6LA7cak9"
      },
      "source": [
        "## <font color=green>4.1 Regressão linear simples</font>\n",
        "***"
      ]
    },
    {
      "cell_type": "markdown",
      "metadata": {
        "id": "bIhWKDuK75k2"
      },
      "source": [
        "### Função consumo\n",
        "\n",
        "Um economista famoso do passado concluiu em um de seus estudos que os indivíduos tendem a aumentar o seu consumo conforme sua renda aumenta. Logicamente esta teoria ganhou um pouco mais de complexidade, mas vamos utilizar sua forma mais simples para entender o procedimento de análise de regressão com a seguninte formulação:\n",
        "\n",
        "# $$Y_i = \\beta_1 + \\beta_2X_i$$\n",
        "\n",
        "Onde\n",
        "\n",
        "- $Y_i$ é o gasto das famílias ou consumo das famílias\n",
        "\n",
        "- $X_i$ é a renda disponível\n",
        "\n",
        "- $\\beta_1$ é conhecido como intercepto (no modelo teórico acima é conhecido como consumo autônomo, ou seja, o consumo quando o rendimento é zero)\n",
        "\n",
        "- $\\beta_2$ é o coefiente angular (no modelo teórico é a propensão marginal a consumir)\n",
        "\n",
        "Em uma análise de regressão linear simples, o interesse está em estimar a função de regressão populacional como a apresentada acima, ou seja, estimar os valores dos parâmetros $\\beta_1$ e $\\beta_2$ com base nas observações de $Y$ e $X$."
      ]
    },
    {
      "cell_type": "markdown",
      "metadata": {
        "id": "1kkZ2NxPcak-"
      },
      "source": [
        "### Carregando o dataset"
      ]
    },
    {
      "cell_type": "code",
      "metadata": {
        "id": "-um71iXqcak-"
      },
      "source": [
        "dataset = {\n",
        "    'Y': [3011, 1305, 1879, 2654, 2849, 1068, 2892, 2543, 3074, 849, 2184, 2943, 1357, 2755, 2163, 3099, 1600, 353, 1778, 740, 2129, 3302, 2412, 2683, 2515, 2395, 2292, 1000, 600, 1864, 3027, 1978, 2791, 1982, 900, 1964, 1247, 3067, 700, 1500, 3110, 2644, 1378, 2601, 501, 1292, 2125, 1431, 2260, 1770],\n",
        "    'X': [9714, 3728, 6062, 8845, 8378, 3338, 8507, 7947, 9915, 1632, 6825, 8918, 4100, 9184, 6180, 9997, 4500, 1069, 5925, 2466, 6083, 9712, 7780, 8383, 7185, 7483, 7640, 2100, 2000, 6012, 8902, 5345, 8210, 5662, 2700, 6546, 2900, 9894, 1500, 5000, 8885, 8813, 3446, 7881, 1164, 3401, 6641, 3329, 6648, 4800]\n",
        "}"
      ],
      "execution_count": 144,
      "outputs": []
    },
    {
      "cell_type": "code",
      "metadata": {
        "colab": {
          "base_uri": "https://localhost:8080/",
          "height": 204
        },
        "id": "eVisdrGdcak_",
        "scrolled": true,
        "outputId": "168ff093-90bc-4948-a324-f4b62888a8d9"
      },
      "source": [
        "dataset = pd.DataFrame(dataset)\n",
        "dataset.head()"
      ],
      "execution_count": 145,
      "outputs": [
        {
          "output_type": "execute_result",
          "data": {
            "text/html": [
              "<div>\n",
              "<style scoped>\n",
              "    .dataframe tbody tr th:only-of-type {\n",
              "        vertical-align: middle;\n",
              "    }\n",
              "\n",
              "    .dataframe tbody tr th {\n",
              "        vertical-align: top;\n",
              "    }\n",
              "\n",
              "    .dataframe thead th {\n",
              "        text-align: right;\n",
              "    }\n",
              "</style>\n",
              "<table border=\"1\" class=\"dataframe\">\n",
              "  <thead>\n",
              "    <tr style=\"text-align: right;\">\n",
              "      <th></th>\n",
              "      <th>Y</th>\n",
              "      <th>X</th>\n",
              "    </tr>\n",
              "  </thead>\n",
              "  <tbody>\n",
              "    <tr>\n",
              "      <th>0</th>\n",
              "      <td>3011</td>\n",
              "      <td>9714</td>\n",
              "    </tr>\n",
              "    <tr>\n",
              "      <th>1</th>\n",
              "      <td>1305</td>\n",
              "      <td>3728</td>\n",
              "    </tr>\n",
              "    <tr>\n",
              "      <th>2</th>\n",
              "      <td>1879</td>\n",
              "      <td>6062</td>\n",
              "    </tr>\n",
              "    <tr>\n",
              "      <th>3</th>\n",
              "      <td>2654</td>\n",
              "      <td>8845</td>\n",
              "    </tr>\n",
              "    <tr>\n",
              "      <th>4</th>\n",
              "      <td>2849</td>\n",
              "      <td>8378</td>\n",
              "    </tr>\n",
              "  </tbody>\n",
              "</table>\n",
              "</div>"
            ],
            "text/plain": [
              "      Y     X\n",
              "0  3011  9714\n",
              "1  1305  3728\n",
              "2  1879  6062\n",
              "3  2654  8845\n",
              "4  2849  8378"
            ]
          },
          "metadata": {
            "tags": []
          },
          "execution_count": 145
        }
      ]
    },
    {
      "cell_type": "markdown",
      "metadata": {
        "id": "FnwGB3f1calB"
      },
      "source": [
        "### Identificando a relação entre as variáveis\n",
        "\n",
        "https://seaborn.pydata.org/generated/seaborn.lmplot.html\n",
        "\n",
        "Plota a reta de regressão entre duas variáveis juntamente com a dispersão entre elas."
      ]
    },
    {
      "cell_type": "code",
      "metadata": {
        "colab": {
          "base_uri": "https://localhost:8080/",
          "height": 490
        },
        "id": "DI16LyC7calB",
        "outputId": "1e69f5f4-e8aa-4605-8c5c-f56cb981179d"
      },
      "source": [
        "ax = sns.lmplot(x=\"X\", y=\"Y\", data=dataset)\n",
        "ax.fig.set_size_inches(12, 6)\n",
        "ax.fig.suptitle('Reta de Regressão - Gasto X Renda', fontsize=16, y=1.02)\n",
        "ax.set_xlabels(\"Renda das Famílias\", fontsize=14)\n",
        "ax.set_ylabels(\"Gasto das Famílias\", fontsize=14)\n",
        "ax"
      ],
      "execution_count": 146,
      "outputs": [
        {
          "output_type": "execute_result",
          "data": {
            "text/plain": [
              "<seaborn.axisgrid.FacetGrid at 0x7f8289b4f320>"
            ]
          },
          "metadata": {
            "tags": []
          },
          "execution_count": 146
        },
        {
          "output_type": "display_data",
          "data": {
            "image/png": "[encoded data removed]",
            "text/plain": [
              "<Figure size 864x432 with 1 Axes>"
            ]
          },
          "metadata": {
            "tags": [],
            "needs_background": "light"
          }
        }
      ]
    },
    {
      "cell_type": "markdown",
      "metadata": {
        "id": "5_PIOCAv75k9"
      },
      "source": [
        "### Matriz de correlação"
      ]
    },
    {
      "cell_type": "code",
      "metadata": {
        "colab": {
          "base_uri": "https://localhost:8080/",
          "height": 111
        },
        "id": "R7Zr6nuy75k-",
        "outputId": "6ffeb47c-7b77-4789-ee1e-6d40699f8c84"
      },
      "source": [
        "dataset.corr()"
      ],
      "execution_count": 147,
      "outputs": [
        {
          "output_type": "execute_result",
          "data": {
            "text/html": [
              "<div>\n",
              "<style scoped>\n",
              "    .dataframe tbody tr th:only-of-type {\n",
              "        vertical-align: middle;\n",
              "    }\n",
              "\n",
              "    .dataframe tbody tr th {\n",
              "        vertical-align: top;\n",
              "    }\n",
              "\n",
              "    .dataframe thead th {\n",
              "        text-align: right;\n",
              "    }\n",
              "</style>\n",
              "<table border=\"1\" class=\"dataframe\">\n",
              "  <thead>\n",
              "    <tr style=\"text-align: right;\">\n",
              "      <th></th>\n",
              "      <th>Y</th>\n",
              "      <th>X</th>\n",
              "    </tr>\n",
              "  </thead>\n",
              "  <tbody>\n",
              "    <tr>\n",
              "      <th>Y</th>\n",
              "      <td>1.000000</td>\n",
              "      <td>0.984835</td>\n",
              "    </tr>\n",
              "    <tr>\n",
              "      <th>X</th>\n",
              "      <td>0.984835</td>\n",
              "      <td>1.000000</td>\n",
              "    </tr>\n",
              "  </tbody>\n",
              "</table>\n",
              "</div>"
            ],
            "text/plain": [
              "          Y         X\n",
              "Y  1.000000  0.984835\n",
              "X  0.984835  1.000000"
            ]
          },
          "metadata": {
            "tags": []
          },
          "execution_count": 147
        }
      ]
    },
    {
      "cell_type": "markdown",
      "metadata": {
        "id": "lzD2VpXccak9"
      },
      "source": [
        "### Função de regressão populacional\n",
        "\n",
        "A equação formulada acima é conhecida como **função de regressão populacional (FRP)** e em alguns livros é também representada da seguinte forma:\n",
        "\n",
        "# $$E(Y|X_i) = \\beta_1 + \\beta_2X_i$$\n",
        "\n",
        "Ela afirma que o valor esperado da distribuição de $Y$, dado $X_i$, tem uma relação funcional com $X_i$, isto é, a resposta média de $Y$ varia com $X$. Os coeficientes $\\beta_1$ e $\\beta_2$ são conhecidos como coeficientes de regressão e também como intercepto e coeficiente angular, respectivamente.\n",
        "\n",
        "<img src=\"https://caelum-online-public.s3.amazonaws.com/1273-estatistica-parte4/01/img027.png\" width=50%>\n",
        "\n",
        "O gráfico de dispersão acima deixa claro que com o aumento da renda familiar, em média, as despesas de consumo das famílias aumentam, mas não no mesmo nível. O que podemos dizer é que para um nível de renda $X_i$ as despesas médias de consumo de uma\n",
        "família agrupam-se em torno do consumo médio de todas as famílias deste nível $X_i$, isto é, em torno de sua esperança condicional $E(Y|X_i)$. Portanto, podemos expressar o desvio individual de $Y_i$ em torno de seu valor esperado da seguinte forma:\n",
        "\n",
        "# $$u_i = Y_i - E(Y|X_i)$$\n",
        "\n",
        "ou\n",
        "\n",
        "# $$Y_i = E(Y|X_i) + u_i$$\n",
        "\n",
        "onde o desvio $u_i$ é uma variável aleatória não-observável que assume valores positivos ou negativos. Esta variável é também conhecida como termo de erro estocástico.\n",
        "\n",
        "Observe que a podemos representar a FRP em sua forma estocástica da seguinte maneira:\n",
        "\n",
        "# $$Y_i = \\beta_1 + \\beta_2X_i + u_i$$"
      ]
    },
    {
      "cell_type": "markdown",
      "metadata": {
        "id": "yOR8pKHkcak9"
      },
      "source": [
        "## <font color=green>4.2 O método de mínimos quadrados</font>\n",
        "***"
      ]
    },
    {
      "cell_type": "markdown",
      "metadata": {
        "id": "M-iKUvPlcak-"
      },
      "source": [
        "Considere a seguinte **função de regressão da população (FRP)** para duas variáveis:\n",
        "\n",
        "# $$Y_i = \\beta_1 + \\beta_2X_i + u_i$$\n",
        "\n",
        "Como a **FRP** não pode ser obtida de forma direta, precisamos estimá-la através da **função de regressão amostral (FRA)**.\n",
        "\n",
        "# $$Y_i = \\hat{\\beta}_1 + \\hat{\\beta}_2X_i + \\hat{u}_i$$\n",
        "# $$Y_i = \\hat{Y}_i + \\hat{u}_i$$\n",
        "\n",
        "onde $\\hat{Y}_i$ é o valor estimado de $Y_i$.\n",
        "\n",
        "A partir da equação acima podemos expressar o erro da seguinte maneira:\n",
        "\n",
        "# $$\\hat{u}_i = Y_i - \\hat{Y}_i$$\n",
        "# $$\\hat{u}_i = Y_i - \\hat{\\beta}_1 - \\hat{\\beta}_2X_i$$\n",
        "\n",
        "A ideia é determinar **FRA** de forma que fique o mais próximo possível do valor observado de $Y$. Intuitivamente uma forma interessante de fazer isso seria determinar **FRA** de maneira que a soma dos resíduos seja a menor possível.\n",
        "\n",
        "# $$\\sum\\hat{u}_i = \\sum{(Y_i - \\hat{Y}_i)}$$\n",
        "\n",
        "Avaliando a figura abaixo se pode verificar que talvez o critério de minimizar a soma dos resíduos não seja a melhor abordagem para solucionar o problema.\n",
        "\n",
        "<img src=\"https://caelum-online-public.s3.amazonaws.com/1273-estatistica-parte4/01/img015.png\" width=50%>\n",
        "\n",
        "O critério de minimização da soma dos resíduos assume que todos os resíduos tem o mesmo peso no somatório, o que nem sempre se comprova. Em nosso exemplo os resíduos $\\hat{u}_1$ e $\\hat{u}_4$ encontram-se bem mais afastados da **FRA** que $\\hat{u}_2$ e $\\hat{u}_3$. Isso acarreta na possibilidade de que a soma dos $\\hat{u}_i$'s seja bastante pequena e até mesmo nula, mesmo que os resíduos estejam muito dispersos em relação a reta de regressão.\n",
        "\n",
        "Para evitar tal problema adotou-se o critério de minimização da soma dos quadrados dos resíduos que é conhecido como **Método de Mínimos Quadrados**.\n",
        "\n",
        "# $$\\sum\\hat{u}_i^2 = \\sum{(Y_i - \\hat{Y}_i)^2}$$\n",
        "# $$\\sum\\hat{u}_i^2 = \\sum{(Y_i - \\hat{\\beta}_1 - \\hat{\\beta}_2X_i)^2}$$\n",
        "\n",
        "Após um procedimento de diferenciação, algumas simplificações e manipulações algébricas obtemos os **estimadores de mínimos quadrados**.\n",
        "\n",
        "# $$\n",
        "\\begin{equation}\n",
        "\\boxed{\\hat{\\beta}_2 = \\frac{n\\sum{X_iY_i} - \\sum{X_i}\\sum{Y_i}}{n\\sum{X_i^2} - (\\sum{X_i})^2}}\n",
        "\\end{equation}\n",
        "$$\n",
        "\n",
        "# $$\n",
        "\\begin{equation}\n",
        "\\boxed{\n",
        "\\begin{eqnarray}\n",
        "\\hat{\\beta}_1 &=& \\frac{\\sum{X_i^2}\\sum{Y_i} - \\sum{X_i}\\sum{X_iY_i}}{n\\sum{X_i^2} - (\\sum{X_i})^2}\\\\\n",
        "&=& \\bar{Y} - \\hat{\\beta}_2\\bar{X}\n",
        "\\end{eqnarray}\n",
        "}\n",
        "\\end{equation}\n",
        "$$"
      ]
    },
    {
      "cell_type": "markdown",
      "metadata": {
        "id": "bIsppET0cak-"
      },
      "source": [
        "## <font color=green>4.3 Estimadores de mínimos quadrados ordinários</font>\n",
        "***"
      ]
    },
    {
      "cell_type": "markdown",
      "metadata": {
        "id": "HTFJyCNCcalE"
      },
      "source": [
        "### Obter $n$"
      ]
    },
    {
      "cell_type": "code",
      "metadata": {
        "colab": {
          "base_uri": "https://localhost:8080/"
        },
        "id": "ZcHOhSNRcalE",
        "outputId": "d71c6a71-b230-4797-c108-c4674f469733"
      },
      "source": [
        "n = len(dataset)\n",
        "n"
      ],
      "execution_count": 148,
      "outputs": [
        {
          "output_type": "execute_result",
          "data": {
            "text/plain": [
              "50"
            ]
          },
          "metadata": {
            "tags": []
          },
          "execution_count": 148
        }
      ]
    },
    {
      "cell_type": "markdown",
      "metadata": {
        "id": "2R8QzULvcalF"
      },
      "source": [
        "### Obter $\\sum{Y}$"
      ]
    },
    {
      "cell_type": "code",
      "metadata": {
        "colab": {
          "base_uri": "https://localhost:8080/"
        },
        "id": "wfY4FHLgcalG",
        "outputId": "35118c1e-67c6-4e89-ea0d-31412bb78bad"
      },
      "source": [
        "SOMA_Y = dataset.Y.sum()\n",
        "SOMA_Y"
      ],
      "execution_count": 149,
      "outputs": [
        {
          "output_type": "execute_result",
          "data": {
            "text/plain": [
              "100556"
            ]
          },
          "metadata": {
            "tags": []
          },
          "execution_count": 149
        }
      ]
    },
    {
      "cell_type": "markdown",
      "metadata": {
        "id": "dpWo8F-fcalI"
      },
      "source": [
        "### Obter $\\sum{X}$"
      ]
    },
    {
      "cell_type": "code",
      "metadata": {
        "colab": {
          "base_uri": "https://localhost:8080/"
        },
        "id": "vgRIhNl9calI",
        "outputId": "e67de0b3-f700-4d1a-959c-5ce51ba135f0"
      },
      "source": [
        "SOMA_X = dataset.X.sum()\n",
        "SOMA_X"
      ],
      "execution_count": 150,
      "outputs": [
        {
          "output_type": "execute_result",
          "data": {
            "text/plain": [
              "303275"
            ]
          },
          "metadata": {
            "tags": []
          },
          "execution_count": 150
        }
      ]
    },
    {
      "cell_type": "markdown",
      "metadata": {
        "id": "ZOrXXyygcalJ"
      },
      "source": [
        "### Obter $\\sum{X^2}$"
      ]
    },
    {
      "cell_type": "code",
      "metadata": {
        "colab": {
          "base_uri": "https://localhost:8080/",
          "height": 204
        },
        "id": "boXBQUIJcalK",
        "scrolled": true,
        "outputId": "52a06c2e-373b-4ad2-d0a6-5e64cf917c59"
      },
      "source": [
        "dataset['X2'] = dataset.X ** 2\n",
        "dataset.head()"
      ],
      "execution_count": 151,
      "outputs": [
        {
          "output_type": "execute_result",
          "data": {
            "text/html": [
              "<div>\n",
              "<style scoped>\n",
              "    .dataframe tbody tr th:only-of-type {\n",
              "        vertical-align: middle;\n",
              "    }\n",
              "\n",
              "    .dataframe tbody tr th {\n",
              "        vertical-align: top;\n",
              "    }\n",
              "\n",
              "    .dataframe thead th {\n",
              "        text-align: right;\n",
              "    }\n",
              "</style>\n",
              "<table border=\"1\" class=\"dataframe\">\n",
              "  <thead>\n",
              "    <tr style=\"text-align: right;\">\n",
              "      <th></th>\n",
              "      <th>Y</th>\n",
              "      <th>X</th>\n",
              "      <th>X2</th>\n",
              "    </tr>\n",
              "  </thead>\n",
              "  <tbody>\n",
              "    <tr>\n",
              "      <th>0</th>\n",
              "      <td>3011</td>\n",
              "      <td>9714</td>\n",
              "      <td>94361796</td>\n",
              "    </tr>\n",
              "    <tr>\n",
              "      <th>1</th>\n",
              "      <td>1305</td>\n",
              "      <td>3728</td>\n",
              "      <td>13897984</td>\n",
              "    </tr>\n",
              "    <tr>\n",
              "      <th>2</th>\n",
              "      <td>1879</td>\n",
              "      <td>6062</td>\n",
              "      <td>36747844</td>\n",
              "    </tr>\n",
              "    <tr>\n",
              "      <th>3</th>\n",
              "      <td>2654</td>\n",
              "      <td>8845</td>\n",
              "      <td>78234025</td>\n",
              "    </tr>\n",
              "    <tr>\n",
              "      <th>4</th>\n",
              "      <td>2849</td>\n",
              "      <td>8378</td>\n",
              "      <td>70190884</td>\n",
              "    </tr>\n",
              "  </tbody>\n",
              "</table>\n",
              "</div>"
            ],
            "text/plain": [
              "      Y     X        X2\n",
              "0  3011  9714  94361796\n",
              "1  1305  3728  13897984\n",
              "2  1879  6062  36747844\n",
              "3  2654  8845  78234025\n",
              "4  2849  8378  70190884"
            ]
          },
          "metadata": {
            "tags": []
          },
          "execution_count": 151
        }
      ]
    },
    {
      "cell_type": "code",
      "metadata": {
        "colab": {
          "base_uri": "https://localhost:8080/"
        },
        "id": "ce-I43picalL",
        "outputId": "d2545e75-4a01-447a-d4ae-3196cf4f7706"
      },
      "source": [
        "SOMA_X2 = dataset.X2.sum()\n",
        "SOMA_X2"
      ],
      "execution_count": 152,
      "outputs": [
        {
          "output_type": "execute_result",
          "data": {
            "text/plain": [
              "2198628939"
            ]
          },
          "metadata": {
            "tags": []
          },
          "execution_count": 152
        }
      ]
    },
    {
      "cell_type": "code",
      "metadata": {
        "colab": {
          "base_uri": "https://localhost:8080/"
        },
        "id": "TAiTZKfOcalM",
        "outputId": "639b1ea7-c05d-4792-b2cf-af6a5fce369b"
      },
      "source": [
        "SOMA_X2 = dataset.X.apply(lambda x: x**2).sum()\n",
        "SOMA_X2"
      ],
      "execution_count": 153,
      "outputs": [
        {
          "output_type": "execute_result",
          "data": {
            "text/plain": [
              "2198628939"
            ]
          },
          "metadata": {
            "tags": []
          },
          "execution_count": 153
        }
      ]
    },
    {
      "cell_type": "markdown",
      "metadata": {
        "id": "ls1COzpxcalN"
      },
      "source": [
        "### Obter $\\sum{Y^2}$"
      ]
    },
    {
      "cell_type": "code",
      "metadata": {
        "colab": {
          "base_uri": "https://localhost:8080/"
        },
        "id": "gYc_poUmcalN",
        "outputId": "3e58cfc9-4324-40fc-c466-643a261715ef"
      },
      "source": [
        "SOMA_Y2 = dataset.Y.apply(lambda y: y**2).sum()\n",
        "SOMA_Y2"
      ],
      "execution_count": 154,
      "outputs": [
        {
          "output_type": "execute_result",
          "data": {
            "text/plain": [
              "234954332"
            ]
          },
          "metadata": {
            "tags": []
          },
          "execution_count": 154
        }
      ]
    },
    {
      "cell_type": "markdown",
      "metadata": {
        "id": "UsCtTk3pcalP"
      },
      "source": [
        "### Obter $\\sum{XY}$"
      ]
    },
    {
      "cell_type": "code",
      "metadata": {
        "colab": {
          "base_uri": "https://localhost:8080/",
          "height": 204
        },
        "id": "Mw4pfCAEcalP",
        "scrolled": true,
        "outputId": "80494986-6273-416b-b410-72d135c8837e"
      },
      "source": [
        "dataset['XY'] = dataset.X * dataset.Y\n",
        "dataset.head()"
      ],
      "execution_count": 155,
      "outputs": [
        {
          "output_type": "execute_result",
          "data": {
            "text/html": [
              "<div>\n",
              "<style scoped>\n",
              "    .dataframe tbody tr th:only-of-type {\n",
              "        vertical-align: middle;\n",
              "    }\n",
              "\n",
              "    .dataframe tbody tr th {\n",
              "        vertical-align: top;\n",
              "    }\n",
              "\n",
              "    .dataframe thead th {\n",
              "        text-align: right;\n",
              "    }\n",
              "</style>\n",
              "<table border=\"1\" class=\"dataframe\">\n",
              "  <thead>\n",
              "    <tr style=\"text-align: right;\">\n",
              "      <th></th>\n",
              "      <th>Y</th>\n",
              "      <th>X</th>\n",
              "      <th>X2</th>\n",
              "      <th>XY</th>\n",
              "    </tr>\n",
              "  </thead>\n",
              "  <tbody>\n",
              "    <tr>\n",
              "      <th>0</th>\n",
              "      <td>3011</td>\n",
              "      <td>9714</td>\n",
              "      <td>94361796</td>\n",
              "      <td>29248854</td>\n",
              "    </tr>\n",
              "    <tr>\n",
              "      <th>1</th>\n",
              "      <td>1305</td>\n",
              "      <td>3728</td>\n",
              "      <td>13897984</td>\n",
              "      <td>4865040</td>\n",
              "    </tr>\n",
              "    <tr>\n",
              "      <th>2</th>\n",
              "      <td>1879</td>\n",
              "      <td>6062</td>\n",
              "      <td>36747844</td>\n",
              "      <td>11390498</td>\n",
              "    </tr>\n",
              "    <tr>\n",
              "      <th>3</th>\n",
              "      <td>2654</td>\n",
              "      <td>8845</td>\n",
              "      <td>78234025</td>\n",
              "      <td>23474630</td>\n",
              "    </tr>\n",
              "    <tr>\n",
              "      <th>4</th>\n",
              "      <td>2849</td>\n",
              "      <td>8378</td>\n",
              "      <td>70190884</td>\n",
              "      <td>23868922</td>\n",
              "    </tr>\n",
              "  </tbody>\n",
              "</table>\n",
              "</div>"
            ],
            "text/plain": [
              "      Y     X        X2        XY\n",
              "0  3011  9714  94361796  29248854\n",
              "1  1305  3728  13897984   4865040\n",
              "2  1879  6062  36747844  11390498\n",
              "3  2654  8845  78234025  23474630\n",
              "4  2849  8378  70190884  23868922"
            ]
          },
          "metadata": {
            "tags": []
          },
          "execution_count": 155
        }
      ]
    },
    {
      "cell_type": "code",
      "metadata": {
        "colab": {
          "base_uri": "https://localhost:8080/"
        },
        "id": "s1NNuoM4calQ",
        "outputId": "d269feb4-9c0c-4fcb-9107-3ea7ba2eb6fa"
      },
      "source": [
        "SOMA_XY = dataset.XY.sum()\n",
        "SOMA_XY"
      ],
      "execution_count": 156,
      "outputs": [
        {
          "output_type": "execute_result",
          "data": {
            "text/plain": [
              "716683794"
            ]
          },
          "metadata": {
            "tags": []
          },
          "execution_count": 156
        }
      ]
    },
    {
      "cell_type": "code",
      "metadata": {
        "colab": {
          "base_uri": "https://localhost:8080/"
        },
        "id": "fwAWf3SScalR",
        "outputId": "87e259c5-f4d7-4696-f94a-81e07a55ce06"
      },
      "source": [
        "SOMA_XY = dataset.apply(lambda data: data.X * data.Y, axis = 1).sum()\n",
        "SOMA_XY"
      ],
      "execution_count": 157,
      "outputs": [
        {
          "output_type": "execute_result",
          "data": {
            "text/plain": [
              "716683794"
            ]
          },
          "metadata": {
            "tags": []
          },
          "execution_count": 157
        }
      ]
    },
    {
      "cell_type": "code",
      "metadata": {
        "colab": {
          "base_uri": "https://localhost:8080/",
          "height": 204
        },
        "id": "_6-qQG_ucalS",
        "outputId": "4aacadbc-7a30-4d5f-c343-5726b95f5da2"
      },
      "source": [
        "dataset.drop(['X2', 'XY'], axis = 1, inplace = True)\n",
        "dataset.head()"
      ],
      "execution_count": 158,
      "outputs": [
        {
          "output_type": "execute_result",
          "data": {
            "text/html": [
              "<div>\n",
              "<style scoped>\n",
              "    .dataframe tbody tr th:only-of-type {\n",
              "        vertical-align: middle;\n",
              "    }\n",
              "\n",
              "    .dataframe tbody tr th {\n",
              "        vertical-align: top;\n",
              "    }\n",
              "\n",
              "    .dataframe thead th {\n",
              "        text-align: right;\n",
              "    }\n",
              "</style>\n",
              "<table border=\"1\" class=\"dataframe\">\n",
              "  <thead>\n",
              "    <tr style=\"text-align: right;\">\n",
              "      <th></th>\n",
              "      <th>Y</th>\n",
              "      <th>X</th>\n",
              "    </tr>\n",
              "  </thead>\n",
              "  <tbody>\n",
              "    <tr>\n",
              "      <th>0</th>\n",
              "      <td>3011</td>\n",
              "      <td>9714</td>\n",
              "    </tr>\n",
              "    <tr>\n",
              "      <th>1</th>\n",
              "      <td>1305</td>\n",
              "      <td>3728</td>\n",
              "    </tr>\n",
              "    <tr>\n",
              "      <th>2</th>\n",
              "      <td>1879</td>\n",
              "      <td>6062</td>\n",
              "    </tr>\n",
              "    <tr>\n",
              "      <th>3</th>\n",
              "      <td>2654</td>\n",
              "      <td>8845</td>\n",
              "    </tr>\n",
              "    <tr>\n",
              "      <th>4</th>\n",
              "      <td>2849</td>\n",
              "      <td>8378</td>\n",
              "    </tr>\n",
              "  </tbody>\n",
              "</table>\n",
              "</div>"
            ],
            "text/plain": [
              "      Y     X\n",
              "0  3011  9714\n",
              "1  1305  3728\n",
              "2  1879  6062\n",
              "3  2654  8845\n",
              "4  2849  8378"
            ]
          },
          "metadata": {
            "tags": []
          },
          "execution_count": 158
        }
      ]
    },
    {
      "cell_type": "markdown",
      "metadata": {
        "id": "EX-oAn2rcalU"
      },
      "source": [
        "### Obter $\\hat{\\beta}_2$\n",
        "\n",
        "# $$\\hat{\\beta}_2 = \\frac{n\\sum{X_iY_i} - \\sum{X_i}\\sum{Y_i}}{n\\sum{X_i^2} - (\\sum{X_i})^2}$$"
      ]
    },
    {
      "cell_type": "code",
      "metadata": {
        "colab": {
          "base_uri": "https://localhost:8080/"
        },
        "id": "UY-nWn7LcalU",
        "outputId": "9353f63c-01ca-465f-cdb3-8995bec58b13"
      },
      "source": [
        "numerador = n * SOMA_XY - SOMA_X * SOMA_Y\n",
        "denominador = n * SOMA_X2 - (SOMA_X)**2\n",
        "beta_2 = numerador / denominador\n",
        "beta_2"
      ],
      "execution_count": 159,
      "outputs": [
        {
          "output_type": "execute_result",
          "data": {
            "text/plain": [
              "0.29729069099372424"
            ]
          },
          "metadata": {
            "tags": []
          },
          "execution_count": 159
        }
      ]
    },
    {
      "cell_type": "markdown",
      "metadata": {
        "id": "v4QCFagscalW"
      },
      "source": [
        "### Obter $\\hat{\\beta}_1$\n",
        "\n",
        "# $$\n",
        "\\begin{eqnarray}\n",
        "\\hat{\\beta}_1 &=& \\frac{\\sum{X_i^2}\\sum{Y_i} - \\sum{X_i}\\sum{X_iY_i}}{n\\sum{X_i^2} - (\\sum{X_i})^2}\\\\\n",
        "&=& \\bar{Y} - \\hat{\\beta}_2\\bar{X}\n",
        "\\end{eqnarray}\n",
        "$$ "
      ]
    },
    {
      "cell_type": "code",
      "metadata": {
        "colab": {
          "base_uri": "https://localhost:8080/"
        },
        "id": "-Gjc1ra5calW",
        "outputId": "84d22d56-a39a-4b09-9569-61868b638bf8"
      },
      "source": [
        "beta_1 = dataset.Y.mean() - beta_2 * dataset.X.mean()\n",
        "beta_1"
      ],
      "execution_count": 160,
      "outputs": [
        {
          "output_type": "execute_result",
          "data": {
            "text/plain": [
              "207.90331377756547"
            ]
          },
          "metadata": {
            "tags": []
          },
          "execution_count": 160
        }
      ]
    },
    {
      "cell_type": "markdown",
      "metadata": {
        "id": "SjcncMd1calY"
      },
      "source": [
        "### Obtendo a estimativa dos parâmetros com o StatsModels"
      ]
    },
    {
      "cell_type": "markdown",
      "metadata": {
        "id": "Ud6O4f-qcalY"
      },
      "source": [
        "### Importando a biblioteca\n",
        "https://www.statsmodels.org/stable/index.html"
      ]
    },
    {
      "cell_type": "code",
      "metadata": {
        "id": "QnYZ2T-7calZ"
      },
      "source": [
        "import statsmodels.api as sm"
      ],
      "execution_count": 161,
      "outputs": []
    },
    {
      "cell_type": "code",
      "metadata": {
        "id": "sUlIFQh-calb"
      },
      "source": [
        "Y = dataset.Y\n",
        "X = sm.add_constant(dataset.X)"
      ],
      "execution_count": 162,
      "outputs": []
    },
    {
      "cell_type": "code",
      "metadata": {
        "colab": {
          "base_uri": "https://localhost:8080/"
        },
        "id": "6Npgg9NNcald",
        "scrolled": true,
        "outputId": "d142329b-06f5-437c-bd11-c6af28c7e35f"
      },
      "source": [
        "Y.head()"
      ],
      "execution_count": 163,
      "outputs": [
        {
          "output_type": "execute_result",
          "data": {
            "text/plain": [
              "0    3011\n",
              "1    1305\n",
              "2    1879\n",
              "3    2654\n",
              "4    2849\n",
              "Name: Y, dtype: int64"
            ]
          },
          "metadata": {
            "tags": []
          },
          "execution_count": 163
        }
      ]
    },
    {
      "cell_type": "code",
      "metadata": {
        "colab": {
          "base_uri": "https://localhost:8080/",
          "height": 204
        },
        "id": "eDgJXjCAcale",
        "scrolled": true,
        "outputId": "53936bf7-3b76-483a-cd8b-6e87a2b61316"
      },
      "source": [
        "X.head()"
      ],
      "execution_count": 164,
      "outputs": [
        {
          "output_type": "execute_result",
          "data": {
            "text/html": [
              "<div>\n",
              "<style scoped>\n",
              "    .dataframe tbody tr th:only-of-type {\n",
              "        vertical-align: middle;\n",
              "    }\n",
              "\n",
              "    .dataframe tbody tr th {\n",
              "        vertical-align: top;\n",
              "    }\n",
              "\n",
              "    .dataframe thead th {\n",
              "        text-align: right;\n",
              "    }\n",
              "</style>\n",
              "<table border=\"1\" class=\"dataframe\">\n",
              "  <thead>\n",
              "    <tr style=\"text-align: right;\">\n",
              "      <th></th>\n",
              "      <th>const</th>\n",
              "      <th>X</th>\n",
              "    </tr>\n",
              "  </thead>\n",
              "  <tbody>\n",
              "    <tr>\n",
              "      <th>0</th>\n",
              "      <td>1.0</td>\n",
              "      <td>9714</td>\n",
              "    </tr>\n",
              "    <tr>\n",
              "      <th>1</th>\n",
              "      <td>1.0</td>\n",
              "      <td>3728</td>\n",
              "    </tr>\n",
              "    <tr>\n",
              "      <th>2</th>\n",
              "      <td>1.0</td>\n",
              "      <td>6062</td>\n",
              "    </tr>\n",
              "    <tr>\n",
              "      <th>3</th>\n",
              "      <td>1.0</td>\n",
              "      <td>8845</td>\n",
              "    </tr>\n",
              "    <tr>\n",
              "      <th>4</th>\n",
              "      <td>1.0</td>\n",
              "      <td>8378</td>\n",
              "    </tr>\n",
              "  </tbody>\n",
              "</table>\n",
              "</div>"
            ],
            "text/plain": [
              "   const     X\n",
              "0    1.0  9714\n",
              "1    1.0  3728\n",
              "2    1.0  6062\n",
              "3    1.0  8845\n",
              "4    1.0  8378"
            ]
          },
          "metadata": {
            "tags": []
          },
          "execution_count": 164
        }
      ]
    },
    {
      "cell_type": "markdown",
      "metadata": {
        "id": "OZs1ykL_calh"
      },
      "source": [
        "### Estimando o modelo"
      ]
    },
    {
      "cell_type": "code",
      "metadata": {
        "id": "CGGritStcalh"
      },
      "source": [
        "resultado_regressao = sm.OLS(Y, X, missing='drop').fit()"
      ],
      "execution_count": 165,
      "outputs": []
    },
    {
      "cell_type": "markdown",
      "metadata": {
        "id": "pyVnbv7vcali"
      },
      "source": [
        "### Visualizando os parâmetros estimados"
      ]
    },
    {
      "cell_type": "code",
      "metadata": {
        "colab": {
          "base_uri": "https://localhost:8080/"
        },
        "id": "Ye2sF_ygcalj",
        "outputId": "38568f28-31e1-403c-cfe8-bd47065b76b3"
      },
      "source": [
        "beta_1"
      ],
      "execution_count": 166,
      "outputs": [
        {
          "output_type": "execute_result",
          "data": {
            "text/plain": [
              "207.90331377756547"
            ]
          },
          "metadata": {
            "tags": []
          },
          "execution_count": 166
        }
      ]
    },
    {
      "cell_type": "code",
      "metadata": {
        "colab": {
          "base_uri": "https://localhost:8080/"
        },
        "id": "5RGcqao9call",
        "outputId": "1e1c7e73-2f9a-406f-843b-e6bf98aa1766"
      },
      "source": [
        "beta_2"
      ],
      "execution_count": 167,
      "outputs": [
        {
          "output_type": "execute_result",
          "data": {
            "text/plain": [
              "0.29729069099372424"
            ]
          },
          "metadata": {
            "tags": []
          },
          "execution_count": 167
        }
      ]
    },
    {
      "cell_type": "code",
      "metadata": {
        "colab": {
          "base_uri": "https://localhost:8080/"
        },
        "id": "RUScqQ1dcalm",
        "outputId": "9f1a7800-171b-44e9-973a-bd0fdaa72fe6"
      },
      "source": [
        "resultado_regressao.params"
      ],
      "execution_count": 168,
      "outputs": [
        {
          "output_type": "execute_result",
          "data": {
            "text/plain": [
              "const    207.903314\n",
              "X          0.297291\n",
              "dtype: float64"
            ]
          },
          "metadata": {
            "tags": []
          },
          "execution_count": 168
        }
      ]
    },
    {
      "cell_type": "code",
      "metadata": {
        "colab": {
          "base_uri": "https://localhost:8080/"
        },
        "id": "9geqX6FScaln",
        "outputId": "db2bb86d-ee34-49bb-ba62-134029d8fd59"
      },
      "source": [
        "beta_1 = resultado_regressao.params[0]\n",
        "beta_1"
      ],
      "execution_count": 169,
      "outputs": [
        {
          "output_type": "execute_result",
          "data": {
            "text/plain": [
              "207.90331377756553"
            ]
          },
          "metadata": {
            "tags": []
          },
          "execution_count": 169
        }
      ]
    },
    {
      "cell_type": "code",
      "metadata": {
        "colab": {
          "base_uri": "https://localhost:8080/"
        },
        "id": "U238WwEVcalo",
        "outputId": "412fb8c1-5d97-4133-b560-1573f2bc583b"
      },
      "source": [
        "beta_2 = resultado_regressao.params[1]\n",
        "beta_2"
      ],
      "execution_count": 170,
      "outputs": [
        {
          "output_type": "execute_result",
          "data": {
            "text/plain": [
              "0.29729069099372435"
            ]
          },
          "metadata": {
            "tags": []
          },
          "execution_count": 170
        }
      ]
    },
    {
      "cell_type": "markdown",
      "metadata": {
        "id": "POcFkp72calp"
      },
      "source": [
        "### Intervalo de confiança para os parâmetros estimados"
      ]
    },
    {
      "cell_type": "code",
      "metadata": {
        "colab": {
          "base_uri": "https://localhost:8080/",
          "height": 111
        },
        "id": "-VrPhUV8calp",
        "outputId": "a5cb4da9-4eb5-457a-d567-e019cb31d9eb"
      },
      "source": [
        "resultado_regressao.conf_int(alpha=0.05)"
      ],
      "execution_count": 171,
      "outputs": [
        {
          "output_type": "execute_result",
          "data": {
            "text/html": [
              "<div>\n",
              "<style scoped>\n",
              "    .dataframe tbody tr th:only-of-type {\n",
              "        vertical-align: middle;\n",
              "    }\n",
              "\n",
              "    .dataframe tbody tr th {\n",
              "        vertical-align: top;\n",
              "    }\n",
              "\n",
              "    .dataframe thead th {\n",
              "        text-align: right;\n",
              "    }\n",
              "</style>\n",
              "<table border=\"1\" class=\"dataframe\">\n",
              "  <thead>\n",
              "    <tr style=\"text-align: right;\">\n",
              "      <th></th>\n",
              "      <th>0</th>\n",
              "      <th>1</th>\n",
              "    </tr>\n",
              "  </thead>\n",
              "  <tbody>\n",
              "    <tr>\n",
              "      <th>const</th>\n",
              "      <td>107.116864</td>\n",
              "      <td>308.689763</td>\n",
              "    </tr>\n",
              "    <tr>\n",
              "      <th>X</th>\n",
              "      <td>0.282092</td>\n",
              "      <td>0.312490</td>\n",
              "    </tr>\n",
              "  </tbody>\n",
              "</table>\n",
              "</div>"
            ],
            "text/plain": [
              "                0           1\n",
              "const  107.116864  308.689763\n",
              "X        0.282092    0.312490"
            ]
          },
          "metadata": {
            "tags": []
          },
          "execution_count": 171
        }
      ]
    },
    {
      "cell_type": "markdown",
      "metadata": {
        "id": "Je8U449lcalq"
      },
      "source": [
        "## <font color=green>4.4 Obtendo previsões</font>\n",
        "***"
      ]
    },
    {
      "cell_type": "markdown",
      "metadata": {
        "id": "PNPQFFsrcalq"
      },
      "source": [
        "# $$\\hat{Y}_i = 207,9033 + 0,2973X_i$$"
      ]
    },
    {
      "cell_type": "markdown",
      "metadata": {
        "id": "qNpJclcrcalr"
      },
      "source": [
        "### Previsões dentro da amostra"
      ]
    },
    {
      "cell_type": "code",
      "metadata": {
        "colab": {
          "base_uri": "https://localhost:8080/",
          "height": 359
        },
        "id": "fqOX7ssAcalr",
        "scrolled": true,
        "outputId": "115ba9e1-6be5-45b0-ef3f-53c41a4d4286"
      },
      "source": [
        "dataset['Y_previsto'] = beta_1 + beta_2 * dataset.X\n",
        "dataset.head(10)"
      ],
      "execution_count": 172,
      "outputs": [
        {
          "output_type": "execute_result",
          "data": {
            "text/html": [
              "<div>\n",
              "<style scoped>\n",
              "    .dataframe tbody tr th:only-of-type {\n",
              "        vertical-align: middle;\n",
              "    }\n",
              "\n",
              "    .dataframe tbody tr th {\n",
              "        vertical-align: top;\n",
              "    }\n",
              "\n",
              "    .dataframe thead th {\n",
              "        text-align: right;\n",
              "    }\n",
              "</style>\n",
              "<table border=\"1\" class=\"dataframe\">\n",
              "  <thead>\n",
              "    <tr style=\"text-align: right;\">\n",
              "      <th></th>\n",
              "      <th>Y</th>\n",
              "      <th>X</th>\n",
              "      <th>Y_previsto</th>\n",
              "    </tr>\n",
              "  </thead>\n",
              "  <tbody>\n",
              "    <tr>\n",
              "      <th>0</th>\n",
              "      <td>3011</td>\n",
              "      <td>9714</td>\n",
              "      <td>3095.785086</td>\n",
              "    </tr>\n",
              "    <tr>\n",
              "      <th>1</th>\n",
              "      <td>1305</td>\n",
              "      <td>3728</td>\n",
              "      <td>1316.203010</td>\n",
              "    </tr>\n",
              "    <tr>\n",
              "      <th>2</th>\n",
              "      <td>1879</td>\n",
              "      <td>6062</td>\n",
              "      <td>2010.079483</td>\n",
              "    </tr>\n",
              "    <tr>\n",
              "      <th>3</th>\n",
              "      <td>2654</td>\n",
              "      <td>8845</td>\n",
              "      <td>2837.439476</td>\n",
              "    </tr>\n",
              "    <tr>\n",
              "      <th>4</th>\n",
              "      <td>2849</td>\n",
              "      <td>8378</td>\n",
              "      <td>2698.604723</td>\n",
              "    </tr>\n",
              "    <tr>\n",
              "      <th>5</th>\n",
              "      <td>1068</td>\n",
              "      <td>3338</td>\n",
              "      <td>1200.259640</td>\n",
              "    </tr>\n",
              "    <tr>\n",
              "      <th>6</th>\n",
              "      <td>2892</td>\n",
              "      <td>8507</td>\n",
              "      <td>2736.955222</td>\n",
              "    </tr>\n",
              "    <tr>\n",
              "      <th>7</th>\n",
              "      <td>2543</td>\n",
              "      <td>7947</td>\n",
              "      <td>2570.472435</td>\n",
              "    </tr>\n",
              "    <tr>\n",
              "      <th>8</th>\n",
              "      <td>3074</td>\n",
              "      <td>9915</td>\n",
              "      <td>3155.540515</td>\n",
              "    </tr>\n",
              "    <tr>\n",
              "      <th>9</th>\n",
              "      <td>849</td>\n",
              "      <td>1632</td>\n",
              "      <td>693.081721</td>\n",
              "    </tr>\n",
              "  </tbody>\n",
              "</table>\n",
              "</div>"
            ],
            "text/plain": [
              "      Y     X   Y_previsto\n",
              "0  3011  9714  3095.785086\n",
              "1  1305  3728  1316.203010\n",
              "2  1879  6062  2010.079483\n",
              "3  2654  8845  2837.439476\n",
              "4  2849  8378  2698.604723\n",
              "5  1068  3338  1200.259640\n",
              "6  2892  8507  2736.955222\n",
              "7  2543  7947  2570.472435\n",
              "8  3074  9915  3155.540515\n",
              "9   849  1632   693.081721"
            ]
          },
          "metadata": {
            "tags": []
          },
          "execution_count": 172
        }
      ]
    },
    {
      "cell_type": "markdown",
      "metadata": {
        "id": "hRRoxxAwcals"
      },
      "source": [
        "### Utilizando o statsmodels"
      ]
    },
    {
      "cell_type": "code",
      "metadata": {
        "colab": {
          "base_uri": "https://localhost:8080/",
          "height": 204
        },
        "id": "qLhv0yTgcals",
        "scrolled": true,
        "outputId": "53bd4e7b-f35d-4f91-d4a2-05de215d7c3d"
      },
      "source": [
        "dataset['Y_previsto_statsmodels'] = resultado_regressao.predict()\n",
        "dataset.head()"
      ],
      "execution_count": 173,
      "outputs": [
        {
          "output_type": "execute_result",
          "data": {
            "text/html": [
              "<div>\n",
              "<style scoped>\n",
              "    .dataframe tbody tr th:only-of-type {\n",
              "        vertical-align: middle;\n",
              "    }\n",
              "\n",
              "    .dataframe tbody tr th {\n",
              "        vertical-align: top;\n",
              "    }\n",
              "\n",
              "    .dataframe thead th {\n",
              "        text-align: right;\n",
              "    }\n",
              "</style>\n",
              "<table border=\"1\" class=\"dataframe\">\n",
              "  <thead>\n",
              "    <tr style=\"text-align: right;\">\n",
              "      <th></th>\n",
              "      <th>Y</th>\n",
              "      <th>X</th>\n",
              "      <th>Y_previsto</th>\n",
              "      <th>Y_previsto_statsmodels</th>\n",
              "    </tr>\n",
              "  </thead>\n",
              "  <tbody>\n",
              "    <tr>\n",
              "      <th>0</th>\n",
              "      <td>3011</td>\n",
              "      <td>9714</td>\n",
              "      <td>3095.785086</td>\n",
              "      <td>3095.785086</td>\n",
              "    </tr>\n",
              "    <tr>\n",
              "      <th>1</th>\n",
              "      <td>1305</td>\n",
              "      <td>3728</td>\n",
              "      <td>1316.203010</td>\n",
              "      <td>1316.203010</td>\n",
              "    </tr>\n",
              "    <tr>\n",
              "      <th>2</th>\n",
              "      <td>1879</td>\n",
              "      <td>6062</td>\n",
              "      <td>2010.079483</td>\n",
              "      <td>2010.079483</td>\n",
              "    </tr>\n",
              "    <tr>\n",
              "      <th>3</th>\n",
              "      <td>2654</td>\n",
              "      <td>8845</td>\n",
              "      <td>2837.439476</td>\n",
              "      <td>2837.439476</td>\n",
              "    </tr>\n",
              "    <tr>\n",
              "      <th>4</th>\n",
              "      <td>2849</td>\n",
              "      <td>8378</td>\n",
              "      <td>2698.604723</td>\n",
              "      <td>2698.604723</td>\n",
              "    </tr>\n",
              "  </tbody>\n",
              "</table>\n",
              "</div>"
            ],
            "text/plain": [
              "      Y     X   Y_previsto  Y_previsto_statsmodels\n",
              "0  3011  9714  3095.785086             3095.785086\n",
              "1  1305  3728  1316.203010             1316.203010\n",
              "2  1879  6062  2010.079483             2010.079483\n",
              "3  2654  8845  2837.439476             2837.439476\n",
              "4  2849  8378  2698.604723             2698.604723"
            ]
          },
          "metadata": {
            "tags": []
          },
          "execution_count": 173
        }
      ]
    },
    {
      "cell_type": "code",
      "metadata": {
        "colab": {
          "base_uri": "https://localhost:8080/",
          "height": 1000
        },
        "id": "FctIV05Kcalu",
        "scrolled": true,
        "outputId": "ddfea279-9932-4995-cb4b-77ec2b94d86b"
      },
      "source": [
        "dataset.drop(['Y_previsto_statsmodels'], axis = 1, inplace = True)\n",
        "dataset"
      ],
      "execution_count": 174,
      "outputs": [
        {
          "output_type": "execute_result",
          "data": {
            "text/html": [
              "<div>\n",
              "<style scoped>\n",
              "    .dataframe tbody tr th:only-of-type {\n",
              "        vertical-align: middle;\n",
              "    }\n",
              "\n",
              "    .dataframe tbody tr th {\n",
              "        vertical-align: top;\n",
              "    }\n",
              "\n",
              "    .dataframe thead th {\n",
              "        text-align: right;\n",
              "    }\n",
              "</style>\n",
              "<table border=\"1\" class=\"dataframe\">\n",
              "  <thead>\n",
              "    <tr style=\"text-align: right;\">\n",
              "      <th></th>\n",
              "      <th>Y</th>\n",
              "      <th>X</th>\n",
              "      <th>Y_previsto</th>\n",
              "    </tr>\n",
              "  </thead>\n",
              "  <tbody>\n",
              "    <tr>\n",
              "      <th>0</th>\n",
              "      <td>3011</td>\n",
              "      <td>9714</td>\n",
              "      <td>3095.785086</td>\n",
              "    </tr>\n",
              "    <tr>\n",
              "      <th>1</th>\n",
              "      <td>1305</td>\n",
              "      <td>3728</td>\n",
              "      <td>1316.203010</td>\n",
              "    </tr>\n",
              "    <tr>\n",
              "      <th>2</th>\n",
              "      <td>1879</td>\n",
              "      <td>6062</td>\n",
              "      <td>2010.079483</td>\n",
              "    </tr>\n",
              "    <tr>\n",
              "      <th>3</th>\n",
              "      <td>2654</td>\n",
              "      <td>8845</td>\n",
              "      <td>2837.439476</td>\n",
              "    </tr>\n",
              "    <tr>\n",
              "      <th>4</th>\n",
              "      <td>2849</td>\n",
              "      <td>8378</td>\n",
              "      <td>2698.604723</td>\n",
              "    </tr>\n",
              "    <tr>\n",
              "      <th>5</th>\n",
              "      <td>1068</td>\n",
              "      <td>3338</td>\n",
              "      <td>1200.259640</td>\n",
              "    </tr>\n",
              "    <tr>\n",
              "      <th>6</th>\n",
              "      <td>2892</td>\n",
              "      <td>8507</td>\n",
              "      <td>2736.955222</td>\n",
              "    </tr>\n",
              "    <tr>\n",
              "      <th>7</th>\n",
              "      <td>2543</td>\n",
              "      <td>7947</td>\n",
              "      <td>2570.472435</td>\n",
              "    </tr>\n",
              "    <tr>\n",
              "      <th>8</th>\n",
              "      <td>3074</td>\n",
              "      <td>9915</td>\n",
              "      <td>3155.540515</td>\n",
              "    </tr>\n",
              "    <tr>\n",
              "      <th>9</th>\n",
              "      <td>849</td>\n",
              "      <td>1632</td>\n",
              "      <td>693.081721</td>\n",
              "    </tr>\n",
              "    <tr>\n",
              "      <th>10</th>\n",
              "      <td>2184</td>\n",
              "      <td>6825</td>\n",
              "      <td>2236.912280</td>\n",
              "    </tr>\n",
              "    <tr>\n",
              "      <th>11</th>\n",
              "      <td>2943</td>\n",
              "      <td>8918</td>\n",
              "      <td>2859.141696</td>\n",
              "    </tr>\n",
              "    <tr>\n",
              "      <th>12</th>\n",
              "      <td>1357</td>\n",
              "      <td>4100</td>\n",
              "      <td>1426.795147</td>\n",
              "    </tr>\n",
              "    <tr>\n",
              "      <th>13</th>\n",
              "      <td>2755</td>\n",
              "      <td>9184</td>\n",
              "      <td>2938.221020</td>\n",
              "    </tr>\n",
              "    <tr>\n",
              "      <th>14</th>\n",
              "      <td>2163</td>\n",
              "      <td>6180</td>\n",
              "      <td>2045.159784</td>\n",
              "    </tr>\n",
              "    <tr>\n",
              "      <th>15</th>\n",
              "      <td>3099</td>\n",
              "      <td>9997</td>\n",
              "      <td>3179.918352</td>\n",
              "    </tr>\n",
              "    <tr>\n",
              "      <th>16</th>\n",
              "      <td>1600</td>\n",
              "      <td>4500</td>\n",
              "      <td>1545.711423</td>\n",
              "    </tr>\n",
              "    <tr>\n",
              "      <th>17</th>\n",
              "      <td>353</td>\n",
              "      <td>1069</td>\n",
              "      <td>525.707062</td>\n",
              "    </tr>\n",
              "    <tr>\n",
              "      <th>18</th>\n",
              "      <td>1778</td>\n",
              "      <td>5925</td>\n",
              "      <td>1969.350658</td>\n",
              "    </tr>\n",
              "    <tr>\n",
              "      <th>19</th>\n",
              "      <td>740</td>\n",
              "      <td>2466</td>\n",
              "      <td>941.022158</td>\n",
              "    </tr>\n",
              "    <tr>\n",
              "      <th>20</th>\n",
              "      <td>2129</td>\n",
              "      <td>6083</td>\n",
              "      <td>2016.322587</td>\n",
              "    </tr>\n",
              "    <tr>\n",
              "      <th>21</th>\n",
              "      <td>3302</td>\n",
              "      <td>9712</td>\n",
              "      <td>3095.190505</td>\n",
              "    </tr>\n",
              "    <tr>\n",
              "      <th>22</th>\n",
              "      <td>2412</td>\n",
              "      <td>7780</td>\n",
              "      <td>2520.824890</td>\n",
              "    </tr>\n",
              "    <tr>\n",
              "      <th>23</th>\n",
              "      <td>2683</td>\n",
              "      <td>8383</td>\n",
              "      <td>2700.091176</td>\n",
              "    </tr>\n",
              "    <tr>\n",
              "      <th>24</th>\n",
              "      <td>2515</td>\n",
              "      <td>7185</td>\n",
              "      <td>2343.936929</td>\n",
              "    </tr>\n",
              "    <tr>\n",
              "      <th>25</th>\n",
              "      <td>2395</td>\n",
              "      <td>7483</td>\n",
              "      <td>2432.529554</td>\n",
              "    </tr>\n",
              "    <tr>\n",
              "      <th>26</th>\n",
              "      <td>2292</td>\n",
              "      <td>7640</td>\n",
              "      <td>2479.204193</td>\n",
              "    </tr>\n",
              "    <tr>\n",
              "      <th>27</th>\n",
              "      <td>1000</td>\n",
              "      <td>2100</td>\n",
              "      <td>832.213765</td>\n",
              "    </tr>\n",
              "    <tr>\n",
              "      <th>28</th>\n",
              "      <td>600</td>\n",
              "      <td>2000</td>\n",
              "      <td>802.484696</td>\n",
              "    </tr>\n",
              "    <tr>\n",
              "      <th>29</th>\n",
              "      <td>1864</td>\n",
              "      <td>6012</td>\n",
              "      <td>1995.214948</td>\n",
              "    </tr>\n",
              "    <tr>\n",
              "      <th>30</th>\n",
              "      <td>3027</td>\n",
              "      <td>8902</td>\n",
              "      <td>2854.385045</td>\n",
              "    </tr>\n",
              "    <tr>\n",
              "      <th>31</th>\n",
              "      <td>1978</td>\n",
              "      <td>5345</td>\n",
              "      <td>1796.922057</td>\n",
              "    </tr>\n",
              "    <tr>\n",
              "      <th>32</th>\n",
              "      <td>2791</td>\n",
              "      <td>8210</td>\n",
              "      <td>2648.659887</td>\n",
              "    </tr>\n",
              "    <tr>\n",
              "      <th>33</th>\n",
              "      <td>1982</td>\n",
              "      <td>5662</td>\n",
              "      <td>1891.163206</td>\n",
              "    </tr>\n",
              "    <tr>\n",
              "      <th>34</th>\n",
              "      <td>900</td>\n",
              "      <td>2700</td>\n",
              "      <td>1010.588179</td>\n",
              "    </tr>\n",
              "    <tr>\n",
              "      <th>35</th>\n",
              "      <td>1964</td>\n",
              "      <td>6546</td>\n",
              "      <td>2153.968177</td>\n",
              "    </tr>\n",
              "    <tr>\n",
              "      <th>36</th>\n",
              "      <td>1247</td>\n",
              "      <td>2900</td>\n",
              "      <td>1070.046318</td>\n",
              "    </tr>\n",
              "    <tr>\n",
              "      <th>37</th>\n",
              "      <td>3067</td>\n",
              "      <td>9894</td>\n",
              "      <td>3149.297410</td>\n",
              "    </tr>\n",
              "    <tr>\n",
              "      <th>38</th>\n",
              "      <td>700</td>\n",
              "      <td>1500</td>\n",
              "      <td>653.839350</td>\n",
              "    </tr>\n",
              "    <tr>\n",
              "      <th>39</th>\n",
              "      <td>1500</td>\n",
              "      <td>5000</td>\n",
              "      <td>1694.356769</td>\n",
              "    </tr>\n",
              "    <tr>\n",
              "      <th>40</th>\n",
              "      <td>3110</td>\n",
              "      <td>8885</td>\n",
              "      <td>2849.331103</td>\n",
              "    </tr>\n",
              "    <tr>\n",
              "      <th>41</th>\n",
              "      <td>2644</td>\n",
              "      <td>8813</td>\n",
              "      <td>2827.926174</td>\n",
              "    </tr>\n",
              "    <tr>\n",
              "      <th>42</th>\n",
              "      <td>1378</td>\n",
              "      <td>3446</td>\n",
              "      <td>1232.367035</td>\n",
              "    </tr>\n",
              "    <tr>\n",
              "      <th>43</th>\n",
              "      <td>2601</td>\n",
              "      <td>7881</td>\n",
              "      <td>2550.851249</td>\n",
              "    </tr>\n",
              "    <tr>\n",
              "      <th>44</th>\n",
              "      <td>501</td>\n",
              "      <td>1164</td>\n",
              "      <td>553.949678</td>\n",
              "    </tr>\n",
              "    <tr>\n",
              "      <th>45</th>\n",
              "      <td>1292</td>\n",
              "      <td>3401</td>\n",
              "      <td>1218.988954</td>\n",
              "    </tr>\n",
              "    <tr>\n",
              "      <th>46</th>\n",
              "      <td>2125</td>\n",
              "      <td>6641</td>\n",
              "      <td>2182.210793</td>\n",
              "    </tr>\n",
              "    <tr>\n",
              "      <th>47</th>\n",
              "      <td>1431</td>\n",
              "      <td>3329</td>\n",
              "      <td>1197.584024</td>\n",
              "    </tr>\n",
              "    <tr>\n",
              "      <th>48</th>\n",
              "      <td>2260</td>\n",
              "      <td>6648</td>\n",
              "      <td>2184.291828</td>\n",
              "    </tr>\n",
              "    <tr>\n",
              "      <th>49</th>\n",
              "      <td>1770</td>\n",
              "      <td>4800</td>\n",
              "      <td>1634.898631</td>\n",
              "    </tr>\n",
              "  </tbody>\n",
              "</table>\n",
              "</div>"
            ],
            "text/plain": [
              "       Y     X   Y_previsto\n",
              "0   3011  9714  3095.785086\n",
              "1   1305  3728  1316.203010\n",
              "2   1879  6062  2010.079483\n",
              "3   2654  8845  2837.439476\n",
              "4   2849  8378  2698.604723\n",
              "5   1068  3338  1200.259640\n",
              "6   2892  8507  2736.955222\n",
              "7   2543  7947  2570.472435\n",
              "8   3074  9915  3155.540515\n",
              "9    849  1632   693.081721\n",
              "10  2184  6825  2236.912280\n",
              "11  2943  8918  2859.141696\n",
              "12  1357  4100  1426.795147\n",
              "13  2755  9184  2938.221020\n",
              "14  2163  6180  2045.159784\n",
              "15  3099  9997  3179.918352\n",
              "16  1600  4500  1545.711423\n",
              "17   353  1069   525.707062\n",
              "18  1778  5925  1969.350658\n",
              "19   740  2466   941.022158\n",
              "20  2129  6083  2016.322587\n",
              "21  3302  9712  3095.190505\n",
              "22  2412  7780  2520.824890\n",
              "23  2683  8383  2700.091176\n",
              "24  2515  7185  2343.936929\n",
              "25  2395  7483  2432.529554\n",
              "26  2292  7640  2479.204193\n",
              "27  1000  2100   832.213765\n",
              "28   600  2000   802.484696\n",
              "29  1864  6012  1995.214948\n",
              "30  3027  8902  2854.385045\n",
              "31  1978  5345  1796.922057\n",
              "32  2791  8210  2648.659887\n",
              "33  1982  5662  1891.163206\n",
              "34   900  2700  1010.588179\n",
              "35  1964  6546  2153.968177\n",
              "36  1247  2900  1070.046318\n",
              "37  3067  9894  3149.297410\n",
              "38   700  1500   653.839350\n",
              "39  1500  5000  1694.356769\n",
              "40  3110  8885  2849.331103\n",
              "41  2644  8813  2827.926174\n",
              "42  1378  3446  1232.367035\n",
              "43  2601  7881  2550.851249\n",
              "44   501  1164   553.949678\n",
              "45  1292  3401  1218.988954\n",
              "46  2125  6641  2182.210793\n",
              "47  1431  3329  1197.584024\n",
              "48  2260  6648  2184.291828\n",
              "49  1770  4800  1634.898631"
            ]
          },
          "metadata": {
            "tags": []
          },
          "execution_count": 174
        }
      ]
    },
    {
      "cell_type": "markdown",
      "metadata": {
        "id": "OZBs0luwcalv"
      },
      "source": [
        "### Estimando o 'Gasto das Famílias' fora da amostra"
      ]
    },
    {
      "cell_type": "code",
      "metadata": {
        "id": "4gXSqx41calv"
      },
      "source": [
        "def prever(x):\n",
        "  return beta_1 + beta_2 * x"
      ],
      "execution_count": 175,
      "outputs": []
    },
    {
      "cell_type": "code",
      "metadata": {
        "colab": {
          "base_uri": "https://localhost:8080/"
        },
        "id": "RyBwrPlQcalx",
        "outputId": "da6ca99a-03b8-4e59-8a30-e2385aeabc0f"
      },
      "source": [
        "prever(7510)"
      ],
      "execution_count": 176,
      "outputs": [
        {
          "output_type": "execute_result",
          "data": {
            "text/plain": [
              "2440.556403140435"
            ]
          },
          "metadata": {
            "tags": []
          },
          "execution_count": 176
        }
      ]
    },
    {
      "cell_type": "markdown",
      "metadata": {
        "id": "3P0ZtB-Qcalz"
      },
      "source": [
        "### Estimando o 'Gasto das Famílias' fora da amostra via StatsModels"
      ]
    },
    {
      "cell_type": "code",
      "metadata": {
        "colab": {
          "base_uri": "https://localhost:8080/"
        },
        "id": "DpDu_yiecal0",
        "outputId": "0057e589-e3ee-4c75-b40e-c3a5f73004f2"
      },
      "source": [
        "resultado_regressao.predict([1, 7510])[0]"
      ],
      "execution_count": 177,
      "outputs": [
        {
          "output_type": "execute_result",
          "data": {
            "text/plain": [
              "2440.556403140435"
            ]
          },
          "metadata": {
            "tags": []
          },
          "execution_count": 177
        }
      ]
    },
    {
      "cell_type": "markdown",
      "metadata": {
        "id": "NfEjm65Gcal2"
      },
      "source": [
        "## <font color=green>4.5 Resíduos</font>\n",
        "***"
      ]
    },
    {
      "cell_type": "markdown",
      "metadata": {
        "id": "RVAQCkvH75mH"
      },
      "source": [
        "Como vimos anteriormente, o resíduo da i-ésima observação é a diferença entre o valor observado de nossa variável dependente ($Y_i$) e o valor estimado da variável dependente ($\\hat{Y}_i$)."
      ]
    },
    {
      "cell_type": "markdown",
      "metadata": {
        "id": "EAGrrY7xcal3"
      },
      "source": [
        "# $$\\hat{u}_i = Y_i - \\hat{Y}_i$$"
      ]
    },
    {
      "cell_type": "markdown",
      "metadata": {
        "id": "QVekZtNU75mH"
      },
      "source": [
        "Em outras palavras, $\\hat{u}_i$ é o erro obtido ao se utilizar a equação de regressão estimada para prever o valor da variável dependente."
      ]
    },
    {
      "cell_type": "code",
      "metadata": {
        "colab": {
          "base_uri": "https://localhost:8080/",
          "height": 204
        },
        "id": "oiB2JiOLcal3",
        "scrolled": true,
        "outputId": "e5c6be44-ef61-4d0e-b252-edef986976a2"
      },
      "source": [
        "dataset['u'] = dataset.Y - dataset.Y_previsto\n",
        "dataset.head()"
      ],
      "execution_count": 178,
      "outputs": [
        {
          "output_type": "execute_result",
          "data": {
            "text/html": [
              "<div>\n",
              "<style scoped>\n",
              "    .dataframe tbody tr th:only-of-type {\n",
              "        vertical-align: middle;\n",
              "    }\n",
              "\n",
              "    .dataframe tbody tr th {\n",
              "        vertical-align: top;\n",
              "    }\n",
              "\n",
              "    .dataframe thead th {\n",
              "        text-align: right;\n",
              "    }\n",
              "</style>\n",
              "<table border=\"1\" class=\"dataframe\">\n",
              "  <thead>\n",
              "    <tr style=\"text-align: right;\">\n",
              "      <th></th>\n",
              "      <th>Y</th>\n",
              "      <th>X</th>\n",
              "      <th>Y_previsto</th>\n",
              "      <th>u</th>\n",
              "    </tr>\n",
              "  </thead>\n",
              "  <tbody>\n",
              "    <tr>\n",
              "      <th>0</th>\n",
              "      <td>3011</td>\n",
              "      <td>9714</td>\n",
              "      <td>3095.785086</td>\n",
              "      <td>-84.785086</td>\n",
              "    </tr>\n",
              "    <tr>\n",
              "      <th>1</th>\n",
              "      <td>1305</td>\n",
              "      <td>3728</td>\n",
              "      <td>1316.203010</td>\n",
              "      <td>-11.203010</td>\n",
              "    </tr>\n",
              "    <tr>\n",
              "      <th>2</th>\n",
              "      <td>1879</td>\n",
              "      <td>6062</td>\n",
              "      <td>2010.079483</td>\n",
              "      <td>-131.079483</td>\n",
              "    </tr>\n",
              "    <tr>\n",
              "      <th>3</th>\n",
              "      <td>2654</td>\n",
              "      <td>8845</td>\n",
              "      <td>2837.439476</td>\n",
              "      <td>-183.439476</td>\n",
              "    </tr>\n",
              "    <tr>\n",
              "      <th>4</th>\n",
              "      <td>2849</td>\n",
              "      <td>8378</td>\n",
              "      <td>2698.604723</td>\n",
              "      <td>150.395277</td>\n",
              "    </tr>\n",
              "  </tbody>\n",
              "</table>\n",
              "</div>"
            ],
            "text/plain": [
              "      Y     X   Y_previsto           u\n",
              "0  3011  9714  3095.785086  -84.785086\n",
              "1  1305  3728  1316.203010  -11.203010\n",
              "2  1879  6062  2010.079483 -131.079483\n",
              "3  2654  8845  2837.439476 -183.439476\n",
              "4  2849  8378  2698.604723  150.395277"
            ]
          },
          "metadata": {
            "tags": []
          },
          "execution_count": 178
        }
      ]
    },
    {
      "cell_type": "code",
      "metadata": {
        "colab": {
          "base_uri": "https://localhost:8080/",
          "height": 204
        },
        "id": "_rtZhoU8cal5",
        "outputId": "0a4c1ed2-9e19-431f-8fb8-ff18e80668a3"
      },
      "source": [
        "dataset['Residuos'] = resultado_regressao.resid\n",
        "dataset.head()"
      ],
      "execution_count": 179,
      "outputs": [
        {
          "output_type": "execute_result",
          "data": {
            "text/html": [
              "<div>\n",
              "<style scoped>\n",
              "    .dataframe tbody tr th:only-of-type {\n",
              "        vertical-align: middle;\n",
              "    }\n",
              "\n",
              "    .dataframe tbody tr th {\n",
              "        vertical-align: top;\n",
              "    }\n",
              "\n",
              "    .dataframe thead th {\n",
              "        text-align: right;\n",
              "    }\n",
              "</style>\n",
              "<table border=\"1\" class=\"dataframe\">\n",
              "  <thead>\n",
              "    <tr style=\"text-align: right;\">\n",
              "      <th></th>\n",
              "      <th>Y</th>\n",
              "      <th>X</th>\n",
              "      <th>Y_previsto</th>\n",
              "      <th>u</th>\n",
              "      <th>Residuos</th>\n",
              "    </tr>\n",
              "  </thead>\n",
              "  <tbody>\n",
              "    <tr>\n",
              "      <th>0</th>\n",
              "      <td>3011</td>\n",
              "      <td>9714</td>\n",
              "      <td>3095.785086</td>\n",
              "      <td>-84.785086</td>\n",
              "      <td>-84.785086</td>\n",
              "    </tr>\n",
              "    <tr>\n",
              "      <th>1</th>\n",
              "      <td>1305</td>\n",
              "      <td>3728</td>\n",
              "      <td>1316.203010</td>\n",
              "      <td>-11.203010</td>\n",
              "      <td>-11.203010</td>\n",
              "    </tr>\n",
              "    <tr>\n",
              "      <th>2</th>\n",
              "      <td>1879</td>\n",
              "      <td>6062</td>\n",
              "      <td>2010.079483</td>\n",
              "      <td>-131.079483</td>\n",
              "      <td>-131.079483</td>\n",
              "    </tr>\n",
              "    <tr>\n",
              "      <th>3</th>\n",
              "      <td>2654</td>\n",
              "      <td>8845</td>\n",
              "      <td>2837.439476</td>\n",
              "      <td>-183.439476</td>\n",
              "      <td>-183.439476</td>\n",
              "    </tr>\n",
              "    <tr>\n",
              "      <th>4</th>\n",
              "      <td>2849</td>\n",
              "      <td>8378</td>\n",
              "      <td>2698.604723</td>\n",
              "      <td>150.395277</td>\n",
              "      <td>150.395277</td>\n",
              "    </tr>\n",
              "  </tbody>\n",
              "</table>\n",
              "</div>"
            ],
            "text/plain": [
              "      Y     X   Y_previsto           u    Residuos\n",
              "0  3011  9714  3095.785086  -84.785086  -84.785086\n",
              "1  1305  3728  1316.203010  -11.203010  -11.203010\n",
              "2  1879  6062  2010.079483 -131.079483 -131.079483\n",
              "3  2654  8845  2837.439476 -183.439476 -183.439476\n",
              "4  2849  8378  2698.604723  150.395277  150.395277"
            ]
          },
          "metadata": {
            "tags": []
          },
          "execution_count": 179
        }
      ]
    },
    {
      "cell_type": "code",
      "metadata": {
        "id": "GbnSv-B-cal6",
        "scrolled": true
      },
      "source": [
        "dataset.drop(['u'], axis=1, inplace=True)"
      ],
      "execution_count": 180,
      "outputs": []
    },
    {
      "cell_type": "code",
      "metadata": {
        "colab": {
          "base_uri": "https://localhost:8080/",
          "height": 204
        },
        "id": "HQZQyrCzmHha",
        "outputId": "f850545f-1fad-4f90-ca63-1fb2c8e9f602"
      },
      "source": [
        "dataset.head()"
      ],
      "execution_count": 181,
      "outputs": [
        {
          "output_type": "execute_result",
          "data": {
            "text/html": [
              "<div>\n",
              "<style scoped>\n",
              "    .dataframe tbody tr th:only-of-type {\n",
              "        vertical-align: middle;\n",
              "    }\n",
              "\n",
              "    .dataframe tbody tr th {\n",
              "        vertical-align: top;\n",
              "    }\n",
              "\n",
              "    .dataframe thead th {\n",
              "        text-align: right;\n",
              "    }\n",
              "</style>\n",
              "<table border=\"1\" class=\"dataframe\">\n",
              "  <thead>\n",
              "    <tr style=\"text-align: right;\">\n",
              "      <th></th>\n",
              "      <th>Y</th>\n",
              "      <th>X</th>\n",
              "      <th>Y_previsto</th>\n",
              "      <th>Residuos</th>\n",
              "    </tr>\n",
              "  </thead>\n",
              "  <tbody>\n",
              "    <tr>\n",
              "      <th>0</th>\n",
              "      <td>3011</td>\n",
              "      <td>9714</td>\n",
              "      <td>3095.785086</td>\n",
              "      <td>-84.785086</td>\n",
              "    </tr>\n",
              "    <tr>\n",
              "      <th>1</th>\n",
              "      <td>1305</td>\n",
              "      <td>3728</td>\n",
              "      <td>1316.203010</td>\n",
              "      <td>-11.203010</td>\n",
              "    </tr>\n",
              "    <tr>\n",
              "      <th>2</th>\n",
              "      <td>1879</td>\n",
              "      <td>6062</td>\n",
              "      <td>2010.079483</td>\n",
              "      <td>-131.079483</td>\n",
              "    </tr>\n",
              "    <tr>\n",
              "      <th>3</th>\n",
              "      <td>2654</td>\n",
              "      <td>8845</td>\n",
              "      <td>2837.439476</td>\n",
              "      <td>-183.439476</td>\n",
              "    </tr>\n",
              "    <tr>\n",
              "      <th>4</th>\n",
              "      <td>2849</td>\n",
              "      <td>8378</td>\n",
              "      <td>2698.604723</td>\n",
              "      <td>150.395277</td>\n",
              "    </tr>\n",
              "  </tbody>\n",
              "</table>\n",
              "</div>"
            ],
            "text/plain": [
              "      Y     X   Y_previsto    Residuos\n",
              "0  3011  9714  3095.785086  -84.785086\n",
              "1  1305  3728  1316.203010  -11.203010\n",
              "2  1879  6062  2010.079483 -131.079483\n",
              "3  2654  8845  2837.439476 -183.439476\n",
              "4  2849  8378  2698.604723  150.395277"
            ]
          },
          "metadata": {
            "tags": []
          },
          "execution_count": 181
        }
      ]
    },
    {
      "cell_type": "code",
      "metadata": {
        "colab": {
          "base_uri": "https://localhost:8080/"
        },
        "id": "ZHx4fk-kkiEC",
        "outputId": "339b62c8-8f70-402b-9c7c-1c5736264af0"
      },
      "source": [
        "dataset.Residuos.mean()"
      ],
      "execution_count": 182,
      "outputs": [
        {
          "output_type": "execute_result",
          "data": {
            "text/plain": [
              "-5.525180313270539e-13"
            ]
          },
          "metadata": {
            "tags": []
          },
          "execution_count": 182
        }
      ]
    },
    {
      "cell_type": "markdown",
      "metadata": {
        "id": "2FUvXCAW75mL"
      },
      "source": [
        "## <font color=green>4.6 Suposições sobre o termo de erro $u$</font>\n",
        "***\n",
        "\n",
        "### 1. O termo de erro $u$ é uma variável aleatória com média igual a zero: $E(u) = 0$\n",
        "### 2. A variância de $u$ é a mesma para todos os valores de $X$\n",
        "### 3. O valores de $u$ são independentes\n",
        "### 4. O termo de erro $u$ é uma variável aleatória normalmente distribuída."
      ]
    },
    {
      "cell_type": "markdown",
      "metadata": {
        "id": "7mFDWvhFcal7"
      },
      "source": [
        "### Plotando os resíduos do modelo\n",
        "\n",
        "https://seaborn.pydata.org/generated/seaborn.scatterplot.html"
      ]
    },
    {
      "cell_type": "code",
      "metadata": {
        "colab": {
          "base_uri": "https://localhost:8080/",
          "height": 430
        },
        "id": "r3RhXDBccal8",
        "outputId": "66479022-6f66-4a75-a742-55811cef86f4"
      },
      "source": [
        "ax = sns.scatterplot(x=dataset.X, y=dataset.Residuos)\n",
        "ax.figure.set_size_inches(12, 6)\n",
        "ax.set_title('Resíduos vs Variável Independente', fontsize=18)\n",
        "ax.set_xlabel('X', fontsize=14)\n",
        "ax.set_ylabel('Resíduos', fontsize=14)\n",
        "ax"
      ],
      "execution_count": 183,
      "outputs": [
        {
          "output_type": "execute_result",
          "data": {
            "text/plain": [
              "<matplotlib.axes._subplots.AxesSubplot at 0x7f8289a099b0>"
            ]
          },
          "metadata": {
            "tags": []
          },
          "execution_count": 183
        },
        {
          "output_type": "display_data",
          "data": {
            "image/png": "[encoded data removed]",
            "text/plain": [
              "<Figure size 864x432 with 1 Axes>"
            ]
          },
          "metadata": {
            "tags": [],
            "needs_background": "light"
          }
        }
      ]
    },
    {
      "cell_type": "code",
      "metadata": {
        "colab": {
          "base_uri": "https://localhost:8080/",
          "height": 430
        },
        "id": "6An7Ir6275mN",
        "outputId": "abd01927-74a7-48e3-fbab-37eee84f0362"
      },
      "source": [
        "ax = sns.scatterplot(x=dataset.Y_previsto, y=dataset.Residuos)\n",
        "ax.figure.set_size_inches(12, 6)\n",
        "ax.set_title('Resíduos vs Y_Previsto', fontsize=18)\n",
        "ax.set_xlabel('Y_Previsto', fontsize=14)\n",
        "ax.set_ylabel('Resíduos', fontsize=14)\n",
        "ax"
      ],
      "execution_count": 184,
      "outputs": [
        {
          "output_type": "execute_result",
          "data": {
            "text/plain": [
              "<matplotlib.axes._subplots.AxesSubplot at 0x7f8289992908>"
            ]
          },
          "metadata": {
            "tags": []
          },
          "execution_count": 184
        },
        {
          "output_type": "display_data",
          "data": {
            "image/png": "[encoded data removed]",
            "text/plain": [
              "<Figure size 864x432 with 1 Axes>"
            ]
          },
          "metadata": {
            "tags": [],
            "needs_background": "light"
          }
        }
      ]
    },
    {
      "cell_type": "markdown",
      "metadata": {
        "id": "72hPAKNKcamD"
      },
      "source": [
        "### Hipótese de variância constante"
      ]
    },
    {
      "cell_type": "markdown",
      "metadata": {
        "id": "dm_pfD0jcamE"
      },
      "source": [
        "<img src=\"https://caelum-online-public.s3.amazonaws.com/1273-estatistica-parte4/01/img028.jpg\" width=80%>\n",
        "Fonte: Econometria Básica - 5ª edição - Gujarati e Porter"
      ]
    },
    {
      "cell_type": "code",
      "metadata": {
        "colab": {
          "base_uri": "https://localhost:8080/",
          "height": 430
        },
        "id": "lCys_bu_camE",
        "outputId": "309e9341-8067-4bf8-e176-02c050639ce8"
      },
      "source": [
        "ax = sns.scatterplot(x=dataset.Y_previsto, y=dataset.Residuos**2)\n",
        "ax.figure.set_size_inches(12, 6)\n",
        "ax.set_title('Resíduos² vs Y_Previsto', fontsize=18)\n",
        "ax.set_xlabel('Y_Previsto', fontsize=14)\n",
        "ax.set_ylabel('Resíduos²', fontsize=14)\n",
        "ax"
      ],
      "execution_count": 185,
      "outputs": [
        {
          "output_type": "execute_result",
          "data": {
            "text/plain": [
              "<matplotlib.axes._subplots.AxesSubplot at 0x7f828997bac8>"
            ]
          },
          "metadata": {
            "tags": []
          },
          "execution_count": 185
        },
        {
          "output_type": "display_data",
          "data": {
            "image/png": "[encoded data removed]",
            "text/plain": [
              "<Figure size 864x432 with 1 Axes>"
            ]
          },
          "metadata": {
            "tags": [],
            "needs_background": "light"
          }
        }
      ]
    },
    {
      "cell_type": "markdown",
      "metadata": {
        "id": "d3X2NkIicamv"
      },
      "source": [
        "## <font color=green>4.7 O coeficiente de determinação $R^2$</font>\n",
        "***"
      ]
    },
    {
      "cell_type": "markdown",
      "metadata": {
        "id": "02AXBeBrcamw"
      },
      "source": [
        "O **coeficiente de determinação R²** é uma medida resumida que diz quanto a linha de regressão amostral se ajusta aos dados. Pode ser obtido a partir da seguinte fórmula:\n",
        "\n",
        "# $$R^2 = \\frac{\\big[\\sum{(Y_i - \\bar{Y})(\\hat{Y}_i - \\bar{Y})}\\big]^2}{\\sum{(Y_i - \\bar{Y}})^2 \\sum{(\\hat{Y}_i - \\bar{Y}})^2}$$\n",
        "\n",
        "Sabemos que o i-ésimo resíduo representa o erro de usarmos $\\hat{Y}_i$ para estimar $Y_i$. A soma dos quadrados desses resíduos é o valor que é minimizado pelo método dos mínimos quadrados. Esse valor pode ser representado da seguinte forma:\n",
        "\n",
        "# $$SQE = \\sum{(Y_i - \\hat{Y}_i)^2}$$\n",
        "\n",
        "O valor da SQE é uma medida do erro de se usar a equação de regressão estimada para estimar os valores da variável dependente na amostra.\n",
        "\n",
        "Outro componente que podemos medir é a soma dos quadrados total (SQT) que representa a medida do erro envolvido no uso da média ($\\bar{Y}$) para fazer as estimativas. A SQT pode ser representada da forma abaixo:\n",
        "\n",
        "# $$SQT = \\sum{(Y_i - \\bar{Y})^2}$$\n",
        "\n",
        "Para quantificar o quanto os valores estimados ($\\hat{Y}_i$) se afastam da média ($\\bar{Y}$) podemos obter mais uma soma de quadrados. Essa soma é chamada de soma dos quadrados da regressão (SQR) e é representada pela seguinte fórmula:\n",
        "\n",
        "# $$SQR = \\sum{(\\hat{Y}_i - \\bar{Y})^2}$$\n"
      ]
    },
    {
      "cell_type": "markdown",
      "metadata": {
        "id": "R5QuIfRCoT_W"
      },
      "source": [
        "### Soma do quadrados do erros (SQE)"
      ]
    },
    {
      "cell_type": "code",
      "metadata": {
        "colab": {
          "base_uri": "https://localhost:8080/"
        },
        "id": "mjDVczwGcamw",
        "outputId": "09e4371e-9cf0-486e-f257-b2d1d7d22fb1"
      },
      "source": [
        "SQE = dataset.Residuos.apply(lambda u : u**2).sum()\n",
        "SQE"
      ],
      "execution_count": 186,
      "outputs": [
        {
          "output_type": "execute_result",
          "data": {
            "text/plain": [
              "984986.0375191914"
            ]
          },
          "metadata": {
            "tags": []
          },
          "execution_count": 186
        }
      ]
    },
    {
      "cell_type": "code",
      "metadata": {
        "colab": {
          "base_uri": "https://localhost:8080/"
        },
        "id": "fJ9ANPnIcamx",
        "outputId": "fe9a51ca-00c9-405a-ff8d-e55e973da52d"
      },
      "source": [
        "resultado_regressao.ssr"
      ],
      "execution_count": 187,
      "outputs": [
        {
          "output_type": "execute_result",
          "data": {
            "text/plain": [
              "984986.0375191915"
            ]
          },
          "metadata": {
            "tags": []
          },
          "execution_count": 187
        }
      ]
    },
    {
      "cell_type": "markdown",
      "metadata": {
        "id": "ciYucebH75mU"
      },
      "source": [
        "### Soma do quadrados total (SQT)"
      ]
    },
    {
      "cell_type": "code",
      "metadata": {
        "colab": {
          "base_uri": "https://localhost:8080/"
        },
        "id": "8nBBr4HE75mV",
        "outputId": "4bbf1e3b-4208-4fcd-837e-83902dcfb460"
      },
      "source": [
        "SQT = dataset.Y.apply(lambda y: (y - dataset.Y.mean())**2).sum()\n",
        "SQT"
      ],
      "execution_count": 188,
      "outputs": [
        {
          "output_type": "execute_result",
          "data": {
            "text/plain": [
              "32724149.279999997"
            ]
          },
          "metadata": {
            "tags": []
          },
          "execution_count": 188
        }
      ]
    },
    {
      "cell_type": "markdown",
      "metadata": {
        "id": "2faHnARf75mW"
      },
      "source": [
        "### Soma do quadrados da regressão (SQR)"
      ]
    },
    {
      "cell_type": "code",
      "metadata": {
        "colab": {
          "base_uri": "https://localhost:8080/"
        },
        "id": "sOIQrg2q75mW",
        "outputId": "c9c8a3ac-6880-4ca9-de98-6e89b1934b26"
      },
      "source": [
        "SQR = dataset.Y_previsto.apply(lambda y: (y - dataset.Y.mean())**2).sum()\n",
        "SQR"
      ],
      "execution_count": 189,
      "outputs": [
        {
          "output_type": "execute_result",
          "data": {
            "text/plain": [
              "31739163.24248083"
            ]
          },
          "metadata": {
            "tags": []
          },
          "execution_count": 189
        }
      ]
    },
    {
      "cell_type": "code",
      "metadata": {
        "colab": {
          "base_uri": "https://localhost:8080/"
        },
        "id": "6Z_ZWswM75mX",
        "outputId": "e84ccee8-0c2e-4f2a-f869-116e98a89d71"
      },
      "source": [
        "resultado_regressao.ess"
      ],
      "execution_count": 190,
      "outputs": [
        {
          "output_type": "execute_result",
          "data": {
            "text/plain": [
              "31739163.242480807"
            ]
          },
          "metadata": {
            "tags": []
          },
          "execution_count": 190
        }
      ]
    },
    {
      "cell_type": "markdown",
      "metadata": {
        "id": "qzIqboEg75mY"
      },
      "source": [
        "### Relação entre as somas de quadrados\n",
        "\n",
        "# $$SQT = SQR + SQE$$\n",
        "\n",
        "Onde,\n",
        "\n",
        "\n",
        "### $SQE = \\sum{(Y_i - \\hat{Y}_i)^2}$\n",
        "\n",
        "### $SQT = \\sum{(Y_i - \\bar{Y})^2}$\n",
        "\n",
        "### $SQR = \\sum{(\\hat{Y}_i - \\bar{Y})^2}$\n",
        "\n",
        "\n",
        "<img src=\"https://caelum-online-public.s3.amazonaws.com/1273-estatistica-parte4/01/img029.png\" width=50%>"
      ]
    },
    {
      "cell_type": "markdown",
      "metadata": {
        "id": "OMz_pGr375ma"
      },
      "source": [
        "### Coeficiente de determinação (R²)\n",
        "\n",
        "A regressão estimada teria um ajuste perfeito se todos os valores da variável dependente ($Y_i$) estiverem sobre a reta de regressão estimada. Quando isso ocorre temos $Y_i - \\hat{Y}_i = 0$ para todas as observações, o que resulta em uma $SQE = 0$. Como $SQT=SQR+SQE$, é possível deduzir que para termos um ajuste perfeito $SQT$ deve ser igual a $SQR$ e a razão entre estas medidas ($\\frac{SQR}{SQT}$) deve ser igual a 1.\n",
        "\n",
        "Quando o ajuste não é tão perfeito nota-se que a $SQE$ apresenta valores maiores o que faz a razão $\\frac{SQR}{SQT}$ diminuir, e em uma situação de total imperfeição do ajuste teríamos uma $SQR=0$ e $SQE=SQT$ levando a $\\frac{SQR}{SQT}=0$.\n",
        "\n",
        "A razão $\\frac{SQR}{SQT}$, que assume valores entre 0 e 1, é utilizada como medida de eficiência do ajuste da equação de regressão estimada. Essa medida é conhecida como coeficiente de determinação (R²).\n",
        "\n",
        "# $$R^2 = \\frac{SQR}{SQT}$$\n",
        "\n",
        "## <font color='red'>Observação</font>\n",
        "> Somente com a utilização do R² não é possível tirar conclusões sobre a relação entre $Y$ e $X$ ser ou não ser estatisticamente\n",
        "significativa. Este tipo de afirmação deve basear-se em considerações que envolvem o tamanho da amostra e as propriedades da distribuição amostral dos estimadores mínimos quadrados."
      ]
    },
    {
      "cell_type": "code",
      "metadata": {
        "colab": {
          "base_uri": "https://localhost:8080/"
        },
        "id": "dKUngOqP75ma",
        "outputId": "3392c69e-9f43-4013-f5e5-4df1efeb1dc8"
      },
      "source": [
        "R2 = SQR / SQT\n",
        "R2"
      ],
      "execution_count": 191,
      "outputs": [
        {
          "output_type": "execute_result",
          "data": {
            "text/plain": [
              "0.9699003317369304"
            ]
          },
          "metadata": {
            "tags": []
          },
          "execution_count": 191
        }
      ]
    },
    {
      "cell_type": "code",
      "metadata": {
        "colab": {
          "base_uri": "https://localhost:8080/"
        },
        "id": "oFowDxPB75mb",
        "outputId": "e48566fa-f686-46ba-870f-fef3774646b1"
      },
      "source": [
        "resultado_regressao.rsquared"
      ],
      "execution_count": 192,
      "outputs": [
        {
          "output_type": "execute_result",
          "data": {
            "text/plain": [
              "0.9699003317369297"
            ]
          },
          "metadata": {
            "tags": []
          },
          "execution_count": 192
        }
      ]
    },
    {
      "cell_type": "markdown",
      "metadata": {
        "id": "BwQR3YxTcam0"
      },
      "source": [
        "## <font color=green>4.8 Testes aplicados a modelos de regressão</font>\n",
        "***"
      ]
    },
    {
      "cell_type": "markdown",
      "metadata": {
        "id": "eGZZaMp4td9Y"
      },
      "source": [
        "Como vimos, em uma regressão linear simples, a média da variável dependente ($Y$) é uma função linear da variável independente ($X$):\n",
        "\n",
        "# $$Y_i = \\beta_1 + \\beta_2X_i$$\n",
        "\n",
        "Se o valor de $\\beta_2$ for zero podemos verificar que o valor médio de $Y$ não depende do valor de $X$ e, portanto, concluímos que $X$ e $Y$ não estão linearmente relacionados. De forma alternativa, se o valor de $\\beta_2$ não for igual a zero, concluímos que as duas variáveis estão relacionadas.\n",
        "\n",
        "Para testar se a relação de regressão é significativa, é preciso realizar um **teste de hipóteses** para determinar se o valor de $\\beta_2$ é zero. Antes de realizar este tipo de teste precisamos obter uma estimativa para $\\sigma^2$ (variância do erro)."
      ]
    },
    {
      "cell_type": "markdown",
      "metadata": {
        "id": "ePVflM9mtd9Z"
      },
      "source": [
        "### Output do modelo de regressão estimado"
      ]
    },
    {
      "cell_type": "code",
      "metadata": {
        "colab": {
          "base_uri": "https://localhost:8080/"
        },
        "id": "xZu92Yaztd9Z",
        "outputId": "612d2240-6eab-40f7-8f1e-4b1ae97067ab"
      },
      "source": [
        "print(resultado_regressao.summary())"
      ],
      "execution_count": 193,
      "outputs": [
        {
          "output_type": "stream",
          "text": [
            "                            OLS Regression Results                            \n",
            "==============================================================================\n",
            "Dep. Variable:                      Y   R-squared:                       0.970\n",
            "Model:                            OLS   Adj. R-squared:                  0.969\n",
            "Method:                 Least Squares   F-statistic:                     1547.\n",
            "Date:                Mon, 30 Nov 2020   Prob (F-statistic):           3.56e-38\n",
            "Time:                        16:48:37   Log-Likelihood:                -318.16\n",
            "No. Observations:                  50   AIC:                             640.3\n",
            "Df Residuals:                      48   BIC:                             644.1\n",
            "Df Model:                           1                                         \n",
            "Covariance Type:            nonrobust                                         \n",
            "==============================================================================\n",
            "                 coef    std err          t      P>|t|      [0.025      0.975]\n",
            "------------------------------------------------------------------------------\n",
            "const        207.9033     50.127      4.148      0.000     107.117     308.690\n",
            "X              0.2973      0.008     39.328      0.000       0.282       0.312\n",
            "==============================================================================\n",
            "Omnibus:                       22.833   Durbin-Watson:                   2.408\n",
            "Prob(Omnibus):                  0.000   Jarque-Bera (JB):                3.915\n",
            "Skew:                           0.073   Prob(JB):                        0.141\n",
            "Kurtosis:                       1.637   Cond. No.                     1.64e+04\n",
            "==============================================================================\n",
            "\n",
            "Warnings:\n",
            "[1] Standard Errors assume that the covariance matrix of the errors is correctly specified.\n",
            "[2] The condition number is large, 1.64e+04. This might indicate that there are\n",
            "strong multicollinearity or other numerical problems.\n"
          ],
          "name": "stdout"
        }
      ]
    },
    {
      "cell_type": "markdown",
      "metadata": {
        "id": "imBNBULStd9a"
      },
      "source": [
        "### Erro quadrático médio - estimativa de $\\sigma^2$\n",
        "\n",
        "Lembre-se que a **soma dos quadrados do erros (SQE)** é uma medida numérica da variabilidade dos dados observados em torno da reta de regressão estimada. Todas as somas de quadrados, estudadas anteriormente, estão associadas a um determinado número de graus de liberdade. No caso da SQE, como devem ser estimados dois parâmetros, temos $n-2$ graus de liberdade.\n",
        "\n",
        "O **erro quadrático médio**, representado pela equação abaixo, pode ser obtido dividindo-se a SQE por $n-2$ graus de liberdade.\n",
        "\n",
        "# $$EQM = \\frac{SQE}{n-2}$$"
      ]
    },
    {
      "cell_type": "code",
      "metadata": {
        "colab": {
          "base_uri": "https://localhost:8080/"
        },
        "id": "aDxRwFWJtd9a",
        "outputId": "61070978-28b2-4a61-d1d8-af4eec4dc563"
      },
      "source": [
        "SQE"
      ],
      "execution_count": 194,
      "outputs": [
        {
          "output_type": "execute_result",
          "data": {
            "text/plain": [
              "984986.0375191914"
            ]
          },
          "metadata": {
            "tags": []
          },
          "execution_count": 194
        }
      ]
    },
    {
      "cell_type": "code",
      "metadata": {
        "colab": {
          "base_uri": "https://localhost:8080/"
        },
        "id": "qg5nZub3CEFx",
        "outputId": "a7257b5b-193e-4b95-f616-d113edb7b620"
      },
      "source": [
        "EQM = SQE / (n - 2)\n",
        "EQM"
      ],
      "execution_count": 195,
      "outputs": [
        {
          "output_type": "execute_result",
          "data": {
            "text/plain": [
              "20520.542448316486"
            ]
          },
          "metadata": {
            "tags": []
          },
          "execution_count": 195
        }
      ]
    },
    {
      "cell_type": "code",
      "metadata": {
        "colab": {
          "base_uri": "https://localhost:8080/"
        },
        "id": "TXfeyZwvtd9b",
        "outputId": "c2e13c92-c41e-4c36-d153-0f0f49c3af13"
      },
      "source": [
        "EQM - resultado_regressao.mse_resid\n",
        "EQM"
      ],
      "execution_count": 196,
      "outputs": [
        {
          "output_type": "execute_result",
          "data": {
            "text/plain": [
              "20520.542448316486"
            ]
          },
          "metadata": {
            "tags": []
          },
          "execution_count": 196
        }
      ]
    },
    {
      "cell_type": "markdown",
      "metadata": {
        "id": "3xHqA9Gicam0"
      },
      "source": [
        "### Teste de hipótese para nulidade do coeficiente angular"
      ]
    },
    {
      "cell_type": "markdown",
      "metadata": {
        "id": "QpUUlnKw9Ac_"
      },
      "source": [
        "Considere o seguinte modelo de regressão linear simples:\n",
        "\n",
        "# $$Y_i = \\beta_1 + \\beta_2X_i + u_i$$\n",
        "\n",
        "Se as variáveis $Y$ e $X$ são linearmente relacionadas, espera-se que $\\beta_2$ seja diferente de zero. Para testar esta hipótese formulamos um teste de hipótese com a seguinte especificação de hipóteses nula e alternativa:\n",
        "\n",
        "## $H_0: \\beta_2 = 0$\n",
        "## $H_1: \\beta_2 \\neq 0$\n",
        "\n",
        "Caso $H_0$ seja rejeitada, concluiremos que existe uma relação linear estatisticamente significativa entre as duas variáveis.\n",
        "\n",
        "Considere agora que $b_1$ e $b_2$ são nossos estimadores de mínimos quadrados. Considere que a distribuição amostral de $b_2$ segue uma normal e também as seguintes propriedades:\n",
        "\n",
        "# $$E(b_2) = \\beta_2$$\n",
        "# $$\\sigma_{b_2} = \\frac{\\sigma}{\\sqrt{\\sum{(X_i - \\bar{X})^2}}}$$\n",
        "\n",
        "Como não conhecemos o valor de $\\sigma$, utilizamos $s$ como estimativa:\n",
        "\n",
        "# $$s_{b_2} = \\frac{s}{\\sqrt{\\sum{(X_i - \\bar{X})^2}}}$$\n",
        "\n",
        "Note que o valor esperado de $b_2$ é $\\beta_2$, logo, $b_2$ é um estimador não viesado de $\\beta_2$. Abaixo temos a estatística de teste (t) que segue uma distribuição t de Student com $n-2$ graus de liberdade.\n",
        "\n",
        "# $$t = \\frac{b_2 - \\beta_2}{s_{b_2}}$$"
      ]
    },
    {
      "cell_type": "markdown",
      "metadata": {
        "id": "hupnxGgFtd9g"
      },
      "source": [
        "### Calculando $s$"
      ]
    },
    {
      "cell_type": "code",
      "metadata": {
        "colab": {
          "base_uri": "https://localhost:8080/"
        },
        "id": "9r87ZchPcam2",
        "outputId": "d241f4cc-7bd2-4a6f-e814-e6f6af878975"
      },
      "source": [
        "s = np.sqrt(EQM)\n",
        "s"
      ],
      "execution_count": 197,
      "outputs": [
        {
          "output_type": "execute_result",
          "data": {
            "text/plain": [
              "143.24993001155877"
            ]
          },
          "metadata": {
            "tags": []
          },
          "execution_count": 197
        }
      ]
    },
    {
      "cell_type": "markdown",
      "metadata": {
        "id": "mr85iUdatd9q"
      },
      "source": [
        "### Calculando $\\sum{(X_i - \\bar{X})^2}$"
      ]
    },
    {
      "cell_type": "code",
      "metadata": {
        "colab": {
          "base_uri": "https://localhost:8080/"
        },
        "id": "exNBEriWtd9q",
        "outputId": "07de59f8-1916-4eeb-ac2d-3b54b392316e"
      },
      "source": [
        "SOMA_DESVIO2 = dataset.X.apply(lambda x: (x - dataset.X.mean())**2).sum()\n",
        "SOMA_DESVIO2"
      ],
      "execution_count": 198,
      "outputs": [
        {
          "output_type": "execute_result",
          "data": {
            "text/plain": [
              "359114426.5"
            ]
          },
          "metadata": {
            "tags": []
          },
          "execution_count": 198
        }
      ]
    },
    {
      "cell_type": "markdown",
      "metadata": {
        "id": "mEuMAudxtd9u"
      },
      "source": [
        "### Calculando $s_{b_2}$"
      ]
    },
    {
      "cell_type": "code",
      "metadata": {
        "colab": {
          "base_uri": "https://localhost:8080/"
        },
        "id": "uwr9JWN_td9u",
        "outputId": "17f5d05e-6689-4510-871e-f4f8b05f7899"
      },
      "source": [
        "s_beta2 = s / np.sqrt(SOMA_DESVIO2)\n",
        "s_beta2"
      ],
      "execution_count": 199,
      "outputs": [
        {
          "output_type": "execute_result",
          "data": {
            "text/plain": [
              "0.00755923753376846"
            ]
          },
          "metadata": {
            "tags": []
          },
          "execution_count": 199
        }
      ]
    },
    {
      "cell_type": "markdown",
      "metadata": {
        "id": "ZXe59tB-td9w"
      },
      "source": [
        "### Determinando as áreas de aceitação e rejeição de $H_0$"
      ]
    },
    {
      "cell_type": "code",
      "metadata": {
        "id": "sYjgmVgUtd9w"
      },
      "source": [
        "from scipy.stats import t as t_student"
      ],
      "execution_count": 200,
      "outputs": []
    },
    {
      "cell_type": "markdown",
      "metadata": {
        "id": "cuvV9yC-td9x"
      },
      "source": [
        "![Região de Aceitação](https://caelum-online-public.s3.amazonaws.com/1273-estatistica-parte4/01/img031.png)"
      ]
    },
    {
      "cell_type": "markdown",
      "metadata": {
        "id": "z9tmldlUtd9y"
      },
      "source": [
        "### Níveis de confiança e significância"
      ]
    },
    {
      "cell_type": "code",
      "metadata": {
        "id": "x6imEPp0td9y"
      },
      "source": [
        "confianca = 0.95\n",
        "significancia = 1 - confianca"
      ],
      "execution_count": 201,
      "outputs": []
    },
    {
      "cell_type": "code",
      "metadata": {
        "colab": {
          "base_uri": "https://localhost:8080/"
        },
        "id": "VFJGcIRGD-ai",
        "outputId": "b760895f-b1a8-488c-f541-ee21c0bb12dd"
      },
      "source": [
        "graus_de_liberadade = resultado_regressao.df_resid\n",
        "graus_de_liberadade"
      ],
      "execution_count": 202,
      "outputs": [
        {
          "output_type": "execute_result",
          "data": {
            "text/plain": [
              "48.0"
            ]
          },
          "metadata": {
            "tags": []
          },
          "execution_count": 202
        }
      ]
    },
    {
      "cell_type": "markdown",
      "metadata": {
        "id": "Xb6DWLiTtd9z"
      },
      "source": [
        "### Obtendo $t_{\\alpha/2}$"
      ]
    },
    {
      "cell_type": "code",
      "metadata": {
        "colab": {
          "base_uri": "https://localhost:8080/"
        },
        "id": "yVEsPYPitd9z",
        "outputId": "110c9876-7b76-4d69-bff6-4f00b1eb45fd"
      },
      "source": [
        "probabilidade = (0.5 + (confianca / 2))\n",
        "probabilidade"
      ],
      "execution_count": 203,
      "outputs": [
        {
          "output_type": "execute_result",
          "data": {
            "text/plain": [
              "0.975"
            ]
          },
          "metadata": {
            "tags": []
          },
          "execution_count": 203
        }
      ]
    },
    {
      "cell_type": "code",
      "metadata": {
        "colab": {
          "base_uri": "https://localhost:8080/"
        },
        "id": "_Cfvwj7Ktd91",
        "outputId": "7818b8bd-6fbd-4efd-b055-8d207fffd6df"
      },
      "source": [
        "t_alpha_2 = t_student.ppf(probabilidade, graus_de_liberadade)\n",
        "t_alpha_2"
      ],
      "execution_count": 204,
      "outputs": [
        {
          "output_type": "execute_result",
          "data": {
            "text/plain": [
              "2.0106347546964454"
            ]
          },
          "metadata": {
            "tags": []
          },
          "execution_count": 204
        }
      ]
    },
    {
      "cell_type": "markdown",
      "metadata": {
        "id": "oW11PFl4td94"
      },
      "source": [
        "![Região de Aceitação](https://caelum-online-public.s3.amazonaws.com/1273-estatistica-parte4/01/img032.png)"
      ]
    },
    {
      "cell_type": "markdown",
      "metadata": {
        "id": "Sjj0cgC7td94"
      },
      "source": [
        "### Obtendo $t = \\frac{b_2 - \\beta_2}{s_{b_2}}$"
      ]
    },
    {
      "cell_type": "code",
      "metadata": {
        "colab": {
          "base_uri": "https://localhost:8080/"
        },
        "id": "Db8oVrEWtd94",
        "outputId": "cc3aa9d7-c5f3-40b5-a54f-c64ac2f80684"
      },
      "source": [
        "t = (beta_2 - 0) / s_beta2\n",
        "t"
      ],
      "execution_count": 205,
      "outputs": [
        {
          "output_type": "execute_result",
          "data": {
            "text/plain": [
              "39.328131926755034"
            ]
          },
          "metadata": {
            "tags": []
          },
          "execution_count": 205
        }
      ]
    },
    {
      "cell_type": "code",
      "metadata": {
        "colab": {
          "base_uri": "https://localhost:8080/"
        },
        "id": "h-Tm7-Qstd95",
        "outputId": "fcecc13c-6a84-4e2e-8655-49bd2126efe3"
      },
      "source": [
        "resultado_regressao.tvalues[1]"
      ],
      "execution_count": 206,
      "outputs": [
        {
          "output_type": "execute_result",
          "data": {
            "text/plain": [
              "39.32813192675501"
            ]
          },
          "metadata": {
            "tags": []
          },
          "execution_count": 206
        }
      ]
    },
    {
      "cell_type": "markdown",
      "metadata": {
        "id": "jOvLKfvitd97"
      },
      "source": [
        "![Região de Aceitação](https://caelum-online-public.s3.amazonaws.com/1273-estatistica-parte4/01/img033.png)"
      ]
    },
    {
      "cell_type": "markdown",
      "metadata": {
        "id": "lU747h33td97"
      },
      "source": [
        "### Etapas e regras de decisão do teste t de significância dos parâmetros"
      ]
    },
    {
      "cell_type": "markdown",
      "metadata": {
        "id": "kDHBbSAitd97"
      },
      "source": [
        "<img src=\"https://caelum-online-public.s3.amazonaws.com/1273-estatistica-parte4/01/img030.png\" width=90%>"
      ]
    },
    {
      "cell_type": "markdown",
      "metadata": {
        "id": "-Il6O2H6td98"
      },
      "source": [
        "### <font color='red'>Critério do valor crítico</font>\n",
        "\n",
        "> ### Teste Bicaudal\n",
        "> ### Rejeitar $H_0$ se $t \\leq -t_{\\alpha / 2}$ ou se $t \\geq t_{\\alpha / 2}$"
      ]
    },
    {
      "cell_type": "code",
      "metadata": {
        "colab": {
          "base_uri": "https://localhost:8080/"
        },
        "id": "24_4-073td99",
        "outputId": "7119fae9-65c7-4f89-cd75-ec4b4875afa3"
      },
      "source": [
        "t <= -t_alpha_2"
      ],
      "execution_count": 207,
      "outputs": [
        {
          "output_type": "execute_result",
          "data": {
            "text/plain": [
              "False"
            ]
          },
          "metadata": {
            "tags": []
          },
          "execution_count": 207
        }
      ]
    },
    {
      "cell_type": "code",
      "metadata": {
        "colab": {
          "base_uri": "https://localhost:8080/"
        },
        "id": "jya2Bqvktd9-",
        "outputId": "752260bf-14a1-49de-8a67-537eea8d0b58"
      },
      "source": [
        "t >= t_alpha_2"
      ],
      "execution_count": 208,
      "outputs": [
        {
          "output_type": "execute_result",
          "data": {
            "text/plain": [
              "True"
            ]
          },
          "metadata": {
            "tags": []
          },
          "execution_count": 208
        }
      ]
    },
    {
      "cell_type": "markdown",
      "metadata": {
        "id": "dW7cJcnQtd9_"
      },
      "source": [
        "### <font color='red'>Critério do $p-valor$</font>\n",
        "\n",
        "> ### Teste Bicaudal\n",
        "> ### Rejeitar $H_0$ se o valor $p\\leq\\alpha$"
      ]
    },
    {
      "cell_type": "code",
      "metadata": {
        "colab": {
          "base_uri": "https://localhost:8080/"
        },
        "id": "LJQ3BBpBtd9_",
        "outputId": "6f8e3855-7b54-46bf-e549-4ad80ead6acb"
      },
      "source": [
        "p_valor = resultado_regressao.pvalues[1]\n",
        "p_valor"
      ],
      "execution_count": 209,
      "outputs": [
        {
          "output_type": "execute_result",
          "data": {
            "text/plain": [
              "3.5555432285859883e-38"
            ]
          },
          "metadata": {
            "tags": []
          },
          "execution_count": 209
        }
      ]
    },
    {
      "cell_type": "code",
      "metadata": {
        "colab": {
          "base_uri": "https://localhost:8080/"
        },
        "id": "gpVuM3Gvtd-B",
        "outputId": "78fb7a84-28d5-48c0-fca0-9a6b2ec70597"
      },
      "source": [
        "p_valor <= significancia"
      ],
      "execution_count": 210,
      "outputs": [
        {
          "output_type": "execute_result",
          "data": {
            "text/plain": [
              "True"
            ]
          },
          "metadata": {
            "tags": []
          },
          "execution_count": 210
        }
      ]
    },
    {
      "cell_type": "markdown",
      "metadata": {
        "id": "EP5tgnmttd-D"
      },
      "source": [
        "### <font color='green'>Conclusão: Rejeitamos $H_0$ e concluímos que existe uma relação significativa entre as duas variáveis.</font>"
      ]
    },
    {
      "cell_type": "code",
      "metadata": {
        "colab": {
          "base_uri": "https://localhost:8080/"
        },
        "id": "HMaewwFXtd-D",
        "outputId": "0a23ae36-0f0d-46d4-ad30-7e3b6064d998"
      },
      "source": [
        "print(resultado_regressao.summary())"
      ],
      "execution_count": 211,
      "outputs": [
        {
          "output_type": "stream",
          "text": [
            "                            OLS Regression Results                            \n",
            "==============================================================================\n",
            "Dep. Variable:                      Y   R-squared:                       0.970\n",
            "Model:                            OLS   Adj. R-squared:                  0.969\n",
            "Method:                 Least Squares   F-statistic:                     1547.\n",
            "Date:                Mon, 30 Nov 2020   Prob (F-statistic):           3.56e-38\n",
            "Time:                        16:48:38   Log-Likelihood:                -318.16\n",
            "No. Observations:                  50   AIC:                             640.3\n",
            "Df Residuals:                      48   BIC:                             644.1\n",
            "Df Model:                           1                                         \n",
            "Covariance Type:            nonrobust                                         \n",
            "==============================================================================\n",
            "                 coef    std err          t      P>|t|      [0.025      0.975]\n",
            "------------------------------------------------------------------------------\n",
            "const        207.9033     50.127      4.148      0.000     107.117     308.690\n",
            "X              0.2973      0.008     39.328      0.000       0.282       0.312\n",
            "==============================================================================\n",
            "Omnibus:                       22.833   Durbin-Watson:                   2.408\n",
            "Prob(Omnibus):                  0.000   Jarque-Bera (JB):                3.915\n",
            "Skew:                           0.073   Prob(JB):                        0.141\n",
            "Kurtosis:                       1.637   Cond. No.                     1.64e+04\n",
            "==============================================================================\n",
            "\n",
            "Warnings:\n",
            "[1] Standard Errors assume that the covariance matrix of the errors is correctly specified.\n",
            "[2] The condition number is large, 1.64e+04. This might indicate that there are\n",
            "strong multicollinearity or other numerical problems.\n"
          ],
          "name": "stdout"
        }
      ]
    },
    {
      "cell_type": "markdown",
      "metadata": {
        "id": "HTW4vH03td-E"
      },
      "source": [
        "---"
      ]
    },
    {
      "cell_type": "markdown",
      "metadata": {
        "id": "fEAeu55gtd-E"
      },
      "source": [
        "### Teste F"
      ]
    },
    {
      "cell_type": "markdown",
      "metadata": {
        "id": "boZIhWUmtd-E"
      },
      "source": [
        "O teste F também é uma ferramenta para testar a significância na regressão. Baseado na distribuição F de probabilidade, o teste F é utilizado para verificar a significância global na regressão, isto é, em uma regressão múltipla, onde existe mais de uma variável independente, o teste F verifica a nulidade de todos os parâmetros do modelo conjuntamente.\n",
        "\n",
        "Em nosso caso (regressão linear simples) ele fornece a mesma conclusão obtida com o teste t.\n",
        "\n",
        "**Hipóteses:**\n",
        "\n",
        "## $H_0: \\beta_2 = 0$\n",
        "## $H_0: \\beta_2 \\neq 0$\n",
        "\n",
        "**Estatística de teste:**\n",
        "\n",
        "# $$F = \\frac{\\frac{SQR}{k}}{\\frac{SQE}{n-k-1}}$$\n",
        "\n",
        "Onde,\n",
        "\n",
        "$SQR$ - soma dos quadrados da regressão\n",
        "\n",
        "$SQE$ - soma dos quadrados dos erros\n",
        "\n",
        "$k$ - total de variáveis independentes ($X$)\n",
        "\n",
        "**Regras de rejeição de $H_0$:**\n",
        "\n",
        "**Critério do valor crítico** $\\rightarrow$ Rejeitar se $F \\geq F_{\\alpha}$\n",
        "\n",
        "Onde,\n",
        "\n",
        "$F_{\\alpha}$ - baseia-se na distribuição F com $k$ graus de liberdade no numerador e $n-k-1$ no denominador.\n",
        "\n",
        "**Critério do p-valor** $\\rightarrow$ Rejeitar se $p-valor \\leq \\alpha$"
      ]
    },
    {
      "cell_type": "markdown",
      "metadata": {
        "id": "gT3WGPkNtd-E"
      },
      "source": [
        "### Calculando a estatística de teste ($F$)"
      ]
    },
    {
      "cell_type": "code",
      "metadata": {
        "colab": {
          "base_uri": "https://localhost:8080/"
        },
        "id": "kGfJb7gVtd-E",
        "outputId": "eccb592c-1891-4fef-d1e3-af1ae42e5c79"
      },
      "source": [
        "resultado_regressao.mse_model"
      ],
      "execution_count": 212,
      "outputs": [
        {
          "output_type": "execute_result",
          "data": {
            "text/plain": [
              "31739163.242480807"
            ]
          },
          "metadata": {
            "tags": []
          },
          "execution_count": 212
        }
      ]
    },
    {
      "cell_type": "code",
      "metadata": {
        "colab": {
          "base_uri": "https://localhost:8080/"
        },
        "id": "v-ano9jmtd-H",
        "outputId": "fdc60d61-7fdc-4bd6-c183-c2d9892fbe27"
      },
      "source": [
        "resultado_regressao.mse_resid"
      ],
      "execution_count": 213,
      "outputs": [
        {
          "output_type": "execute_result",
          "data": {
            "text/plain": [
              "20520.54244831649"
            ]
          },
          "metadata": {
            "tags": []
          },
          "execution_count": 213
        }
      ]
    },
    {
      "cell_type": "code",
      "metadata": {
        "colab": {
          "base_uri": "https://localhost:8080/"
        },
        "id": "9vtS-VQ2td-I",
        "outputId": "500774f4-7ade-47b2-eda6-57eececf149c"
      },
      "source": [
        "F = resultado_regressao.mse_model / resultado_regressao.mse_resid\n",
        "F"
      ],
      "execution_count": 214,
      "outputs": [
        {
          "output_type": "execute_result",
          "data": {
            "text/plain": [
              "1546.7019608482472"
            ]
          },
          "metadata": {
            "tags": []
          },
          "execution_count": 214
        }
      ]
    },
    {
      "cell_type": "code",
      "metadata": {
        "colab": {
          "base_uri": "https://localhost:8080/"
        },
        "id": "w8yfK5k1td-K",
        "outputId": "e0604d9e-bd44-4627-aeed-4cd10c3f38c5"
      },
      "source": [
        "resultado_regressao.fvalue"
      ],
      "execution_count": 215,
      "outputs": [
        {
          "output_type": "execute_result",
          "data": {
            "text/plain": [
              "1546.7019608482472"
            ]
          },
          "metadata": {
            "tags": []
          },
          "execution_count": 215
        }
      ]
    },
    {
      "cell_type": "markdown",
      "metadata": {
        "id": "OEzKwQYztd-K"
      },
      "source": [
        "### Obtendo o p-valor"
      ]
    },
    {
      "cell_type": "code",
      "metadata": {
        "colab": {
          "base_uri": "https://localhost:8080/"
        },
        "id": "XTl2Y4u5td-K",
        "outputId": "60828f18-b338-41ff-cbe6-b749a6bbb311"
      },
      "source": [
        "resultado_regressao.f_pvalue"
      ],
      "execution_count": 216,
      "outputs": [
        {
          "output_type": "execute_result",
          "data": {
            "text/plain": [
              "3.5555432285860227e-38"
            ]
          },
          "metadata": {
            "tags": []
          },
          "execution_count": 216
        }
      ]
    },
    {
      "cell_type": "code",
      "metadata": {
        "id": "OWswoJrHtd-M"
      },
      "source": [
        "from scipy.stats import f"
      ],
      "execution_count": 217,
      "outputs": []
    },
    {
      "cell_type": "code",
      "metadata": {
        "colab": {
          "base_uri": "https://localhost:8080/"
        },
        "id": "GH127n5atd-O",
        "outputId": "894f1fb0-b60d-4e34-dc43-8830f4c8b6b4"
      },
      "source": [
        "  p_valor = f.sf(F, 1, 48)\n",
        "  p_valor"
      ],
      "execution_count": 220,
      "outputs": [
        {
          "output_type": "execute_result",
          "data": {
            "text/plain": [
              "3.5555432285860227e-38"
            ]
          },
          "metadata": {
            "tags": []
          },
          "execution_count": 220
        }
      ]
    },
    {
      "cell_type": "code",
      "metadata": {
        "colab": {
          "base_uri": "https://localhost:8080/"
        },
        "id": "TmkXMaKktd-P",
        "outputId": "2b5067ae-b6d1-4580-c8de-442784f27543"
      },
      "source": [
        "p_valor <= 0.05 "
      ],
      "execution_count": 219,
      "outputs": [
        {
          "output_type": "execute_result",
          "data": {
            "text/plain": [
              "True"
            ]
          },
          "metadata": {
            "tags": []
          },
          "execution_count": 219
        }
      ]
    },
    {
      "cell_type": "markdown",
      "metadata": {
        "id": "jy32sWqYtd-S"
      },
      "source": [
        "# <font color=green>5 EXTRAS</font>\n",
        "***"
      ]
    },
    {
      "cell_type": "markdown",
      "metadata": {
        "id": "MpTZNPXgtd-S"
      },
      "source": [
        "## <font color=green>5.1 Outros testes</font>\n",
        "***"
      ]
    },
    {
      "cell_type": "code",
      "metadata": {
        "colab": {
          "base_uri": "https://localhost:8080/"
        },
        "id": "dP3-Wwp9td-S",
        "outputId": "1cf3ddd2-091e-4342-9c98-9c930ba9df88"
      },
      "source": [
        "print(resultado_regressao.summary())"
      ],
      "execution_count": 222,
      "outputs": [
        {
          "output_type": "stream",
          "text": [
            "                            OLS Regression Results                            \n",
            "==============================================================================\n",
            "Dep. Variable:                      Y   R-squared:                       0.970\n",
            "Model:                            OLS   Adj. R-squared:                  0.969\n",
            "Method:                 Least Squares   F-statistic:                     1547.\n",
            "Date:                Mon, 30 Nov 2020   Prob (F-statistic):           3.56e-38\n",
            "Time:                        16:52:31   Log-Likelihood:                -318.16\n",
            "No. Observations:                  50   AIC:                             640.3\n",
            "Df Residuals:                      48   BIC:                             644.1\n",
            "Df Model:                           1                                         \n",
            "Covariance Type:            nonrobust                                         \n",
            "==============================================================================\n",
            "                 coef    std err          t      P>|t|      [0.025      0.975]\n",
            "------------------------------------------------------------------------------\n",
            "const        207.9033     50.127      4.148      0.000     107.117     308.690\n",
            "X              0.2973      0.008     39.328      0.000       0.282       0.312\n",
            "==============================================================================\n",
            "Omnibus:                       22.833   Durbin-Watson:                   2.408\n",
            "Prob(Omnibus):                  0.000   Jarque-Bera (JB):                3.915\n",
            "Skew:                           0.073   Prob(JB):                        0.141\n",
            "Kurtosis:                       1.637   Cond. No.                     1.64e+04\n",
            "==============================================================================\n",
            "\n",
            "Warnings:\n",
            "[1] Standard Errors assume that the covariance matrix of the errors is correctly specified.\n",
            "[2] The condition number is large, 1.64e+04. This might indicate that there are\n",
            "strong multicollinearity or other numerical problems.\n"
          ],
          "name": "stdout"
        }
      ]
    },
    {
      "cell_type": "markdown",
      "metadata": {
        "id": "c60PkV_Std-U"
      },
      "source": [
        "### Normalidade dos resíduos - Omnibus\n",
        "\n",
        "> ### $H_0:$ Os dados se distribuem como uma normal\n",
        "\n",
        "https://docs.scipy.org/doc/scipy/reference/generated/scipy.stats.normaltest.html"
      ]
    },
    {
      "cell_type": "code",
      "metadata": {
        "id": "-Q6xvpfstd-U"
      },
      "source": [
        "from scipy.stats import normaltest\n",
        "\n",
        "st, p_valor = normaltest(dataset.Residuos)"
      ],
      "execution_count": 224,
      "outputs": []
    },
    {
      "cell_type": "code",
      "metadata": {
        "colab": {
          "base_uri": "https://localhost:8080/"
        },
        "id": "zrxNEHpstd-W",
        "outputId": "6fc3d121-50d3-4cb7-87b5-ec6ffd46b309"
      },
      "source": [
        "p_valor <= 0.05"
      ],
      "execution_count": 225,
      "outputs": [
        {
          "output_type": "execute_result",
          "data": {
            "text/plain": [
              "True"
            ]
          },
          "metadata": {
            "tags": []
          },
          "execution_count": 225
        }
      ]
    },
    {
      "cell_type": "markdown",
      "metadata": {
        "id": "trrfvTbQtd-X"
      },
      "source": [
        "https://docs.scipy.org/doc/scipy/reference/generated/scipy.stats.probplot.html"
      ]
    },
    {
      "cell_type": "code",
      "metadata": {
        "colab": {
          "base_uri": "https://localhost:8080/",
          "height": 295
        },
        "id": "Rv_9YHwutd-Z",
        "outputId": "5cdd0c87-b68c-4e6d-f8e8-82feb28d8b14"
      },
      "source": [
        "from scipy.stats import probplot\n",
        "import matplotlib.pyplot as plt\n",
        "\n",
        "(_, (_, _, _)) = probplot(dataset.Residuos, plot = plt)"
      ],
      "execution_count": 226,
      "outputs": [
        {
          "output_type": "display_data",
          "data": {
            "image/png": "[encoded data removed]",
            "text/plain": [
              "<Figure size 432x288 with 1 Axes>"
            ]
          },
          "metadata": {
            "tags": [],
            "needs_background": "light"
          }
        }
      ]
    },
    {
      "cell_type": "code",
      "metadata": {
        "colab": {
          "base_uri": "https://localhost:8080/",
          "height": 282
        },
        "id": "dYwjwYdMtd-b",
        "outputId": "f4fd1177-a04f-4f1a-bbce-8a13598e5737"
      },
      "source": [
        "dados.Altura.hist(bins=50)"
      ],
      "execution_count": 227,
      "outputs": [
        {
          "output_type": "execute_result",
          "data": {
            "text/plain": [
              "<matplotlib.axes._subplots.AxesSubplot at 0x7f8289800e80>"
            ]
          },
          "metadata": {
            "tags": []
          },
          "execution_count": 227
        },
        {
          "output_type": "display_data",
          "data": {
            "image/png": "[encoded data removed]",
            "text/plain": [
              "<Figure size 432x288 with 1 Axes>"
            ]
          },
          "metadata": {
            "tags": [],
            "needs_background": "light"
          }
        }
      ]
    },
    {
      "cell_type": "code",
      "metadata": {
        "colab": {
          "base_uri": "https://localhost:8080/",
          "height": 295
        },
        "id": "I5AOPc2vtd-c",
        "outputId": "d7b4eecd-e2e9-4c0e-8b62-68c9e50d45a1"
      },
      "source": [
        "(_, (_, _, _)) = probplot(dados.Altura, plot = plt)"
      ],
      "execution_count": 228,
      "outputs": [
        {
          "output_type": "display_data",
          "data": {
            "image/png": "[encoded data removed]",
            "text/plain": [
              "<Figure size 432x288 with 1 Axes>"
            ]
          },
          "metadata": {
            "tags": [],
            "needs_background": "light"
          }
        }
      ]
    },
    {
      "cell_type": "markdown",
      "metadata": {
        "id": "5ilwY6HQtd-d"
      },
      "source": [
        "### Verificando a simetria\n",
        "\n",
        "https://docs.scipy.org/doc/scipy/reference/generated/scipy.stats.skew.html"
      ]
    },
    {
      "cell_type": "code",
      "metadata": {
        "colab": {
          "base_uri": "https://localhost:8080/"
        },
        "id": "6EuSXLHZtd-d",
        "outputId": "2d49bc9e-96c4-46af-c411-2cfcd59d9f7c"
      },
      "source": [
        "from scipy.stats import skew\n",
        "\n",
        "S = skew(dataset.Residuos)\n",
        "S"
      ],
      "execution_count": 229,
      "outputs": [
        {
          "output_type": "execute_result",
          "data": {
            "text/plain": [
              "0.07306920116444166"
            ]
          },
          "metadata": {
            "tags": []
          },
          "execution_count": 229
        }
      ]
    },
    {
      "cell_type": "markdown",
      "metadata": {
        "id": "D52bUcYStd-g"
      },
      "source": [
        "### Verificando a curtose\n",
        "\n",
        "https://docs.scipy.org/doc/scipy/reference/generated/scipy.stats.kurtosis.html"
      ]
    },
    {
      "cell_type": "code",
      "metadata": {
        "colab": {
          "base_uri": "https://localhost:8080/"
        },
        "id": "B_Zcx_cNtd-h",
        "outputId": "d647a7a6-5824-47b5-d2cf-3839f005d7a7"
      },
      "source": [
        "from scipy.stats import kurtosis\n",
        "\n",
        "C = 3 + kurtosis(dataset.Residuos)\n",
        "C"
      ],
      "execution_count": 231,
      "outputs": [
        {
          "output_type": "execute_result",
          "data": {
            "text/plain": [
              "1.6369621580686435"
            ]
          },
          "metadata": {
            "tags": []
          },
          "execution_count": 231
        }
      ]
    },
    {
      "cell_type": "markdown",
      "metadata": {
        "id": "19Z7h_Jhtd-h"
      },
      "source": [
        "### Normalidade dos resíduos - Jarque-Bera (statsmodels)\n",
        "\n",
        "> ### $H_0:$ Os dados se distribuem como uma normal\n",
        "\n",
        "> ### Estatística de teste\n",
        "> ### $$JB = \\frac{n}{6}(S^2 + \\frac{1}{4}(C - 3)^2)$$\n",
        "> #### Onde,\n",
        "> #### $n$ - número de observações\n",
        "> #### $S$ - Coeficiente de assimetria\n",
        "> #### $C$ - Coeficiente de curtose"
      ]
    },
    {
      "cell_type": "code",
      "metadata": {
        "id": "r356qjpOtd-h"
      },
      "source": [
        ""
      ],
      "execution_count": 211,
      "outputs": []
    },
    {
      "cell_type": "code",
      "metadata": {
        "colab": {
          "base_uri": "https://localhost:8080/"
        },
        "id": "aK8Lvwvbtd-i",
        "outputId": "ddced319-6a7b-4535-e406-39c85988f416"
      },
      "source": [
        "JB = (n/6) * (S**2 + (1/4.) * (C-3)**2)\n",
        "JB"
      ],
      "execution_count": 232,
      "outputs": [
        {
          "output_type": "execute_result",
          "data": {
            "text/plain": [
              "3.915059564941934"
            ]
          },
          "metadata": {
            "tags": []
          },
          "execution_count": 232
        }
      ]
    },
    {
      "cell_type": "code",
      "metadata": {
        "colab": {
          "base_uri": "https://localhost:8080/"
        },
        "id": "4vvZL2V5td-j",
        "outputId": "66d579fd-e314-42e8-bdb3-7c0fd53f346d"
      },
      "source": [
        "from scipy.stats import chi2\n",
        "\n",
        "p_valor = chi2.sf(JB, 2)\n",
        "p_valor"
      ],
      "execution_count": 235,
      "outputs": [
        {
          "output_type": "execute_result",
          "data": {
            "text/plain": [
              "0.14120680197285554"
            ]
          },
          "metadata": {
            "tags": []
          },
          "execution_count": 235
        }
      ]
    },
    {
      "cell_type": "code",
      "metadata": {
        "colab": {
          "base_uri": "https://localhost:8080/"
        },
        "id": "407UsH5nGaYc",
        "outputId": "4f6b1691-96b8-4aa2-df48-84edb46b63d4"
      },
      "source": [
        "p_valor <= 0.05"
      ],
      "execution_count": 236,
      "outputs": [
        {
          "output_type": "execute_result",
          "data": {
            "text/plain": [
              "False"
            ]
          },
          "metadata": {
            "tags": []
          },
          "execution_count": 236
        }
      ]
    },
    {
      "cell_type": "markdown",
      "metadata": {
        "id": "C7GvNaJztd-j"
      },
      "source": [
        "### Normalidade dos resíduos - Jarque-Bera (Correção)\n",
        "\n",
        "> ### $H_0:$ Os dados se distribuem como uma normal\n",
        "\n",
        "> ### Estatística de teste\n",
        "> ### $$JB = \\frac{n-k}{6}(S^2 + \\frac{1}{4}(C - 3)^2)$$\n",
        "> #### Onde,\n",
        "> #### $n$ - número de observações\n",
        "> #### $k$ - número de parâmetros do modelo\n",
        "> #### $S$ - Coeficiente de assimetria\n",
        "> #### $C$ - Coeficiente de curtose"
      ]
    },
    {
      "cell_type": "code",
      "metadata": {
        "colab": {
          "base_uri": "https://localhost:8080/"
        },
        "id": "Xy-1QQn-td-j",
        "outputId": "f94e647f-199a-4cd8-84e1-a024593c06ed"
      },
      "source": [
        "JB = (n-1/6.) * (S**2 + (1/4.) * (C-3)**2)\n",
        "JB"
      ],
      "execution_count": 238,
      "outputs": [
        {
          "output_type": "execute_result",
          "data": {
            "text/plain": [
              "23.412056198352765"
            ]
          },
          "metadata": {
            "tags": []
          },
          "execution_count": 238
        }
      ]
    },
    {
      "cell_type": "code",
      "metadata": {
        "colab": {
          "base_uri": "https://localhost:8080/"
        },
        "id": "ynNMLEO3td-k",
        "outputId": "09bf1781-6be5-438b-f7bc-510a4af5c54c"
      },
      "source": [
        "from scipy.stats import chi2\n",
        "\n",
        "p_valor = chi2.sf(JB, 2)\n",
        "p_valor"
      ],
      "execution_count": 239,
      "outputs": [
        {
          "output_type": "execute_result",
          "data": {
            "text/plain": [
              "8.243973584285111e-06"
            ]
          },
          "metadata": {
            "tags": []
          },
          "execution_count": 239
        }
      ]
    },
    {
      "cell_type": "code",
      "metadata": {
        "colab": {
          "base_uri": "https://localhost:8080/"
        },
        "id": "9gRlfnxLtd-l",
        "outputId": "e2d51003-d542-46c3-d9d2-1260ee84f89a"
      },
      "source": [
        "p_valor <= 0.05"
      ],
      "execution_count": 240,
      "outputs": [
        {
          "output_type": "execute_result",
          "data": {
            "text/plain": [
              "True"
            ]
          },
          "metadata": {
            "tags": []
          },
          "execution_count": 240
        }
      ]
    }
  ]
}