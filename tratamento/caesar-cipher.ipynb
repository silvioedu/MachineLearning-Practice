{
 "cells": [
  {
   "cell_type": "markdown",
   "metadata": {},
   "source": [
    "### Caesar cipher"
   ]
  },
  {
   "cell_type": "code",
   "execution_count": 13,
   "metadata": {},
   "outputs": [],
   "source": [
    "def encrypt(message, shift=0):\n",
    "    alphabet = 'abcdefghijklmnopqrstuvwxyz'\n",
    "    encrypted = ''\n",
    "    for char in message.lower():\n",
    "        if char not in alphabet:\n",
    "            encrypted += char\n",
    "        else:\n",
    "            encrypted += alphabet[(alphabet.index(char) + shift) % len(alphabet)]\n",
    "\n",
    "    return encrypted"
   ]
  },
  {
   "cell_type": "code",
   "execution_count": 14,
   "metadata": {},
   "outputs": [
    {
     "name": "stdout",
     "output_type": "stream",
     "text": [
      "Encrypted message \"khoor\"\n"
     ]
    }
   ],
   "source": [
    "message = 'Hello'\n",
    "enc = encrypt(message,3)\n",
    "print('Encrypted message \"{}\"'.format(enc))"
   ]
  },
  {
   "cell_type": "code",
   "execution_count": 15,
   "metadata": {},
   "outputs": [
    {
     "name": "stdout",
     "output_type": "stream",
     "text": [
      "Decrypted message \"hello\"\n"
     ]
    }
   ],
   "source": [
    "dec = encrypt(enc,-3)\n",
    "print('Decrypted message \"{}\"'.format(dec))"
   ]
  },
  {
   "cell_type": "code",
   "execution_count": null,
   "metadata": {},
   "outputs": [],
   "source": []
  }
 ],
 "metadata": {
  "kernelspec": {
   "display_name": "Python 3.7.7 64-bit",
   "language": "python",
   "name": "python37764bit850c456247d94428b2c67cf811f1679a"
  },
  "language_info": {
   "codemirror_mode": {
    "name": "ipython",
    "version": 3
   },
   "file_extension": ".py",
   "mimetype": "text/x-python",
   "name": "python",
   "nbconvert_exporter": "python",
   "pygments_lexer": "ipython3",
   "version": "3.7.7"
  }
 },
 "nbformat": 4,
 "nbformat_minor": 4
}
