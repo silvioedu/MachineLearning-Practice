{
 "cells": [
  {
   "cell_type": "code",
   "execution_count": 15,
   "metadata": {},
   "outputs": [],
   "source": [
    "class Card(object):\n",
    "    suits = {\n",
    "        'c': 'clubs',\n",
    "        'd': 'diamonds',\n",
    "        'h': 'hearts',\n",
    "        's': 'spades'\n",
    "    }\n",
    "    values = {\n",
    "        1: 'Ace',\n",
    "        10: 'Jack',\n",
    "        11: 'Queen',\n",
    "        12: 'King'\n",
    "    }\n",
    "\n",
    "    def __init__(self, value, suit):\n",
    "        self.value = value\n",
    "        self.suit = suit\n",
    "\n",
    "    def get_value(self):\n",
    "        return str(self.value) if self.value not in self.values else self.values[self.value]\n",
    "\n",
    "    def get_suit(self):\n",
    "        return self.suits[self.suit]\n",
    "\n",
    "    def __str__(self):\n",
    "        return self.get_value() + ' of ' + self.get_suit()"
   ]
  },
  {
   "cell_type": "code",
   "execution_count": 16,
   "metadata": {},
   "outputs": [
    {
     "name": "stdout",
     "output_type": "stream",
     "text": [
      "3 of diamonds\n"
     ]
    }
   ],
   "source": [
    "my_card = Card(3,'d')\n",
    "print(my_card)"
   ]
  },
  {
   "cell_type": "code",
   "execution_count": 17,
   "metadata": {},
   "outputs": [
    {
     "name": "stdout",
     "output_type": "stream",
     "text": [
      "Ace of spades\n"
     ]
    }
   ],
   "source": [
    "my_card = Card(1,'s')\n",
    "print(my_card)"
   ]
  },
  {
   "cell_type": "code",
   "execution_count": 18,
   "metadata": {},
   "outputs": [
    {
     "name": "stdout",
     "output_type": "stream",
     "text": [
      "Queen of clubs\n"
     ]
    }
   ],
   "source": [
    "my_card = Card(11,'c')\n",
    "print(my_card)"
   ]
  }
 ],
 "metadata": {
  "kernelspec": {
   "display_name": "Python 3.7.7 64-bit",
   "language": "python",
   "name": "python37764bit850c456247d94428b2c67cf811f1679a"
  },
  "language_info": {
   "codemirror_mode": {
    "name": "ipython",
    "version": 3
   },
   "file_extension": ".py",
   "mimetype": "text/x-python",
   "name": "python",
   "nbconvert_exporter": "python",
   "pygments_lexer": "ipython3",
   "version": "3.7.7"
  }
 },
 "nbformat": 4,
 "nbformat_minor": 4
}
