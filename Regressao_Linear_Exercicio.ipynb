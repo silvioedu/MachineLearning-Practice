{
  "nbformat": 4,
  "nbformat_minor": 0,
  "metadata": {
    "kernelspec": {
      "display_name": "Python 3",
      "language": "python",
      "name": "python3"
    },
    "language_info": {
      "codemirror_mode": {
        "name": "ipython",
        "version": 3
      },
      "file_extension": ".py",
      "mimetype": "text/x-python",
      "name": "python",
      "nbconvert_exporter": "python",
      "pygments_lexer": "ipython3",
      "version": "3.7.0"
    },
    "colab": {
      "name": "Regressao Linear - Exercicio.ipynb",
      "provenance": [],
      "collapsed_sections": []
    }
  },
  "cells": [
    {
      "cell_type": "markdown",
      "metadata": {
        "id": "kin2LAs2Q15n"
      },
      "source": [
        "<h1 style='color: green; font-size: 36px; font-weight: bold;'>Data Science - Regressão Linear</h1>"
      ]
    },
    {
      "cell_type": "markdown",
      "metadata": {
        "id": "jVRLsN4mQ15o"
      },
      "source": [
        "# <font color='red' style='font-size: 30px;'>Conhecendo o Dataset</font>\n",
        "<hr style='border: 2px solid red;'>"
      ]
    },
    {
      "cell_type": "markdown",
      "metadata": {
        "id": "KnDQopmtQ15o"
      },
      "source": [
        "## Importando bibliotecas"
      ]
    },
    {
      "cell_type": "code",
      "metadata": {
        "id": "YpEjyKDtQ15o"
      },
      "source": [
        "import pandas as pd\n",
        "import numpy as np\n",
        "import matplotlib.pyplot as plt\n",
        "import seaborn as sns\n",
        "import warnings as wr\n",
        "\n",
        "wr.filterwarnings('ignore')\n",
        "sns.set()"
      ],
      "execution_count": 1,
      "outputs": []
    },
    {
      "cell_type": "markdown",
      "metadata": {
        "id": "yDPgnx_gQ15o"
      },
      "source": [
        "## O Dataset e o Projeto\n",
        "<hr>\n",
        "\n",
        "### Fonte: https://www.kaggle.com/greenwing1985/housepricing\n",
        "\n",
        "### Descrição:\n",
        "<p style='font-size: 18px; line-height: 2; margin: 10px 50px; text-align: justify;'>Nosso objetivo neste exercício é criar um modelo de machine learning, utilizando a técnica de Regressão Linear, que faça previsões sobre os preços de imóveis a partir de um conjunto de características conhecidas dos imóveis.</p>\n",
        "\n",
        "<p style='font-size: 18px; line-height: 2; margin: 10px 50px; text-align: justify;'>Vamos utilizar um dataset disponível no Kaggle que foi gerado por computador para treinamento de machine learning para iniciantes. Este dataset foi modificado para facilitar o nosso objetivo, que é fixar o conhecimento adquirido no treinamento de Regressão Linear.</p>\n",
        "\n",
        "<p style='font-size: 18px; line-height: 2; margin: 10px 50px; text-align: justify;'>Siga os passos propostos nos comentários acima de cada célular e bons estudos.</p>\n",
        "\n",
        "### Dados:\n",
        "<ul style='font-size: 18px; line-height: 2; text-align: justify;'>\n",
        "    <li><b>precos</b> - Preços do imóveis</li>\n",
        "    <li><b>area</b> - Área do imóvel</li>\n",
        "    <li><b>garagem</b> - Número de vagas de garagem</li>\n",
        "    <li><b>banheiros</b> - Número de banheiros</li>\n",
        "    <li><b>lareira</b> - Número de lareiras</li>\n",
        "    <li><b>marmore</b> - Se o imóvel possui acabamento em mármore branco (1) ou não (0)</li>\n",
        "    <li><b>andares</b> - Se o imóvel possui mais de um andar (1) ou não (0)</li>\n",
        "</ul>"
      ]
    },
    {
      "cell_type": "markdown",
      "metadata": {
        "id": "L8cNPSjSQ15o"
      },
      "source": [
        "## Leitura dos dados\n",
        "\n",
        "Dataset está na pasta \"Dados\" com o nome \"HousePrices_HalfMil.csv\" em usa como separador \";\"."
      ]
    },
    {
      "cell_type": "code",
      "metadata": {
        "colab": {
          "base_uri": "https://localhost:8080/"
        },
        "id": "iCyypa2yRSDa",
        "outputId": "c4ab1997-c236-4973-beb6-5056cd2df294"
      },
      "source": [
        "!curl https://raw.githubusercontent.com/silvioedu/MachineLearning-Practice/master/HousePrices_HalfMil.csv -o house.csv"
      ],
      "execution_count": 2,
      "outputs": [
        {
          "output_type": "stream",
          "text": [
            "  % Total    % Received % Xferd  Average Speed   Time    Time     Time  Current\n",
            "                                 Dload  Upload   Total   Spent    Left  Speed\n",
            "100 20602  100 20602    0     0  31120      0 --:--:-- --:--:-- --:--:-- 31120\n"
          ],
          "name": "stdout"
        }
      ]
    },
    {
      "cell_type": "code",
      "metadata": {
        "id": "JqhecwsRQ15o"
      },
      "source": [
        "dados = pd.read_csv('house.csv', sep=';')"
      ],
      "execution_count": 4,
      "outputs": []
    },
    {
      "cell_type": "markdown",
      "metadata": {
        "id": "Zqb4gruNQ15o"
      },
      "source": [
        "## Visualizar os dados"
      ]
    },
    {
      "cell_type": "code",
      "metadata": {
        "scrolled": true,
        "colab": {
          "base_uri": "https://localhost:8080/",
          "height": 204
        },
        "id": "3LPWvrYfQ15o",
        "outputId": "17f97075-5a3d-4cc8-e152-1ab55c9e46fa"
      },
      "source": [
        "dados.head()"
      ],
      "execution_count": 5,
      "outputs": [
        {
          "output_type": "execute_result",
          "data": {
            "text/html": [
              "<div>\n",
              "<style scoped>\n",
              "    .dataframe tbody tr th:only-of-type {\n",
              "        vertical-align: middle;\n",
              "    }\n",
              "\n",
              "    .dataframe tbody tr th {\n",
              "        vertical-align: top;\n",
              "    }\n",
              "\n",
              "    .dataframe thead th {\n",
              "        text-align: right;\n",
              "    }\n",
              "</style>\n",
              "<table border=\"1\" class=\"dataframe\">\n",
              "  <thead>\n",
              "    <tr style=\"text-align: right;\">\n",
              "      <th></th>\n",
              "      <th>precos</th>\n",
              "      <th>area</th>\n",
              "      <th>garagem</th>\n",
              "      <th>banheiros</th>\n",
              "      <th>lareira</th>\n",
              "      <th>marmore</th>\n",
              "      <th>andares</th>\n",
              "    </tr>\n",
              "  </thead>\n",
              "  <tbody>\n",
              "    <tr>\n",
              "      <th>0</th>\n",
              "      <td>51875</td>\n",
              "      <td>25</td>\n",
              "      <td>3</td>\n",
              "      <td>4</td>\n",
              "      <td>3</td>\n",
              "      <td>0</td>\n",
              "      <td>1</td>\n",
              "    </tr>\n",
              "    <tr>\n",
              "      <th>1</th>\n",
              "      <td>17875</td>\n",
              "      <td>35</td>\n",
              "      <td>1</td>\n",
              "      <td>3</td>\n",
              "      <td>1</td>\n",
              "      <td>0</td>\n",
              "      <td>0</td>\n",
              "    </tr>\n",
              "    <tr>\n",
              "      <th>2</th>\n",
              "      <td>47075</td>\n",
              "      <td>195</td>\n",
              "      <td>2</td>\n",
              "      <td>4</td>\n",
              "      <td>2</td>\n",
              "      <td>0</td>\n",
              "      <td>0</td>\n",
              "    </tr>\n",
              "    <tr>\n",
              "      <th>3</th>\n",
              "      <td>38575</td>\n",
              "      <td>33</td>\n",
              "      <td>2</td>\n",
              "      <td>2</td>\n",
              "      <td>1</td>\n",
              "      <td>0</td>\n",
              "      <td>1</td>\n",
              "    </tr>\n",
              "    <tr>\n",
              "      <th>4</th>\n",
              "      <td>33775</td>\n",
              "      <td>11</td>\n",
              "      <td>2</td>\n",
              "      <td>3</td>\n",
              "      <td>0</td>\n",
              "      <td>0</td>\n",
              "      <td>1</td>\n",
              "    </tr>\n",
              "  </tbody>\n",
              "</table>\n",
              "</div>"
            ],
            "text/plain": [
              "   precos  area  garagem  banheiros  lareira  marmore  andares\n",
              "0   51875    25        3          4        3        0        1\n",
              "1   17875    35        1          3        1        0        0\n",
              "2   47075   195        2          4        2        0        0\n",
              "3   38575    33        2          2        1        0        1\n",
              "4   33775    11        2          3        0        0        1"
            ]
          },
          "metadata": {
            "tags": []
          },
          "execution_count": 5
        }
      ]
    },
    {
      "cell_type": "markdown",
      "metadata": {
        "id": "wADPSm70Q15o"
      },
      "source": [
        "## Verificando o tamanho do dataset"
      ]
    },
    {
      "cell_type": "code",
      "metadata": {
        "colab": {
          "base_uri": "https://localhost:8080/"
        },
        "id": "SBAvIq-mQ15o",
        "outputId": "44ce6c8c-35e4-40fc-b209-21b7cbcc3aab"
      },
      "source": [
        "dados.shape"
      ],
      "execution_count": 6,
      "outputs": [
        {
          "output_type": "execute_result",
          "data": {
            "text/plain": [
              "(1000, 7)"
            ]
          },
          "metadata": {
            "tags": []
          },
          "execution_count": 6
        }
      ]
    },
    {
      "cell_type": "markdown",
      "metadata": {
        "id": "3nZErA8hQ15o"
      },
      "source": [
        "# <font color='red' style='font-size: 30px;'>Análises Preliminares</font>\n",
        "<hr style='border: 2px solid red;'>"
      ]
    },
    {
      "cell_type": "markdown",
      "metadata": {
        "id": "xg8tc_yxQ15o"
      },
      "source": [
        "## Estatísticas descritivas"
      ]
    },
    {
      "cell_type": "code",
      "metadata": {
        "colab": {
          "base_uri": "https://localhost:8080/",
          "height": 297
        },
        "id": "UO9xCmDTQ15o",
        "outputId": "e98e2fa9-af9e-4e1d-bf1f-2d6d3f218ba9"
      },
      "source": [
        "dados.describe()"
      ],
      "execution_count": 7,
      "outputs": [
        {
          "output_type": "execute_result",
          "data": {
            "text/html": [
              "<div>\n",
              "<style scoped>\n",
              "    .dataframe tbody tr th:only-of-type {\n",
              "        vertical-align: middle;\n",
              "    }\n",
              "\n",
              "    .dataframe tbody tr th {\n",
              "        vertical-align: top;\n",
              "    }\n",
              "\n",
              "    .dataframe thead th {\n",
              "        text-align: right;\n",
              "    }\n",
              "</style>\n",
              "<table border=\"1\" class=\"dataframe\">\n",
              "  <thead>\n",
              "    <tr style=\"text-align: right;\">\n",
              "      <th></th>\n",
              "      <th>precos</th>\n",
              "      <th>area</th>\n",
              "      <th>garagem</th>\n",
              "      <th>banheiros</th>\n",
              "      <th>lareira</th>\n",
              "      <th>marmore</th>\n",
              "      <th>andares</th>\n",
              "    </tr>\n",
              "  </thead>\n",
              "  <tbody>\n",
              "    <tr>\n",
              "      <th>count</th>\n",
              "      <td>1000.000000</td>\n",
              "      <td>1000.000000</td>\n",
              "      <td>1000.000000</td>\n",
              "      <td>1000.000000</td>\n",
              "      <td>1000.000000</td>\n",
              "      <td>1000.000000</td>\n",
              "      <td>1000.000000</td>\n",
              "    </tr>\n",
              "    <tr>\n",
              "      <th>mean</th>\n",
              "      <td>41985.600000</td>\n",
              "      <td>124.326000</td>\n",
              "      <td>2.009000</td>\n",
              "      <td>3.000000</td>\n",
              "      <td>2.034000</td>\n",
              "      <td>0.331000</td>\n",
              "      <td>0.485000</td>\n",
              "    </tr>\n",
              "    <tr>\n",
              "      <th>std</th>\n",
              "      <td>12140.385408</td>\n",
              "      <td>72.389972</td>\n",
              "      <td>0.813376</td>\n",
              "      <td>1.429701</td>\n",
              "      <td>1.418752</td>\n",
              "      <td>0.470809</td>\n",
              "      <td>0.500025</td>\n",
              "    </tr>\n",
              "    <tr>\n",
              "      <th>min</th>\n",
              "      <td>13150.000000</td>\n",
              "      <td>1.000000</td>\n",
              "      <td>1.000000</td>\n",
              "      <td>1.000000</td>\n",
              "      <td>0.000000</td>\n",
              "      <td>0.000000</td>\n",
              "      <td>0.000000</td>\n",
              "    </tr>\n",
              "    <tr>\n",
              "      <th>25%</th>\n",
              "      <td>33112.500000</td>\n",
              "      <td>60.750000</td>\n",
              "      <td>1.000000</td>\n",
              "      <td>2.000000</td>\n",
              "      <td>1.000000</td>\n",
              "      <td>0.000000</td>\n",
              "      <td>0.000000</td>\n",
              "    </tr>\n",
              "    <tr>\n",
              "      <th>50%</th>\n",
              "      <td>41725.000000</td>\n",
              "      <td>123.000000</td>\n",
              "      <td>2.000000</td>\n",
              "      <td>3.000000</td>\n",
              "      <td>2.000000</td>\n",
              "      <td>0.000000</td>\n",
              "      <td>0.000000</td>\n",
              "    </tr>\n",
              "    <tr>\n",
              "      <th>75%</th>\n",
              "      <td>51175.000000</td>\n",
              "      <td>187.000000</td>\n",
              "      <td>3.000000</td>\n",
              "      <td>4.000000</td>\n",
              "      <td>3.000000</td>\n",
              "      <td>1.000000</td>\n",
              "      <td>1.000000</td>\n",
              "    </tr>\n",
              "    <tr>\n",
              "      <th>max</th>\n",
              "      <td>73675.000000</td>\n",
              "      <td>249.000000</td>\n",
              "      <td>3.000000</td>\n",
              "      <td>5.000000</td>\n",
              "      <td>4.000000</td>\n",
              "      <td>1.000000</td>\n",
              "      <td>1.000000</td>\n",
              "    </tr>\n",
              "  </tbody>\n",
              "</table>\n",
              "</div>"
            ],
            "text/plain": [
              "             precos         area  ...      marmore      andares\n",
              "count   1000.000000  1000.000000  ...  1000.000000  1000.000000\n",
              "mean   41985.600000   124.326000  ...     0.331000     0.485000\n",
              "std    12140.385408    72.389972  ...     0.470809     0.500025\n",
              "min    13150.000000     1.000000  ...     0.000000     0.000000\n",
              "25%    33112.500000    60.750000  ...     0.000000     0.000000\n",
              "50%    41725.000000   123.000000  ...     0.000000     0.000000\n",
              "75%    51175.000000   187.000000  ...     1.000000     1.000000\n",
              "max    73675.000000   249.000000  ...     1.000000     1.000000\n",
              "\n",
              "[8 rows x 7 columns]"
            ]
          },
          "metadata": {
            "tags": []
          },
          "execution_count": 7
        }
      ]
    },
    {
      "cell_type": "markdown",
      "metadata": {
        "id": "zFFwOY0CQ15p"
      },
      "source": [
        "## Matriz de correlação\n",
        "\n",
        "<p style='font-size: 18px; line-height: 2; margin: 10px 50px; text-align: justify;'>O <b>coeficiente de correlação</b> é uma medida de associação linear entre duas variáveis e situa-se entre <b>-1</b> e <b>+1</b> sendo que <b>-1</b> indica associação negativa perfeita e <b>+1</b> indica associação positiva perfeita.</p>\n",
        "\n",
        "### Observe as correlações entre as variáveis:\n",
        "<ul style='font-size: 16px; line-height: 2; text-align: justify;'>\n",
        "    <li>Quais são mais correlacionadas com a variável dependete (Preço)?</li>\n",
        "    <li>Qual o relacionamento entre elas (positivo ou negativo)?</li>\n",
        "    <li>Existe correlação forte entre as variáveis explicativas?</li>\n",
        "</ul>"
      ]
    },
    {
      "cell_type": "code",
      "metadata": {
        "colab": {
          "base_uri": "https://localhost:8080/",
          "height": 266
        },
        "id": "TQyLLj6QQ15p",
        "outputId": "e261c0b3-be60-4a9c-a1f2-9dd163727cf0"
      },
      "source": [
        "dados.corr()"
      ],
      "execution_count": 8,
      "outputs": [
        {
          "output_type": "execute_result",
          "data": {
            "text/html": [
              "<div>\n",
              "<style scoped>\n",
              "    .dataframe tbody tr th:only-of-type {\n",
              "        vertical-align: middle;\n",
              "    }\n",
              "\n",
              "    .dataframe tbody tr th {\n",
              "        vertical-align: top;\n",
              "    }\n",
              "\n",
              "    .dataframe thead th {\n",
              "        text-align: right;\n",
              "    }\n",
              "</style>\n",
              "<table border=\"1\" class=\"dataframe\">\n",
              "  <thead>\n",
              "    <tr style=\"text-align: right;\">\n",
              "      <th></th>\n",
              "      <th>precos</th>\n",
              "      <th>area</th>\n",
              "      <th>garagem</th>\n",
              "      <th>banheiros</th>\n",
              "      <th>lareira</th>\n",
              "      <th>marmore</th>\n",
              "      <th>andares</th>\n",
              "    </tr>\n",
              "  </thead>\n",
              "  <tbody>\n",
              "    <tr>\n",
              "      <th>precos</th>\n",
              "      <td>1.000000</td>\n",
              "      <td>0.117689</td>\n",
              "      <td>0.102752</td>\n",
              "      <td>0.124390</td>\n",
              "      <td>0.107209</td>\n",
              "      <td>0.430767</td>\n",
              "      <td>0.631529</td>\n",
              "    </tr>\n",
              "    <tr>\n",
              "      <th>area</th>\n",
              "      <td>0.117689</td>\n",
              "      <td>1.000000</td>\n",
              "      <td>-0.007530</td>\n",
              "      <td>-0.011374</td>\n",
              "      <td>0.012114</td>\n",
              "      <td>-0.015270</td>\n",
              "      <td>-0.018006</td>\n",
              "    </tr>\n",
              "    <tr>\n",
              "      <th>garagem</th>\n",
              "      <td>0.102752</td>\n",
              "      <td>-0.007530</td>\n",
              "      <td>1.000000</td>\n",
              "      <td>0.067142</td>\n",
              "      <td>0.060455</td>\n",
              "      <td>-0.015629</td>\n",
              "      <td>-0.020588</td>\n",
              "    </tr>\n",
              "    <tr>\n",
              "      <th>banheiros</th>\n",
              "      <td>0.124390</td>\n",
              "      <td>-0.011374</td>\n",
              "      <td>0.067142</td>\n",
              "      <td>1.000000</td>\n",
              "      <td>0.048363</td>\n",
              "      <td>-0.025281</td>\n",
              "      <td>-0.018203</td>\n",
              "    </tr>\n",
              "    <tr>\n",
              "      <th>lareira</th>\n",
              "      <td>0.107209</td>\n",
              "      <td>0.012114</td>\n",
              "      <td>0.060455</td>\n",
              "      <td>0.048363</td>\n",
              "      <td>1.000000</td>\n",
              "      <td>0.029591</td>\n",
              "      <td>-0.003513</td>\n",
              "    </tr>\n",
              "    <tr>\n",
              "      <th>marmore</th>\n",
              "      <td>0.430767</td>\n",
              "      <td>-0.015270</td>\n",
              "      <td>-0.015629</td>\n",
              "      <td>-0.025281</td>\n",
              "      <td>0.029591</td>\n",
              "      <td>1.000000</td>\n",
              "      <td>-0.006527</td>\n",
              "    </tr>\n",
              "    <tr>\n",
              "      <th>andares</th>\n",
              "      <td>0.631529</td>\n",
              "      <td>-0.018006</td>\n",
              "      <td>-0.020588</td>\n",
              "      <td>-0.018203</td>\n",
              "      <td>-0.003513</td>\n",
              "      <td>-0.006527</td>\n",
              "      <td>1.000000</td>\n",
              "    </tr>\n",
              "  </tbody>\n",
              "</table>\n",
              "</div>"
            ],
            "text/plain": [
              "             precos      area   garagem  ...   lareira   marmore   andares\n",
              "precos     1.000000  0.117689  0.102752  ...  0.107209  0.430767  0.631529\n",
              "area       0.117689  1.000000 -0.007530  ...  0.012114 -0.015270 -0.018006\n",
              "garagem    0.102752 -0.007530  1.000000  ...  0.060455 -0.015629 -0.020588\n",
              "banheiros  0.124390 -0.011374  0.067142  ...  0.048363 -0.025281 -0.018203\n",
              "lareira    0.107209  0.012114  0.060455  ...  1.000000  0.029591 -0.003513\n",
              "marmore    0.430767 -0.015270 -0.015629  ...  0.029591  1.000000 -0.006527\n",
              "andares    0.631529 -0.018006 -0.020588  ... -0.003513 -0.006527  1.000000\n",
              "\n",
              "[7 rows x 7 columns]"
            ]
          },
          "metadata": {
            "tags": []
          },
          "execution_count": 8
        }
      ]
    },
    {
      "cell_type": "markdown",
      "metadata": {
        "id": "OSBAxMscQ15p"
      },
      "source": [
        "# <font color='red' style='font-size: 30px;'>Comportamento da Variável Dependente (Y)</font>\n",
        "<hr style='border: 2px solid red;'>"
      ]
    },
    {
      "cell_type": "markdown",
      "metadata": {
        "id": "3r0ZYFpBQ15p"
      },
      "source": [
        "# Análises gráficas"
      ]
    },
    {
      "cell_type": "markdown",
      "metadata": {
        "id": "DuHrTK2aQ15p"
      },
      "source": [
        "## Box plot da variável *dependente* (y)\n",
        "\n",
        "\n",
        "### Avalie o comportamento da distribuição da variável dependente:\n",
        "<ul style='font-size: 16px; line-height: 2; text-align: justify;'>\n",
        "    <li>Parecem existir valores discrepantes (outliers)?</li>\n",
        "    <li>O box plot apresenta alguma tendência?</li>\n",
        "</ul>"
      ]
    },
    {
      "cell_type": "markdown",
      "metadata": {
        "id": "XLoG5Va2Q15p"
      },
      "source": [
        "https://seaborn.pydata.org/generated/seaborn.boxplot.html?highlight=boxplot#seaborn.boxplot"
      ]
    },
    {
      "cell_type": "code",
      "metadata": {
        "colab": {
          "base_uri": "https://localhost:8080/",
          "height": 304
        },
        "id": "jdU7787CQ15p",
        "outputId": "a3bbca37-c8b5-4bc2-cf25-6ea53217d0fa"
      },
      "source": [
        "ax = sns.boxplot(dados.precos)\n",
        "ax.set_title('Preço dos imóveis', fontsize=16)\n",
        "ax.set_xlabel('Preços')\n",
        "plt.ioff()"
      ],
      "execution_count": 12,
      "outputs": [
        {
          "output_type": "display_data",
          "data": {
            "image/png": "[encoded data removed]",
            "text/plain": [
              "<Figure size 432x288 with 1 Axes>"
            ]
          },
          "metadata": {
            "tags": [],
            "needs_background": "light"
          }
        }
      ]
    },
    {
      "cell_type": "markdown",
      "metadata": {
        "id": "vepkRm6LQ15p"
      },
      "source": [
        "## Investigando a variável *dependente* (y) juntamente com outras característica\n",
        "\n",
        "Faça um box plot da variável dependente em conjunto com cada variável explicativa (somente as categóricas).\n",
        "\n",
        "### Avalie o comportamento da distribuição da variável dependente com cada variável explicativa categórica:\n",
        "<ul style='font-size: 16px; line-height: 2; text-align: justify;'>\n",
        "    <li>As estatísticas apresentam mudança significativa entre as categorias?</li>\n",
        "    <li>O box plot apresenta alguma tendência bem definida?</li>\n",
        "</ul>"
      ]
    },
    {
      "cell_type": "markdown",
      "metadata": {
        "id": "EEJgrbFtQ15p"
      },
      "source": [
        "### Box-plot (Preço X Garagem)"
      ]
    },
    {
      "cell_type": "code",
      "metadata": {
        "colab": {
          "base_uri": "https://localhost:8080/",
          "height": 304
        },
        "id": "qd7reT-yQ15p",
        "outputId": "244e2a49-e030-4625-a70e-4d0f2fd44709"
      },
      "source": [
        "ax = sns.boxplot(data = dados, x='garagem', y='precos')\n",
        "ax.set_title('Preço dos imóveis', fontsize=16)\n",
        "ax.set_xlabel('Preços')\n",
        "ax.set_xlabel('Número de vagas de garagem')\n",
        "plt.ioff()"
      ],
      "execution_count": 14,
      "outputs": [
        {
          "output_type": "display_data",
          "data": {
            "image/png": "[encoded data removed]",
            "text/plain": [
              "<Figure size 432x288 with 1 Axes>"
            ]
          },
          "metadata": {
            "tags": [],
            "needs_background": "light"
          }
        }
      ]
    },
    {
      "cell_type": "markdown",
      "metadata": {
        "id": "JWvPsodtQ15p"
      },
      "source": [
        "### Box-plot (Preço X Banheiros)"
      ]
    },
    {
      "cell_type": "code",
      "metadata": {
        "colab": {
          "base_uri": "https://localhost:8080/",
          "height": 304
        },
        "id": "kN3bDShtQ15p",
        "outputId": "7ae403bf-3089-4b06-a3b3-b64b206c2493"
      },
      "source": [
        "ax = sns.boxplot(data = dados, x='banheiros', y='precos')\n",
        "ax.set_title('Preço dos imóveis', fontsize=16)\n",
        "ax.set_xlabel('Preços')\n",
        "ax.set_xlabel('Número banheiros')\n",
        "plt.ioff()"
      ],
      "execution_count": 15,
      "outputs": [
        {
          "output_type": "display_data",
          "data": {
            "image/png": "[encoded data removed]",
            "text/plain": [
              "<Figure size 432x288 with 1 Axes>"
            ]
          },
          "metadata": {
            "tags": [],
            "needs_background": "light"
          }
        }
      ]
    },
    {
      "cell_type": "markdown",
      "metadata": {
        "id": "yV4L9_vdQ15p"
      },
      "source": [
        "### Box-plot (Preço X Lareira)"
      ]
    },
    {
      "cell_type": "code",
      "metadata": {
        "colab": {
          "base_uri": "https://localhost:8080/",
          "height": 304
        },
        "id": "_2YPExevQ15p",
        "outputId": "79b91f3e-2807-4110-ace4-64a3b343b6f1"
      },
      "source": [
        "ax = sns.boxplot(data = dados, x='lareira', y='precos')\n",
        "ax.set_title('Preço dos imóveis', fontsize=16)\n",
        "ax.set_xlabel('Preços')\n",
        "ax.set_xlabel('Número de lareiras')\n",
        "plt.ioff()"
      ],
      "execution_count": 17,
      "outputs": [
        {
          "output_type": "display_data",
          "data": {
            "image/png": "[encoded data removed]",
            "text/plain": [
              "<Figure size 432x288 with 1 Axes>"
            ]
          },
          "metadata": {
            "tags": [],
            "needs_background": "light"
          }
        }
      ]
    },
    {
      "cell_type": "markdown",
      "metadata": {
        "id": "VnkeTiVGQ15p"
      },
      "source": [
        "### Box-plot (Preço X Acabamento em Mármore)"
      ]
    },
    {
      "cell_type": "code",
      "metadata": {
        "colab": {
          "base_uri": "https://localhost:8080/",
          "height": 304
        },
        "id": "TqQq8rOWQ15p",
        "outputId": "42083282-674a-4be0-d967-c1f395d54294"
      },
      "source": [
        "ax = sns.boxplot(data = dados, x='marmore', y='precos')\n",
        "ax.set_title('Preço dos imóveis', fontsize=16)\n",
        "ax.set_xlabel('Preços')\n",
        "ax.set_xlabel('Acabamento em mármore')\n",
        "plt.ioff()"
      ],
      "execution_count": 18,
      "outputs": [
        {
          "output_type": "display_data",
          "data": {
            "image/png": "[encoded data removed]",
            "text/plain": [
              "<Figure size 432x288 with 1 Axes>"
            ]
          },
          "metadata": {
            "tags": [],
            "needs_background": "light"
          }
        }
      ]
    },
    {
      "cell_type": "markdown",
      "metadata": {
        "id": "58M4VGe9Q15p"
      },
      "source": [
        "### Box-plot (Preço X Andares)"
      ]
    },
    {
      "cell_type": "code",
      "metadata": {
        "colab": {
          "base_uri": "https://localhost:8080/",
          "height": 304
        },
        "id": "MsckpqayQ15p",
        "outputId": "8377921a-3cd5-483f-9397-c59b30300ccb"
      },
      "source": [
        "ax = sns.boxplot(data = dados, x='andares', y='precos')\n",
        "ax.set_title('Preço dos imóveis', fontsize=16)\n",
        "ax.set_xlabel('Preços')\n",
        "ax.set_xlabel('Mais de 1 andar')\n",
        "plt.ioff()"
      ],
      "execution_count": 20,
      "outputs": [
        {
          "output_type": "display_data",
          "data": {
            "image/png": "[encoded data removed]",
            "text/plain": [
              "<Figure size 432x288 with 1 Axes>"
            ]
          },
          "metadata": {
            "tags": [],
            "needs_background": "light"
          }
        }
      ]
    },
    {
      "cell_type": "markdown",
      "metadata": {
        "id": "v8D9dLByQ15p"
      },
      "source": [
        "## Distribuição de frequências da variável *dependente* (y)\n",
        "\n",
        "Construa um histograma da variável dependente (Preço).\n",
        "\n",
        "### Avalie:\n",
        "<ul style='font-size: 16px; line-height: 2; text-align: justify;'>\n",
        "    <li>A distribuição de frequências da variável dependente parece ser assimétrica?</li>\n",
        "    <li>É possível supor que a variável dependente segue uma distribuição normal?</li>\n",
        "</ul>"
      ]
    },
    {
      "cell_type": "markdown",
      "metadata": {
        "id": "udaENwL1Q15p"
      },
      "source": [
        "https://seaborn.pydata.org/generated/seaborn.distplot.html?highlight=distplot#seaborn.distplot"
      ]
    },
    {
      "cell_type": "code",
      "metadata": {
        "colab": {
          "base_uri": "https://localhost:8080/",
          "height": 304
        },
        "id": "bTVQgjlHQ15p",
        "outputId": "7d32412c-396a-4cf8-cdb8-22f93d1a1688"
      },
      "source": [
        "ax = sns.distplot(dados.precos)\n",
        "ax.set_title('Distribuição de frequência', fontsize=16)\n",
        "ax.set_xlabel('$')\n",
        "ax.set_xlabel('Frequência')\n",
        "plt.ioff()"
      ],
      "execution_count": 22,
      "outputs": [
        {
          "output_type": "display_data",
          "data": {
            "image/png": "[encoded data removed]",
            "text/plain": [
              "<Figure size 432x288 with 1 Axes>"
            ]
          },
          "metadata": {
            "tags": [],
            "needs_background": "light"
          }
        }
      ]
    },
    {
      "cell_type": "markdown",
      "metadata": {
        "id": "zEWZA9ZzQ15p"
      },
      "source": [
        "## Gráficos de dispersão entre as variáveis do dataset"
      ]
    },
    {
      "cell_type": "markdown",
      "metadata": {
        "id": "LQX4IewvQ15p"
      },
      "source": [
        "## Plotando o pairplot fixando somente uma variável no eixo y\n",
        "\n",
        "https://seaborn.pydata.org/generated/seaborn.pairplot.html?highlight=pairplot#seaborn.pairplot\n",
        "\n",
        "Plote gráficos de dispersão da variável dependente contra cada variável explicativa. Utilize o pairplot da biblioteca seaborn para isso.\n",
        "\n",
        "Plote o mesmo gráfico utilizando o parâmetro kind='reg'.\n",
        "\n",
        "### Avalie:\n",
        "<ul style='font-size: 16px; line-height: 2; text-align: justify;'>\n",
        "    <li>É possível identificar alguma relação linear entre as variáveis?</li>\n",
        "    <li>A relação é positiva ou negativa?</li>\n",
        "    <li>Compare com os resultados obtidos na matriz de correlação.</li>\n",
        "</ul>"
      ]
    },
    {
      "cell_type": "code",
      "metadata": {
        "colab": {
          "base_uri": "https://localhost:8080/",
          "height": 201
        },
        "id": "EB1kZN-XQ15p",
        "outputId": "fb0228f6-7c0f-4f6f-d0b9-504685faa862"
      },
      "source": [
        "ax = sns.pairplot(dados, y_vars='precos', kind='reg')\n",
        "ax.fig.suptitle('Preço dos imóveis', fontsize=16)\n",
        "plt.ioff()"
      ],
      "execution_count": 27,
      "outputs": [
        {
          "output_type": "display_data",
          "data": {
            "image/png": "[encoded data removed]",
            "text/plain": [
              "<Figure size 1260x180 with 8 Axes>"
            ]
          },
          "metadata": {
            "tags": [],
            "needs_background": "light"
          }
        }
      ]
    },
    {
      "cell_type": "code",
      "metadata": {
        "id": "fEhw6JToQ15p"
      },
      "source": [
        ""
      ],
      "execution_count": null,
      "outputs": []
    },
    {
      "cell_type": "markdown",
      "metadata": {
        "id": "9OWKhwhTQ15p"
      },
      "source": [
        "# <font color='red' style='font-size: 30px;'>Estimando um Modelo de Regressão Linear</font>\n",
        "<hr style='border: 2px solid red;'>"
      ]
    },
    {
      "cell_type": "markdown",
      "metadata": {
        "id": "TU09FuFQQ15p"
      },
      "source": [
        "## Importando o *train_test_split* da biblioteca *scikit-learn*\n",
        "\n",
        "https://scikit-learn.org/stable/modules/generated/sklearn.model_selection.train_test_split.html"
      ]
    },
    {
      "cell_type": "code",
      "metadata": {
        "id": "HALCBzYYQ15p"
      },
      "source": [
        "from sklearn.model_selection import train_test_split as tts"
      ],
      "execution_count": 30,
      "outputs": []
    },
    {
      "cell_type": "markdown",
      "metadata": {
        "id": "JpvYOw0vQ15p"
      },
      "source": [
        "## Criando uma Series (pandas) para armazenar a variável dependente (y)"
      ]
    },
    {
      "cell_type": "code",
      "metadata": {
        "id": "_8s2fNfXQ15p"
      },
      "source": [
        "y = dados['precos']"
      ],
      "execution_count": 31,
      "outputs": []
    },
    {
      "cell_type": "markdown",
      "metadata": {
        "id": "E8uQd4zgQ15p"
      },
      "source": [
        "## Criando um DataFrame (pandas) para armazenar as variáveis explicativas (X)"
      ]
    },
    {
      "cell_type": "code",
      "metadata": {
        "id": "Zcydh0JzQ15q"
      },
      "source": [
        "x = dados.drop(['precos'], axis=1)"
      ],
      "execution_count": 33,
      "outputs": []
    },
    {
      "cell_type": "markdown",
      "metadata": {
        "id": "0faJPybDQ15q"
      },
      "source": [
        "## Criando os datasets de treino e de teste"
      ]
    },
    {
      "cell_type": "code",
      "metadata": {
        "id": "oGpN7UiTQ15q"
      },
      "source": [
        "x_train, x_test, y_train, y_test = tts(x, y, test_size=.3, random_state=2811)"
      ],
      "execution_count": 37,
      "outputs": []
    },
    {
      "cell_type": "markdown",
      "metadata": {
        "id": "iODtQneGQ15q"
      },
      "source": [
        "## Importando *LinearRegression* e *metrics* da biblioteca *scikit-learn*\n",
        "\n",
        "https://scikit-learn.org/stable/modules/generated/sklearn.linear_model.LinearRegression.html\n",
        "\n",
        "https://scikit-learn.org/stable/modules/classes.html#regression-metrics"
      ]
    },
    {
      "cell_type": "code",
      "metadata": {
        "id": "dePBhByKQ15q"
      },
      "source": [
        "from sklearn.linear_model import LinearRegression\n",
        "from sklearn import metrics"
      ],
      "execution_count": 39,
      "outputs": []
    },
    {
      "cell_type": "markdown",
      "metadata": {
        "id": "uWNzxrcSQ15q"
      },
      "source": [
        "## Instanciando a classe *LinearRegression()*"
      ]
    },
    {
      "cell_type": "code",
      "metadata": {
        "id": "JqNOXFcjQ15q"
      },
      "source": [
        "modelo = LinearRegression()"
      ],
      "execution_count": 40,
      "outputs": []
    },
    {
      "cell_type": "markdown",
      "metadata": {
        "id": "U8QS1vcFQ15q"
      },
      "source": [
        "## Utilizando o método *fit()* para estimar o modelo linear utilizando os dados de TREINO (y_train e X_train)\n",
        "\n",
        "https://scikit-learn.org/stable/modules/generated/sklearn.linear_model.LinearRegression.html#sklearn.linear_model.LinearRegression.fit"
      ]
    },
    {
      "cell_type": "code",
      "metadata": {
        "colab": {
          "base_uri": "https://localhost:8080/"
        },
        "id": "qaixvlTaQ15q",
        "outputId": "ae571533-886d-47f7-ffc8-f25152dced67"
      },
      "source": [
        "modelo.fit(x_train, y_train)"
      ],
      "execution_count": 41,
      "outputs": [
        {
          "output_type": "execute_result",
          "data": {
            "text/plain": [
              "LinearRegression(copy_X=True, fit_intercept=True, n_jobs=None, normalize=False)"
            ]
          },
          "metadata": {
            "tags": []
          },
          "execution_count": 41
        }
      ]
    },
    {
      "cell_type": "markdown",
      "metadata": {
        "id": "K_i2WzUzQ15q"
      },
      "source": [
        "## Obtendo o coeficiente de determinação (R²) do modelo estimado com os dados de TREINO\n",
        "\n",
        "https://scikit-learn.org/stable/modules/generated/sklearn.linear_model.LinearRegression.html#sklearn.linear_model.LinearRegression.score\n",
        "\n",
        "\n",
        "### Avalie:\n",
        "<ul style='font-size: 16px; line-height: 2; text-align: justify;'>\n",
        "    <li>O modelo apresenta um bom ajuste?</li>\n",
        "    <li>Você lembra o que representa o R²?</li>\n",
        "    <li>Qual medida podemos tomar para melhorar essa estatística?</li>\n",
        "</ul>"
      ]
    },
    {
      "cell_type": "code",
      "metadata": {
        "colab": {
          "base_uri": "https://localhost:8080/"
        },
        "id": "Psu0xpNKQ15q",
        "outputId": "cb0afdfd-d4de-41ec-c63a-b70c5212e48d"
      },
      "source": [
        "print(f'R² = {modelo.score(x_train, y_train).round(2)}')"
      ],
      "execution_count": 44,
      "outputs": [
        {
          "output_type": "stream",
          "text": [
            "R² = 0.64\n"
          ],
          "name": "stdout"
        }
      ]
    },
    {
      "cell_type": "markdown",
      "metadata": {
        "id": "-LebbrcGQ15q"
      },
      "source": [
        "## Gerando previsões para os dados de TESTE (X_test) utilizando o método *predict()*\n",
        "\n",
        "https://scikit-learn.org/stable/modules/generated/sklearn.linear_model.LinearRegression.html#sklearn.linear_model.LinearRegression.predict"
      ]
    },
    {
      "cell_type": "code",
      "metadata": {
        "id": "5xOqb-eaQ15q"
      },
      "source": [
        "y_previsto = modelo.predict(x_test)"
      ],
      "execution_count": 45,
      "outputs": []
    },
    {
      "cell_type": "markdown",
      "metadata": {
        "id": "cgU15K5zQ15q"
      },
      "source": [
        "## Obtendo o coeficiente de determinação (R²) para as previsões do nosso modelo\n",
        "\n",
        "https://scikit-learn.org/stable/modules/generated/sklearn.metrics.r2_score.html#sklearn.metrics.r2_score"
      ]
    },
    {
      "cell_type": "code",
      "metadata": {
        "colab": {
          "base_uri": "https://localhost:8080/"
        },
        "id": "HuEM7tOsQ15q",
        "outputId": "bddb78d6-c3db-47ad-9be2-4432511edd37"
      },
      "source": [
        "print(f'R² = {metrics.r2_score(y_test, y_previsto).round(2)}')"
      ],
      "execution_count": 48,
      "outputs": [
        {
          "output_type": "stream",
          "text": [
            "R² = 0.67\n"
          ],
          "name": "stdout"
        }
      ]
    },
    {
      "cell_type": "markdown",
      "metadata": {
        "id": "A8T9TR8lQ15q"
      },
      "source": [
        "# <font color='red' style='font-size: 30px;'>Obtendo Previsões Pontuais</font>\n",
        "<hr style='border: 2px solid red;'>"
      ]
    },
    {
      "cell_type": "markdown",
      "metadata": {
        "id": "i0vCRcF-Q15q"
      },
      "source": [
        "## Criando um simulador simples\n",
        "\n",
        "Crie um simulador que gere estimativas de preço a partir de um conjunto de informações de um imóvel."
      ]
    },
    {
      "cell_type": "code",
      "metadata": {
        "colab": {
          "base_uri": "https://localhost:8080/"
        },
        "id": "TYz5lGGJQ15q",
        "outputId": "4400855c-d5db-474e-b1b3-ad591226a3d4"
      },
      "source": [
        "area=38\n",
        "garagem=2\n",
        "banheiros=4\n",
        "lareira=4\n",
        "marmore=0\n",
        "andares=1\n",
        "\n",
        "entrada=[[area, garagem, banheiros, lareira, marmore, andares]]\n",
        "\n",
        "print('$ {0:.2f}'.format(modelo.predict(entrada)[0]))"
      ],
      "execution_count": 51,
      "outputs": [
        {
          "output_type": "stream",
          "text": [
            "$ 46389.80\n"
          ],
          "name": "stdout"
        }
      ]
    },
    {
      "cell_type": "markdown",
      "metadata": {
        "id": "O8ux-V7rQ15q"
      },
      "source": [
        "# <font color='red' style='font-size: 30px;'>Métricas de Regressão</font>\n",
        "<hr style='border: 2px solid red;'>"
      ]
    },
    {
      "cell_type": "markdown",
      "metadata": {
        "id": "HfLNcuseQ15q"
      },
      "source": [
        "## Métricas da regressão\n",
        "<hr>\n",
        "\n",
        "fonte: https://scikit-learn.org/stable/modules/model_evaluation.html#regression-metrics\n",
        "\n",
        "Algumas estatísticas obtidas do modelo de regressão são muito úteis como critério de comparação entre modelos estimados e de seleção do melhor modelo, as principais métricas de regressão que o scikit-learn disponibiliza para modelos lineares são as seguintes:\n",
        "\n",
        "### Erro Quadrático Médio\n",
        "\n",
        "Média dos quadrados dos erros. Ajustes melhores apresentam $EQM$ mais baixo.\n",
        "\n",
        "$$EQM(y, \\hat{y}) = \\frac 1n\\sum_{i=0}^{n-1}(y_i-\\hat{y}_i)^2$$\n",
        "\n",
        "### Raíz do Erro Quadrático Médio\n",
        "\n",
        "Raíz quadrada da média dos quadrados dos erros. Ajustes melhores apresentam $\\sqrt{EQM}$ mais baixo.\n",
        "\n",
        "$$\\sqrt{EQM(y, \\hat{y})} = \\sqrt{\\frac 1n\\sum_{i=0}^{n-1}(y_i-\\hat{y}_i)^2}$$\n",
        "\n",
        "### Coeficiente de Determinação - R²\n",
        "\n",
        "O coeficiente de determinação (R²) é uma medida resumida que diz quanto a linha de regressão ajusta-se aos dados. É um valor entra 0 e 1.\n",
        "\n",
        "$$R^2(y, \\hat{y}) = 1 - \\frac {\\sum_{i=0}^{n-1}(y_i-\\hat{y}_i)^2}{\\sum_{i=0}^{n-1}(y_i-\\bar{y}_i)^2}$$"
      ]
    },
    {
      "cell_type": "markdown",
      "metadata": {
        "id": "CgVCbqQPQ15q"
      },
      "source": [
        "## Obtendo métricas para o modelo"
      ]
    },
    {
      "cell_type": "code",
      "metadata": {
        "colab": {
          "base_uri": "https://localhost:8080/",
          "height": 142
        },
        "id": "g-5MqI2ZQ15q",
        "outputId": "6d390b61-241b-4bef-b57f-a37338ff0779"
      },
      "source": [
        "R2 = metrics.r2_score(y_true=y_test, y_pred=y_previsto).round(2)\n",
        "EQM = metrics.mean_squared_error(y_pred=y_test, y_true=y_previsto).round(2)\n",
        "REQM = np.sqrt(metrics.mean_squared_error(y_pred=y_test, y_true=y_previsto)).round(2)\n",
        "\n",
        "pd.DataFrame([R2, EQM, REQM], ['R²', 'EQM', 'REQM'], columns=['Métricas'])"
      ],
      "execution_count": 52,
      "outputs": [
        {
          "output_type": "execute_result",
          "data": {
            "text/html": [
              "<div>\n",
              "<style scoped>\n",
              "    .dataframe tbody tr th:only-of-type {\n",
              "        vertical-align: middle;\n",
              "    }\n",
              "\n",
              "    .dataframe tbody tr th {\n",
              "        vertical-align: top;\n",
              "    }\n",
              "\n",
              "    .dataframe thead th {\n",
              "        text-align: right;\n",
              "    }\n",
              "</style>\n",
              "<table border=\"1\" class=\"dataframe\">\n",
              "  <thead>\n",
              "    <tr style=\"text-align: right;\">\n",
              "      <th></th>\n",
              "      <th>Métricas</th>\n",
              "    </tr>\n",
              "  </thead>\n",
              "  <tbody>\n",
              "    <tr>\n",
              "      <th>R²</th>\n",
              "      <td>0.67</td>\n",
              "    </tr>\n",
              "    <tr>\n",
              "      <th>EQM</th>\n",
              "      <td>50197019.50</td>\n",
              "    </tr>\n",
              "    <tr>\n",
              "      <th>REQM</th>\n",
              "      <td>7084.99</td>\n",
              "    </tr>\n",
              "  </tbody>\n",
              "</table>\n",
              "</div>"
            ],
            "text/plain": [
              "         Métricas\n",
              "R²           0.67\n",
              "EQM   50197019.50\n",
              "REQM      7084.99"
            ]
          },
          "metadata": {
            "tags": []
          },
          "execution_count": 52
        }
      ]
    },
    {
      "cell_type": "markdown",
      "metadata": {
        "id": "RpNpI_uYQ15q"
      },
      "source": [
        "# <font color='red' style='font-size: 30px;'>Salvando e Carregando o Modelo Estimado</font>\n",
        "<hr style='border: 2px solid red;'>"
      ]
    },
    {
      "cell_type": "markdown",
      "metadata": {
        "id": "jDKJDgLVQ15q"
      },
      "source": [
        "## Importando a biblioteca pickle"
      ]
    },
    {
      "cell_type": "code",
      "metadata": {
        "id": "I9OAr8efQ15q"
      },
      "source": [
        "import pickle"
      ],
      "execution_count": 53,
      "outputs": []
    },
    {
      "cell_type": "markdown",
      "metadata": {
        "id": "B4sf2yJ2Q15q"
      },
      "source": [
        "## Salvando o modelo estimado"
      ]
    },
    {
      "cell_type": "code",
      "metadata": {
        "id": "B0oE4m2sQ15q"
      },
      "source": [
        "output =  open('modelo_preco', 'wb')\n",
        "pickle.dump(modelo, output)\n",
        "output.close()"
      ],
      "execution_count": 56,
      "outputs": []
    },
    {
      "cell_type": "markdown",
      "metadata": {
        "id": "1CMQHI5TQ15q"
      },
      "source": [
        "### Em um novo notebook/projeto Python\n",
        "\n",
        "<h4 style='color: blue; font-weight: normal'>In [1]:</h4>\n",
        "\n",
        "```sh\n",
        "import pickle\n",
        "\n",
        "modelo = open('modelo_preço','rb')\n",
        "lm_new = pickle.load(modelo)\n",
        "modelo.close()\n",
        "\n",
        "area = 38\n",
        "garagem = 2\n",
        "banheiros = 4\n",
        "lareira = 4\n",
        "marmore = 0\n",
        "andares = 1\n",
        "\n",
        "entrada = [[area, garagem, banheiros, lareira, marmore, andares]]\n",
        "\n",
        "print('$ {0:.2f}'.format(lm_new.predict(entrada)[0]))\n",
        "```\n",
        "\n",
        "<h4 style='color: red; font-weight: normal'>Out [1]:</h4>\n",
        "\n",
        "```\n",
        "$ 46389.80\n",
        "```"
      ]
    },
    {
      "cell_type": "code",
      "metadata": {
        "id": "B9Z4Sbr8Q15q"
      },
      "source": [
        ""
      ],
      "execution_count": null,
      "outputs": []
    }
  ]
}