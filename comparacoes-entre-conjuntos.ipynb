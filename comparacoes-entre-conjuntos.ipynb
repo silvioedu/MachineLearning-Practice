{
  "nbformat": 4,
  "nbformat_minor": 0,
  "metadata": {
    "colab": {
      "name": "Untitled",
      "provenance": [],
      "authorship_tag": "ABX9TyM6lnE2nNyE3kYtUkGuFRmD",
      "include_colab_link": true
    },
    "kernelspec": {
      "name": "python3",
      "display_name": "Python 3"
    }
  },
  "cells": [
    {
      "cell_type": "markdown",
      "metadata": {
        "id": "view-in-github",
        "colab_type": "text"
      },
      "source": [
        "<a href=\"https://colab.research.google.com/github/silvioedu/MachineLearning-Practice/blob/master/comparacoes-entre-conjuntos.ipynb\" target=\"_parent\"><img src=\"https://colab.research.google.com/assets/colab-badge.svg\" alt=\"Open In Colab\"/></a>"
      ]
    },
    {
      "cell_type": "markdown",
      "metadata": {
        "id": "zEoPdJrjAOqs",
        "colab_type": "text"
      },
      "source": [
        "## Comparações entre conjuntos"
      ]
    },
    {
      "cell_type": "code",
      "metadata": {
        "id": "ecUps7CN_7oZ",
        "colab_type": "code",
        "colab": {}
      },
      "source": [
        "A = [1,1,2,2,3,3,4,4,5,5,6,6,7,7,8,8,9,9]\n",
        "B = [6,6,7,7,8,8,9,9,10,10,11,11,12,12,13,13,14,14]"
      ],
      "execution_count": 5,
      "outputs": []
    },
    {
      "cell_type": "code",
      "metadata": {
        "id": "G1UBOmQVAUJI",
        "colab_type": "code",
        "colab": {}
      },
      "source": [
        "# Removendo duplicidades\n",
        "A = set(A)\n",
        "B = set(B)"
      ],
      "execution_count": 6,
      "outputs": []
    },
    {
      "cell_type": "code",
      "metadata": {
        "id": "hsa5IhzgAZ-k",
        "colab_type": "code",
        "colab": {
          "base_uri": "https://localhost:8080/",
          "height": 51
        },
        "outputId": "2c409fef-5eef-436c-f3b7-26ccc5e1a1a6"
      },
      "source": [
        "print('Set A = ',A)\n",
        "print('Set B = ',B)"
      ],
      "execution_count": 7,
      "outputs": [
        {
          "output_type": "stream",
          "text": [
            "Set A =  {1, 2, 3, 4, 5, 6, 7, 8, 9}\n",
            "Set B =  {6, 7, 8, 9, 10, 11, 12, 13, 14}\n"
          ],
          "name": "stdout"
        }
      ]
    },
    {
      "cell_type": "code",
      "metadata": {
        "id": "4_zIXdh2AlmF",
        "colab_type": "code",
        "colab": {
          "base_uri": "https://localhost:8080/",
          "height": 85
        },
        "outputId": "173e8ee0-db79-4a0f-a5b9-0512b616c7a2"
      },
      "source": [
        "print('Intersection ', A & B)\n",
        "print('Union ', A | B)\n",
        "print('Difference ', A - B)\n",
        "print('Symetric Difference ', A ^ B)"
      ],
      "execution_count": 8,
      "outputs": [
        {
          "output_type": "stream",
          "text": [
            "Intersection  {8, 9, 6, 7}\n",
            "Union  {1, 2, 3, 4, 5, 6, 7, 8, 9, 10, 11, 12, 13, 14}\n",
            "Difference  {1, 2, 3, 4, 5}\n",
            "Symetric Difference  {1, 2, 3, 4, 5, 10, 11, 12, 13, 14}\n"
          ],
          "name": "stdout"
        }
      ]
    }
  ]
}