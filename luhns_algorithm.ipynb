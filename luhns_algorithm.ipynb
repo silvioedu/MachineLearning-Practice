{
  "nbformat": 4,
  "nbformat_minor": 0,
  "metadata": {
    "colab": {
      "name": "luhns-algorithm.ipynb",
      "provenance": [],
      "authorship_tag": "ABX9TyOX/liIAczKVnnuuNQbh67O",
      "include_colab_link": true
    },
    "kernelspec": {
      "name": "python3",
      "display_name": "Python 3"
    }
  },
  "cells": [
    {
      "cell_type": "markdown",
      "metadata": {
        "id": "view-in-github",
        "colab_type": "text"
      },
      "source": [
        "<a href=\"https://colab.research.google.com/github/silvioedu/MachineLearning-Practice/blob/master/luhns_algorithm.ipynb\" target=\"_parent\"><img src=\"https://colab.research.google.com/assets/colab-badge.svg\" alt=\"Open In Colab\"/></a>"
      ]
    },
    {
      "cell_type": "markdown",
      "metadata": {
        "id": "kanokQSKNPRA",
        "colab_type": "text"
      },
      "source": [
        "Steps\n",
        "\n",
        "1. Multiply every 2nd digit by 2 starting from the 2nd last and then add those digits together\n",
        "2. Add that number to the sum of the digits that were not multiplied by 2\n",
        "3. Find the remainder when that is divided by 10 if remainder is 0 number is valid!"
      ]
    },
    {
      "cell_type": "code",
      "metadata": {
        "id": "FtU0pO0wPb3U",
        "colab_type": "code",
        "colab": {}
      },
      "source": [
        "def check_validity_number(card_number):\n",
        "  num_list = list(map(int, card_number))\n",
        "  #print(\"lista de numeros\", num_list)\n",
        "\n",
        "  num_list_rev = num_list[::-1]\n",
        "  #print(\"lista de numeros reversa\", num_list_rev)\n",
        "\n",
        "  multiplied_numbers = []\n",
        "  single_numbers = []\n",
        "\n",
        "  for index,number in enumerate(num_list_rev):\n",
        "    if index % 2 != 0:\n",
        "      m = str(2 * number).zfill(2)\n",
        "      multiplied_numbers.append(int(m[0])) if int(m[0]) != 0 else None\n",
        "      multiplied_numbers.append(int(m[1])) if int(m[1]) != 0 else None\n",
        "    else:\n",
        "      single_numbers.append(number)\n",
        "\n",
        "  sum_multiplied_numbers = sum(multiplied_numbers)\n",
        "  sum_single_numbers = sum(single_numbers)\n",
        "\n",
        "  #print(f'multiplied_numbers {multiplied_numbers} - sum {sum_multiplied_numbers}')\n",
        "  #print(f'single_numbers {single_numbers} - sum {sum_single_numbers}')\n",
        "\n",
        "  return True if (sum_multiplied_numbers + sum_single_numbers) % 10 == 0 else False"
      ],
      "execution_count": 34,
      "outputs": []
    },
    {
      "cell_type": "code",
      "metadata": {
        "id": "il9uGcDqWEy3",
        "colab_type": "code",
        "colab": {
          "base_uri": "https://localhost:8080/",
          "height": 51
        },
        "outputId": "dcb79861-a092-4d0a-dec2-28922149450e"
      },
      "source": [
        "#Testing\n",
        "\n",
        "d = {True: 'is a valid credit card number', False: 'is not a valid credit card number'}\n",
        "\n",
        "card = \"371449635398431\"\n",
        "print(f'Card {card} ',d[check_validity_number(card)])\n",
        "\n",
        "card = \"371449635398430\"\n",
        "print(f'Card {card} ',d[check_validity_number(card)])"
      ],
      "execution_count": 35,
      "outputs": [
        {
          "output_type": "stream",
          "text": [
            "Card 371449635398431  is a valid credit card number\n",
            "Card 371449635398430  is not a valid credit card number\n"
          ],
          "name": "stdout"
        }
      ]
    }
  ]
}