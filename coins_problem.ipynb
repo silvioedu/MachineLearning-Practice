{
  "nbformat": 4,
  "nbformat_minor": 0,
  "metadata": {
    "colab": {
      "name": "coins-problem.ipynb",
      "provenance": [],
      "authorship_tag": "ABX9TyPXlNXiQIPgWpJk8n5SisSo",
      "include_colab_link": true
    },
    "kernelspec": {
      "name": "python3",
      "display_name": "Python 3"
    }
  },
  "cells": [
    {
      "cell_type": "markdown",
      "metadata": {
        "id": "view-in-github",
        "colab_type": "text"
      },
      "source": [
        "<a href=\"https://colab.research.google.com/github/silvioedu/MachineLearning-Practice/blob/master/coins_problem.ipynb\" target=\"_parent\"><img src=\"https://colab.research.google.com/assets/colab-badge.svg\" alt=\"Open In Colab\"/></a>"
      ]
    },
    {
      "cell_type": "markdown",
      "metadata": {
        "id": "FRJ0y4pvXkq8",
        "colab_type": "text"
      },
      "source": [
        "Steps\n",
        "\n",
        "1. N coins with heads up\n",
        "2. Every 2nd coin turn it over\n",
        "3. Every 3rd coin turn it over\n",
        "4. Every 4th coin turn it over\n",
        "5. N times\n",
        "6. Find how many head is up"
      ]
    },
    {
      "cell_type": "code",
      "metadata": {
        "id": "lW1bJ35JXh5I",
        "colab_type": "code",
        "colab": {}
      },
      "source": [
        "def coins_problem(number):\n",
        "  coins = [0] * number\n",
        "  #print(f'0 -> {coins}')\n",
        "  for i in range(1,number):\n",
        "    for j in range(i,number,i+1):\n",
        "      coins[j] = 1 - coins[j]\n",
        "    #print(f'{i} -> {coins}')\n",
        "  \n",
        "  return coins.count(0)"
      ],
      "execution_count": 35,
      "outputs": []
    },
    {
      "cell_type": "code",
      "metadata": {
        "id": "BN1bLmiza42A",
        "colab_type": "code",
        "colab": {
          "base_uri": "https://localhost:8080/",
          "height": 34
        },
        "outputId": "1adc4202-3b68-4dcc-85b2-fc0864ae4211"
      },
      "source": [
        "print('Number os heads ',coins_problem(1001))"
      ],
      "execution_count": 41,
      "outputs": [
        {
          "output_type": "stream",
          "text": [
            "Number os heads  31\n"
          ],
          "name": "stdout"
        }
      ]
    }
  ]
}