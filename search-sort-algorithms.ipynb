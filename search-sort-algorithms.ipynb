{
  "nbformat": 4,
  "nbformat_minor": 0,
  "metadata": {
    "colab": {
      "name": "search-sort-algorithms.ipynb",
      "provenance": [],
      "authorship_tag": "ABX9TyPU8NF9Y/5fbSCS3wHdxn/y",
      "include_colab_link": true
    },
    "kernelspec": {
      "name": "python3",
      "display_name": "Python 3"
    }
  },
  "cells": [
    {
      "cell_type": "markdown",
      "metadata": {
        "id": "view-in-github",
        "colab_type": "text"
      },
      "source": [
        "<a href=\"https://colab.research.google.com/github/silvioedu/MachineLearning-Practice/blob/master/search-sort-algorithms.ipynb\" target=\"_parent\"><img src=\"https://colab.research.google.com/assets/colab-badge.svg\" alt=\"Open In Colab\"/></a>"
      ]
    },
    {
      "cell_type": "markdown",
      "metadata": {
        "id": "4n41jU_XDagq",
        "colab_type": "text"
      },
      "source": [
        "## Linear search"
      ]
    },
    {
      "cell_type": "code",
      "metadata": {
        "id": "54vOoeUxDWud",
        "colab_type": "code",
        "colab": {}
      },
      "source": [
        "def linear_search(item, my_list):\n",
        "  i = 0\n",
        "  found = False\n",
        "\n",
        "  while i < len(my_list) and found == False:\n",
        "    if my_list[i] == item:\n",
        "      found = True\n",
        "    else:\n",
        "      i += 1\n",
        "  \n",
        "  return found"
      ],
      "execution_count": 18,
      "outputs": []
    },
    {
      "cell_type": "code",
      "metadata": {
        "id": "6BzKiqNCD7L0",
        "colab_type": "code",
        "colab": {
          "base_uri": "https://localhost:8080/",
          "height": 51
        },
        "outputId": "b32097d0-2292-4437-e043-7a0ce0a191fe"
      },
      "source": [
        "test = [6,5,8,2,3,45,87,24,70]\n",
        "print(linear_search(87,test))\n",
        "print(linear_search(88,test))"
      ],
      "execution_count": 19,
      "outputs": [
        {
          "output_type": "stream",
          "text": [
            "True\n",
            "False\n"
          ],
          "name": "stdout"
        }
      ]
    },
    {
      "cell_type": "markdown",
      "metadata": {
        "id": "o64WWnwoE4Er",
        "colab_type": "text"
      },
      "source": [
        "## Binary search"
      ]
    },
    {
      "cell_type": "code",
      "metadata": {
        "id": "xFH5ZiXQE3Wl",
        "colab_type": "code",
        "colab": {}
      },
      "source": [
        "def binary_search(item, my_list):\n",
        "  found = False\n",
        "  first = 0\n",
        "  last = len(my_list) - 1\n",
        "\n",
        "  while first <= last and found == False:\n",
        "    mid_point = (first + last) // 2\n",
        "    if my_list[mid_point] == item:\n",
        "      found =  True\n",
        "    else:\n",
        "      if my_list[mid_point] < item:\n",
        "        first = mid_point + 1\n",
        "      else:\n",
        "        last = mid_point - 1\n",
        "  \n",
        "  return found"
      ],
      "execution_count": 20,
      "outputs": []
    },
    {
      "cell_type": "code",
      "metadata": {
        "id": "I9QzXpIEFmJ0",
        "colab_type": "code",
        "colab": {
          "base_uri": "https://localhost:8080/",
          "height": 51
        },
        "outputId": "32c7208f-dd74-4140-b6f6-15a79484512c"
      },
      "source": [
        "test = [6,5,8,2,3,45,87,24,70]\n",
        "print(binary_search(87,test))\n",
        "print(binary_search(88,test))"
      ],
      "execution_count": 21,
      "outputs": [
        {
          "output_type": "stream",
          "text": [
            "True\n",
            "False\n"
          ],
          "name": "stdout"
        }
      ]
    },
    {
      "cell_type": "markdown",
      "metadata": {
        "id": "DPN9HngVIsRe",
        "colab_type": "text"
      },
      "source": [
        "## Bubble sort"
      ]
    },
    {
      "cell_type": "code",
      "metadata": {
        "id": "LHVe8dy6IwOF",
        "colab_type": "code",
        "colab": {}
      },
      "source": [
        "def bubble_sort(my_list):\n",
        "  swap_again = True\n",
        "  n = len(my_list)\n",
        "\n",
        "  while n > 0 and swap_again == True:\n",
        "    n -= 1\n",
        "    swap_again = False\n",
        "\n",
        "    for i in range(n):\n",
        "      if my_list[i] > my_list[i+1]:\n",
        "        my_list[i], my_list[i+1] = my_list[i+1], my_list[i]\n",
        "        swap_again = True\n",
        "  \n",
        "  return my_list"
      ],
      "execution_count": 22,
      "outputs": []
    },
    {
      "cell_type": "code",
      "metadata": {
        "id": "3hn0ednUJOYd",
        "colab_type": "code",
        "colab": {
          "base_uri": "https://localhost:8080/",
          "height": 34
        },
        "outputId": "6e62aef2-3069-40d0-850a-59572ce064dd"
      },
      "source": [
        "test = [70,24,87,45,6,3,2,8,5]\n",
        "print(bubble_sort(test))"
      ],
      "execution_count": 23,
      "outputs": [
        {
          "output_type": "stream",
          "text": [
            "[2, 3, 5, 6, 8, 24, 45, 70, 87]\n"
          ],
          "name": "stdout"
        }
      ]
    },
    {
      "cell_type": "markdown",
      "metadata": {
        "id": "fBUlTcuWJlFm",
        "colab_type": "text"
      },
      "source": [
        "## Insertion sort"
      ]
    },
    {
      "cell_type": "code",
      "metadata": {
        "id": "ypJUY2mxJnUd",
        "colab_type": "code",
        "colab": {}
      },
      "source": [
        "def insertion_sort(my_list):\n",
        "  n = len(my_list)\n",
        "\n",
        "  for i in range(1,n):\n",
        "    value = my_list[i]\n",
        "    j = i\n",
        "    while j > 0 and my_list[j-1] > value:\n",
        "      my_list[j] = my_list[j-1]\n",
        "      j -= 1\n",
        "    \n",
        "    my_list[j] = value\n",
        "  \n",
        "  return my_list"
      ],
      "execution_count": 24,
      "outputs": []
    },
    {
      "cell_type": "code",
      "metadata": {
        "id": "oPO9OfgcJvNt",
        "colab_type": "code",
        "colab": {
          "base_uri": "https://localhost:8080/",
          "height": 34
        },
        "outputId": "6c2c80be-f3b7-46dc-add8-5a94c843139b"
      },
      "source": [
        "test = [70,24,87,45,6,3,2,8,5]\n",
        "print(bubble_sort(test))"
      ],
      "execution_count": 25,
      "outputs": [
        {
          "output_type": "stream",
          "text": [
            "[2, 3, 5, 6, 8, 24, 45, 70, 87]\n"
          ],
          "name": "stdout"
        }
      ]
    }
  ]
}